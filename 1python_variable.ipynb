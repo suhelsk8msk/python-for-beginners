{
 "cells": [
  {
   "cell_type": "code",
   "execution_count": 3,
   "id": "a328f6d7-fa50-41eb-84c7-4c753b89a72e",
   "metadata": {},
   "outputs": [],
   "source": [
    "a = 1"
   ]
  },
  {
   "cell_type": "code",
   "execution_count": 4,
   "id": "39405281-13e6-4e30-a6c9-41e0bb8fa613",
   "metadata": {},
   "outputs": [
    {
     "data": {
      "text/plain": [
       "1"
      ]
     },
     "execution_count": 4,
     "metadata": {},
     "output_type": "execute_result"
    }
   ],
   "source": [
    "a"
   ]
  },
  {
   "cell_type": "code",
   "execution_count": 8,
   "id": "3fc94ce4-d213-45fe-9532-9a01096e3635",
   "metadata": {},
   "outputs": [
    {
     "data": {
      "text/plain": [
       "int"
      ]
     },
     "execution_count": 8,
     "metadata": {},
     "output_type": "execute_result"
    }
   ],
   "source": [
    "type(a) #integer data type"
   ]
  },
  {
   "cell_type": "code",
   "execution_count": 6,
   "id": "0f0b3600-10e7-46db-b348-e12fe51468af",
   "metadata": {},
   "outputs": [],
   "source": [
    "b = \"sudh\""
   ]
  },
  {
   "cell_type": "code",
   "execution_count": 9,
   "id": "c0ab0e3c-535c-48a2-aa2e-957f308dc48d",
   "metadata": {},
   "outputs": [
    {
     "data": {
      "text/plain": [
       "str"
      ]
     },
     "execution_count": 9,
     "metadata": {},
     "output_type": "execute_result"
    }
   ],
   "source": [
    "type(b) #string data type"
   ]
  },
  {
   "cell_type": "code",
   "execution_count": 10,
   "id": "7b5adfb8-650a-4c07-8d0c-f02dbb3b14f9",
   "metadata": {},
   "outputs": [],
   "source": [
    "c = 45.56"
   ]
  },
  {
   "cell_type": "code",
   "execution_count": 11,
   "id": "0733c946-81e0-4b96-aec4-8b5c4f6d3a4b",
   "metadata": {},
   "outputs": [
    {
     "data": {
      "text/plain": [
       "float"
      ]
     },
     "execution_count": 11,
     "metadata": {},
     "output_type": "execute_result"
    }
   ],
   "source": [
    "type(c)  #float data type"
   ]
  },
  {
   "cell_type": "code",
   "execution_count": 12,
   "id": "fe0053d0-40b1-48d0-986d-2bb586b9b498",
   "metadata": {},
   "outputs": [],
   "source": [
    "# = (Assigninig operator)"
   ]
  },
  {
   "cell_type": "code",
   "execution_count": 13,
   "id": "74b9c820-353b-4cab-9968-13246f5e475d",
   "metadata": {},
   "outputs": [],
   "source": [
    "msk = 765"
   ]
  },
  {
   "cell_type": "code",
   "execution_count": 14,
   "id": "4d437693-1e76-4c65-ac7f-d637b1d73367",
   "metadata": {},
   "outputs": [
    {
     "data": {
      "text/plain": [
       "int"
      ]
     },
     "execution_count": 14,
     "metadata": {},
     "output_type": "execute_result"
    }
   ],
   "source": [
    "type(msk) "
   ]
  },
  {
   "cell_type": "code",
   "execution_count": 15,
   "id": "2b8cb36c-0b2e-4587-bb8c-e14e77808ed3",
   "metadata": {},
   "outputs": [],
   "source": [
    "d = True"
   ]
  },
  {
   "cell_type": "code",
   "execution_count": 16,
   "id": "864cc60c-0ff3-42ed-9174-2cfb07888e1a",
   "metadata": {},
   "outputs": [
    {
     "data": {
      "text/plain": [
       "bool"
      ]
     },
     "execution_count": 16,
     "metadata": {},
     "output_type": "execute_result"
    }
   ],
   "source": [
    "type(d) # boolean variable"
   ]
  },
  {
   "cell_type": "code",
   "execution_count": 17,
   "id": "26058dde-ce4b-4e62-915d-d8b3740462ed",
   "metadata": {},
   "outputs": [],
   "source": [
    "# Default Boolean Values '''  True = 1, False = 0"
   ]
  },
  {
   "cell_type": "code",
   "execution_count": 18,
   "id": "8901e211-71af-4fc5-a869-66a8e45bcf99",
   "metadata": {},
   "outputs": [],
   "source": [
    "e = False"
   ]
  },
  {
   "cell_type": "code",
   "execution_count": 19,
   "id": "6e79042c-6978-4f03-b93f-2a11f596edc4",
   "metadata": {},
   "outputs": [
    {
     "data": {
      "text/plain": [
       "2"
      ]
     },
     "execution_count": 19,
     "metadata": {},
     "output_type": "execute_result"
    }
   ],
   "source": [
    "True + True"
   ]
  },
  {
   "cell_type": "code",
   "execution_count": 20,
   "id": "5bd86be7-29ed-4a8a-9c4a-22bf3f1cb6d6",
   "metadata": {},
   "outputs": [
    {
     "data": {
      "text/plain": [
       "1"
      ]
     },
     "execution_count": 20,
     "metadata": {},
     "output_type": "execute_result"
    }
   ],
   "source": [
    "True + False"
   ]
  },
  {
   "cell_type": "code",
   "execution_count": 21,
   "id": "92d91726-2aca-484b-9d5a-8f040a7ce64a",
   "metadata": {},
   "outputs": [
    {
     "data": {
      "text/plain": [
       "0"
      ]
     },
     "execution_count": 21,
     "metadata": {},
     "output_type": "execute_result"
    }
   ],
   "source": [
    "False + False "
   ]
  },
  {
   "cell_type": "code",
   "execution_count": 22,
   "id": "c9054012-b674-44d2-a2b7-784c50b95ee1",
   "metadata": {},
   "outputs": [
    {
     "data": {
      "text/plain": [
       "1"
      ]
     },
     "execution_count": 22,
     "metadata": {},
     "output_type": "execute_result"
    }
   ],
   "source": [
    "True - False"
   ]
  },
  {
   "cell_type": "code",
   "execution_count": 23,
   "id": "062ccc2f-ebb9-493f-82ec-ae56a8f8fb19",
   "metadata": {},
   "outputs": [
    {
     "data": {
      "text/plain": [
       "0"
      ]
     },
     "execution_count": 23,
     "metadata": {},
     "output_type": "execute_result"
    }
   ],
   "source": [
    "True * False"
   ]
  },
  {
   "cell_type": "code",
   "execution_count": 24,
   "id": "0b9341ed-fbc2-404a-8372-412d6711ded8",
   "metadata": {},
   "outputs": [
    {
     "ename": "ZeroDivisionError",
     "evalue": "division by zero",
     "output_type": "error",
     "traceback": [
      "\u001b[0;31m---------------------------------------------------------------------------\u001b[0m",
      "\u001b[0;31mZeroDivisionError\u001b[0m                         Traceback (most recent call last)",
      "Cell \u001b[0;32mIn[24], line 1\u001b[0m\n\u001b[0;32m----> 1\u001b[0m \u001b[38;5;28;43;01mTrue\u001b[39;49;00m\u001b[43m \u001b[49m\u001b[38;5;241;43m/\u001b[39;49m\u001b[43m \u001b[49m\u001b[38;5;28;43;01mFalse\u001b[39;49;00m\n",
      "\u001b[0;31mZeroDivisionError\u001b[0m: division by zero"
     ]
    }
   ],
   "source": [
    "True / False"
   ]
  },
  {
   "cell_type": "code",
   "execution_count": 25,
   "id": "f570a356-ca4c-4822-ba87-a2fe1308536c",
   "metadata": {},
   "outputs": [
    {
     "data": {
      "text/plain": [
       "0.0"
      ]
     },
     "execution_count": 25,
     "metadata": {},
     "output_type": "execute_result"
    }
   ],
   "source": [
    "False / True"
   ]
  },
  {
   "cell_type": "code",
   "execution_count": 26,
   "id": "4844857f-64f2-432a-8ea0-0cb5e49b89ab",
   "metadata": {},
   "outputs": [],
   "source": [
    "f = 5 +4j # (Complex No.) = Real(5) + Imaginary (4j)"
   ]
  },
  {
   "cell_type": "code",
   "execution_count": 27,
   "id": "318cab86-b639-4d8f-af88-067855dbfaab",
   "metadata": {},
   "outputs": [
    {
     "data": {
      "text/plain": [
       "complex"
      ]
     },
     "execution_count": 27,
     "metadata": {},
     "output_type": "execute_result"
    }
   ],
   "source": [
    "type(f)"
   ]
  },
  {
   "cell_type": "code",
   "execution_count": 28,
   "id": "72250114-46e9-42b8-b08d-9f37fb0b117e",
   "metadata": {},
   "outputs": [],
   "source": [
    "g = 7j"
   ]
  },
  {
   "cell_type": "code",
   "execution_count": 31,
   "id": "1cf82eed-bc86-4ba0-92fa-720af10d5c21",
   "metadata": {},
   "outputs": [
    {
     "data": {
      "text/plain": [
       "complex"
      ]
     },
     "execution_count": 31,
     "metadata": {},
     "output_type": "execute_result"
    }
   ],
   "source": [
    "type(g)"
   ]
  },
  {
   "cell_type": "code",
   "execution_count": 32,
   "id": "a82543f4-128f-48b3-b6cf-ebe6295d49eb",
   "metadata": {},
   "outputs": [],
   "source": [
    "# Variable names never declares by special characters...except underscore(_)"
   ]
  },
  {
   "cell_type": "code",
   "execution_count": 34,
   "id": "3ce55894-4ebe-42e7-a24c-1d9dff51b108",
   "metadata": {},
   "outputs": [
    {
     "data": {
      "text/plain": [
       "(5+4j)"
      ]
     },
     "execution_count": 34,
     "metadata": {},
     "output_type": "execute_result"
    }
   ],
   "source": [
    "f    # how to seperate real and imaginary numbers from complex numbers"
   ]
  },
  {
   "cell_type": "code",
   "execution_count": 35,
   "id": "081dcd65-972e-4a86-b45b-e112fb632bc1",
   "metadata": {},
   "outputs": [
    {
     "data": {
      "text/plain": [
       "5.0"
      ]
     },
     "execution_count": 35,
     "metadata": {},
     "output_type": "execute_result"
    }
   ],
   "source": [
    "f.real"
   ]
  },
  {
   "cell_type": "code",
   "execution_count": 37,
   "id": "14c035a0-8129-415f-a971-0efd2e24adbd",
   "metadata": {},
   "outputs": [
    {
     "data": {
      "text/plain": [
       "4.0"
      ]
     },
     "execution_count": 37,
     "metadata": {},
     "output_type": "execute_result"
    }
   ],
   "source": [
    "f.imag"
   ]
  },
  {
   "cell_type": "code",
   "execution_count": null,
   "id": "0b457f05-d75a-443d-b93d-8f6106ae97c4",
   "metadata": {},
   "outputs": [],
   "source": []
  }
 ],
 "metadata": {
  "kernelspec": {
   "display_name": "Python 3 (ipykernel)",
   "language": "python",
   "name": "python3"
  },
  "language_info": {
   "codemirror_mode": {
    "name": "ipython",
    "version": 3
   },
   "file_extension": ".py",
   "mimetype": "text/x-python",
   "name": "python",
   "nbconvert_exporter": "python",
   "pygments_lexer": "ipython3",
   "version": "3.10.8"
  }
 },
 "nbformat": 4,
 "nbformat_minor": 5
}
