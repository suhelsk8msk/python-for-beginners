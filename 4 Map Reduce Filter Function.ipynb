{
 "cells": [
  {
   "cell_type": "code",
   "execution_count": 1,
   "id": "b7b1e2af-cbfe-4b99-9972-8b7a926e3e45",
   "metadata": {},
   "outputs": [],
   "source": [
    "# Map,Reduce,Filter Function"
   ]
  },
  {
   "cell_type": "code",
   "execution_count": 2,
   "id": "4a525721-0e01-4d9a-8c7b-64a7b5dadc62",
   "metadata": {},
   "outputs": [],
   "source": [
    "l = [2,3,4,5,6]"
   ]
  },
  {
   "cell_type": "code",
   "execution_count": 7,
   "id": "b28a8c83-65ed-490d-b42b-e496cbc58e8a",
   "metadata": {},
   "outputs": [],
   "source": [
    "def test(l):\n",
    "    l1 =[]\n",
    "    for i in l:\n",
    "        l1.append(i**2)\n",
    "    return l1"
   ]
  },
  {
   "cell_type": "code",
   "execution_count": 8,
   "id": "867e7a1e-10ad-4d8a-b18b-87fb4d2e8dc7",
   "metadata": {},
   "outputs": [
    {
     "data": {
      "text/plain": [
       "[4, 9, 16, 25, 36]"
      ]
     },
     "execution_count": 8,
     "metadata": {},
     "output_type": "execute_result"
    }
   ],
   "source": [
    "test(l)"
   ]
  },
  {
   "cell_type": "code",
   "execution_count": 9,
   "id": "a372fd12-2ea3-4b4d-93cc-ed418bbe6637",
   "metadata": {},
   "outputs": [],
   "source": [
    "# map(func, *iterables) --> map object"
   ]
  },
  {
   "cell_type": "code",
   "execution_count": 15,
   "id": "066c2589-dc22-4612-ba59-b35bee352434",
   "metadata": {},
   "outputs": [],
   "source": [
    "def sq(x):                       # square func\n",
    "    return x**2"
   ]
  },
  {
   "cell_type": "code",
   "execution_count": 14,
   "id": "673a4123-20e8-466d-acd1-4c6513f65472",
   "metadata": {},
   "outputs": [
    {
     "data": {
      "text/plain": [
       "[2, 3, 4, 5, 6]"
      ]
     },
     "execution_count": 14,
     "metadata": {},
     "output_type": "execute_result"
    }
   ],
   "source": [
    "l"
   ]
  },
  {
   "cell_type": "code",
   "execution_count": 12,
   "id": "6961d4c0-4b06-42cd-8389-507571daf577",
   "metadata": {},
   "outputs": [
    {
     "data": {
      "text/plain": [
       "<map at 0x7f9c2c2d2d40>"
      ]
     },
     "execution_count": 12,
     "metadata": {},
     "output_type": "execute_result"
    }
   ],
   "source": [
    "map(sq,l)"
   ]
  },
  {
   "cell_type": "code",
   "execution_count": 13,
   "id": "4f71a55e-5fab-482b-a5c6-2e4a213d1b21",
   "metadata": {},
   "outputs": [
    {
     "data": {
      "text/plain": [
       "[4, 9, 16, 25, 36]"
      ]
     },
     "execution_count": 13,
     "metadata": {},
     "output_type": "execute_result"
    }
   ],
   "source": [
    "list(map(sq,l))"
   ]
  },
  {
   "cell_type": "code",
   "execution_count": 16,
   "id": "8ce6a91b-0ea9-423e-ac53-10ffcbc14a51",
   "metadata": {},
   "outputs": [
    {
     "data": {
      "text/plain": [
       "<map at 0x7f9c2c316590>"
      ]
     },
     "execution_count": 16,
     "metadata": {},
     "output_type": "execute_result"
    }
   ],
   "source": [
    "map(lambda x : x**2 ,l)"
   ]
  },
  {
   "cell_type": "code",
   "execution_count": 17,
   "id": "6cf43186-47b1-4598-b730-dde2c56ee1a0",
   "metadata": {},
   "outputs": [
    {
     "data": {
      "text/plain": [
       "[4, 9, 16, 25, 36]"
      ]
     },
     "execution_count": 17,
     "metadata": {},
     "output_type": "execute_result"
    }
   ],
   "source": [
    "list(map(lambda x : x**2 ,l))"
   ]
  },
  {
   "cell_type": "code",
   "execution_count": 19,
   "id": "af04c284-85db-4ec5-92b0-3a9632955d17",
   "metadata": {},
   "outputs": [
    {
     "data": {
      "text/plain": [
       "[7, 9, 11, 13, 15]"
      ]
     },
     "execution_count": 19,
     "metadata": {},
     "output_type": "execute_result"
    }
   ],
   "source": [
    "l1 = [1,2,3,4,5]  # adding two list \n",
    "l2 = [6,7,8,9,10]\n",
    "list(map(lambda x , y : x+y, l1,l2))"
   ]
  },
  {
   "cell_type": "code",
   "execution_count": 20,
   "id": "c41bd129-2860-4757-9b45-22e256eb436a",
   "metadata": {},
   "outputs": [],
   "source": [
    "def add(x,y):\n",
    "    return x + y"
   ]
  },
  {
   "cell_type": "code",
   "execution_count": 21,
   "id": "1dffb8e6-fa14-45bb-8ce3-63309c7e44ed",
   "metadata": {},
   "outputs": [
    {
     "data": {
      "text/plain": [
       "[7, 9, 11, 13, 15]"
      ]
     },
     "execution_count": 21,
     "metadata": {},
     "output_type": "execute_result"
    }
   ],
   "source": [
    "list(map(add, l1, l2))"
   ]
  },
  {
   "cell_type": "code",
   "execution_count": 23,
   "id": "c2545e09-17be-46ef-9aeb-c20ce823e787",
   "metadata": {},
   "outputs": [
    {
     "data": {
      "text/plain": [
       "['S', 'U', 'H', 'A', 'I', 'L']"
      ]
     },
     "execution_count": 23,
     "metadata": {},
     "output_type": "execute_result"
    }
   ],
   "source": [
    "s = \"suhail\"   # upper case using map function\n",
    "list(map(lambda s : s.upper() ,s))\n"
   ]
  },
  {
   "cell_type": "code",
   "execution_count": 24,
   "id": "d3bd0898-e852-4523-98d3-7e4317f48459",
   "metadata": {},
   "outputs": [],
   "source": [
    "# Reduce Func"
   ]
  },
  {
   "cell_type": "code",
   "execution_count": 25,
   "id": "91a949ce-721f-45a7-8140-1de5b7de8da4",
   "metadata": {},
   "outputs": [],
   "source": [
    "from functools import reduce"
   ]
  },
  {
   "cell_type": "code",
   "execution_count": 28,
   "id": "4e305bfc-277d-48c5-ba56-f17662dee81e",
   "metadata": {},
   "outputs": [],
   "source": [
    "l = [1,2,3,4,5]  # add all elements inside the list"
   ]
  },
  {
   "cell_type": "code",
   "execution_count": 27,
   "id": "3727f8e3-e26c-4fef-8ec9-f1fce77710ec",
   "metadata": {},
   "outputs": [
    {
     "data": {
      "text/plain": [
       "15"
      ]
     },
     "execution_count": 27,
     "metadata": {},
     "output_type": "execute_result"
    }
   ],
   "source": [
    "reduce(lambda x , y : x + y , l)"
   ]
  },
  {
   "cell_type": "code",
   "execution_count": 30,
   "id": "df85c053-d4a3-4a9f-883d-3a79312e1e9f",
   "metadata": {},
   "outputs": [
    {
     "ename": "TypeError",
     "evalue": "<lambda>() missing 1 required positional argument: 'c'",
     "output_type": "error",
     "traceback": [
      "\u001b[0;31m---------------------------------------------------------------------------\u001b[0m",
      "\u001b[0;31mTypeError\u001b[0m                                 Traceback (most recent call last)",
      "Cell \u001b[0;32mIn[30], line 1\u001b[0m\n\u001b[0;32m----> 1\u001b[0m \u001b[43mreduce\u001b[49m\u001b[43m(\u001b[49m\u001b[38;5;28;43;01mlambda\u001b[39;49;00m\u001b[43m \u001b[49m\u001b[43mx\u001b[49m\u001b[43m \u001b[49m\u001b[43m,\u001b[49m\u001b[43m \u001b[49m\u001b[43my\u001b[49m\u001b[43m \u001b[49m\u001b[43m,\u001b[49m\u001b[43mc\u001b[49m\u001b[43m \u001b[49m\u001b[43m:\u001b[49m\u001b[43m \u001b[49m\u001b[43mx\u001b[49m\u001b[43m \u001b[49m\u001b[38;5;241;43m+\u001b[39;49m\u001b[43m \u001b[49m\u001b[43my\u001b[49m\u001b[43m \u001b[49m\u001b[38;5;241;43m+\u001b[39;49m\u001b[43m \u001b[49m\u001b[43mz\u001b[49m\u001b[43m \u001b[49m\u001b[43m,\u001b[49m\u001b[43m \u001b[49m\u001b[43ml\u001b[49m\u001b[43m)\u001b[49m \u001b[38;5;66;03m# only two parameter pass\u001b[39;00m\n",
      "\u001b[0;31mTypeError\u001b[0m: <lambda>() missing 1 required positional argument: 'c'"
     ]
    }
   ],
   "source": [
    "reduce(lambda x , y ,c : x + y + z , l) # only two parameter pass"
   ]
  },
  {
   "cell_type": "code",
   "execution_count": 32,
   "id": "9fa4929f-0667-4164-aa96-b8390f26d599",
   "metadata": {},
   "outputs": [
    {
     "ename": "TypeError",
     "evalue": "reduce() of empty iterable with no initial value",
     "output_type": "error",
     "traceback": [
      "\u001b[0;31m---------------------------------------------------------------------------\u001b[0m",
      "\u001b[0;31mTypeError\u001b[0m                                 Traceback (most recent call last)",
      "Cell \u001b[0;32mIn[32], line 1\u001b[0m\n\u001b[0;32m----> 1\u001b[0m \u001b[43mreduce\u001b[49m\u001b[43m(\u001b[49m\u001b[38;5;28;43;01mlambda\u001b[39;49;00m\u001b[43m \u001b[49m\u001b[43mx\u001b[49m\u001b[43m \u001b[49m\u001b[43m,\u001b[49m\u001b[43m \u001b[49m\u001b[43my\u001b[49m\u001b[43m \u001b[49m\u001b[43m:\u001b[49m\u001b[43m \u001b[49m\u001b[43mx\u001b[49m\u001b[38;5;241;43m+\u001b[39;49m\u001b[43my\u001b[49m\u001b[43m \u001b[49m\u001b[43m,\u001b[49m\u001b[43m \u001b[49m\u001b[43m[\u001b[49m\u001b[43m]\u001b[49m\u001b[43m)\u001b[49m   \u001b[38;5;66;03m#reduce() of empty iterable with no initial value\u001b[39;00m\n",
      "\u001b[0;31mTypeError\u001b[0m: reduce() of empty iterable with no initial value"
     ]
    }
   ],
   "source": [
    "reduce(lambda x , y : x+y , [])   #reduce() of empty iterable with no initial value"
   ]
  },
  {
   "cell_type": "code",
   "execution_count": 33,
   "id": "902b0704-3be6-45cb-aa61-20d1c2eb0ae3",
   "metadata": {},
   "outputs": [
    {
     "data": {
      "text/plain": [
       "1"
      ]
     },
     "execution_count": 33,
     "metadata": {},
     "output_type": "execute_result"
    }
   ],
   "source": [
    "\n",
    "reduce(lambda x , y : x+y , [1])"
   ]
  },
  {
   "cell_type": "code",
   "execution_count": 34,
   "id": "3ba11e97-ae8a-47b9-963e-02c1174b001d",
   "metadata": {},
   "outputs": [
    {
     "data": {
      "text/plain": [
       "120"
      ]
     },
     "execution_count": 34,
     "metadata": {},
     "output_type": "execute_result"
    }
   ],
   "source": [
    "\n",
    "reduce(lambda x , y : x*y , l)"
   ]
  },
  {
   "cell_type": "code",
   "execution_count": 35,
   "id": "11e47369-5592-40a5-a616-a4ca98ba004c",
   "metadata": {},
   "outputs": [
    {
     "data": {
      "text/plain": [
       "[1, 2, 3, 4, 5]"
      ]
     },
     "execution_count": 35,
     "metadata": {},
     "output_type": "execute_result"
    }
   ],
   "source": [
    "l"
   ]
  },
  {
   "cell_type": "code",
   "execution_count": 36,
   "id": "4182029e-facc-4d5f-83b0-fa47c63c51e4",
   "metadata": {},
   "outputs": [
    {
     "data": {
      "text/plain": [
       "5"
      ]
     },
     "execution_count": 36,
     "metadata": {},
     "output_type": "execute_result"
    }
   ],
   "source": [
    "reduce(lambda x,y : x if x>y else y , l)"
   ]
  },
  {
   "cell_type": "code",
   "execution_count": 37,
   "id": "3c6a161b-a061-401e-825e-168ae72236f3",
   "metadata": {},
   "outputs": [
    {
     "data": {
      "text/plain": [
       "[2, 4]"
      ]
     },
     "execution_count": 37,
     "metadata": {},
     "output_type": "execute_result"
    }
   ],
   "source": [
    "list(filter(lambda x : x%2 == 0 ,l))  #even value extract from list"
   ]
  },
  {
   "cell_type": "code",
   "execution_count": 38,
   "id": "71b0689b-4f31-4abc-a327-246f7ab24155",
   "metadata": {},
   "outputs": [
    {
     "data": {
      "text/plain": [
       "[1, 3, 5]"
      ]
     },
     "execution_count": 38,
     "metadata": {},
     "output_type": "execute_result"
    }
   ],
   "source": [
    "list(filter(lambda x : x%2 != 0 ,l))"
   ]
  },
  {
   "cell_type": "code",
   "execution_count": 39,
   "id": "08444537-a9c2-4ae2-af1b-f656445b35a7",
   "metadata": {},
   "outputs": [],
   "source": [
    "l1 = [-3,4,5,-4,-5,-6]"
   ]
  },
  {
   "cell_type": "code",
   "execution_count": 40,
   "id": "3d36bb3d-7bf0-4c27-b677-56b6f9df2d84",
   "metadata": {},
   "outputs": [
    {
     "data": {
      "text/plain": [
       "[-3, -4, -5, -6]"
      ]
     },
     "execution_count": 40,
     "metadata": {},
     "output_type": "execute_result"
    }
   ],
   "source": [
    "list(filter(lambda x : x<2  ,l1))"
   ]
  },
  {
   "cell_type": "code",
   "execution_count": 41,
   "id": "3f773d1a-269c-4ef6-aeba-6a7d04f20f6b",
   "metadata": {},
   "outputs": [],
   "source": [
    "l2 = [\"msk\",\"suhail\",\"password\",\"class\"]"
   ]
  },
  {
   "cell_type": "code",
   "execution_count": 42,
   "id": "7916e305-e8f5-4223-9ff2-e04b6baa169a",
   "metadata": {},
   "outputs": [
    {
     "data": {
      "text/plain": [
       "['msk', 'suhail', 'password', 'class']"
      ]
     },
     "execution_count": 42,
     "metadata": {},
     "output_type": "execute_result"
    }
   ],
   "source": [
    "l2"
   ]
  },
  {
   "cell_type": "code",
   "execution_count": 43,
   "id": "d88f19da-8f89-4a30-8486-75dd07e48976",
   "metadata": {},
   "outputs": [
    {
     "data": {
      "text/plain": [
       "['msk', 'class']"
      ]
     },
     "execution_count": 43,
     "metadata": {},
     "output_type": "execute_result"
    }
   ],
   "source": [
    "list(filter(lambda x : len(x)<6  ,l2))"
   ]
  },
  {
   "cell_type": "code",
   "execution_count": null,
   "id": "ce99f762-07c3-4269-943a-b57b6b61ab62",
   "metadata": {},
   "outputs": [],
   "source": []
  }
 ],
 "metadata": {
  "kernelspec": {
   "display_name": "Python 3 (ipykernel)",
   "language": "python",
   "name": "python3"
  },
  "language_info": {
   "codemirror_mode": {
    "name": "ipython",
    "version": 3
   },
   "file_extension": ".py",
   "mimetype": "text/x-python",
   "name": "python",
   "nbconvert_exporter": "python",
   "pygments_lexer": "ipython3",
   "version": "3.10.8"
  }
 },
 "nbformat": 4,
 "nbformat_minor": 5
}
