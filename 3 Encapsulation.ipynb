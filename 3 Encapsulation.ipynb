{
 "cells": [
  {
   "cell_type": "markdown",
   "id": "2dac80d0-9c26-47be-95f0-a5638080e4d7",
   "metadata": {},
   "source": [
    "Encapsulation - "
   ]
  },
  {
   "cell_type": "code",
   "execution_count": 1,
   "id": "1cb77b0e-e953-4d03-a26b-00a4237614f0",
   "metadata": {},
   "outputs": [],
   "source": [
    "class test:\n",
    "    def __init__(self, a,b):\n",
    "        self.a = a\n",
    "        self.b = b"
   ]
  },
  {
   "cell_type": "code",
   "execution_count": 2,
   "id": "839aa1dc-69b9-4a11-8128-d877b471ef0c",
   "metadata": {},
   "outputs": [],
   "source": [
    "t = test(23,24)"
   ]
  },
  {
   "cell_type": "code",
   "execution_count": 3,
   "id": "21e248b0-dbdd-4653-9e7e-0fae057ec257",
   "metadata": {},
   "outputs": [
    {
     "data": {
      "text/plain": [
       "23"
      ]
     },
     "execution_count": 3,
     "metadata": {},
     "output_type": "execute_result"
    }
   ],
   "source": [
    "t.a"
   ]
  },
  {
   "cell_type": "code",
   "execution_count": 4,
   "id": "283cdf07-67b7-42f5-9c94-e29e02136d74",
   "metadata": {},
   "outputs": [],
   "source": [
    "t.a = 23454"
   ]
  },
  {
   "cell_type": "code",
   "execution_count": 5,
   "id": "44dae2b6-6b65-4760-9b92-9287fe04bb3a",
   "metadata": {},
   "outputs": [
    {
     "data": {
      "text/plain": [
       "23454"
      ]
     },
     "execution_count": 5,
     "metadata": {},
     "output_type": "execute_result"
    }
   ],
   "source": [
    "t.a"
   ]
  },
  {
   "cell_type": "code",
   "execution_count": 6,
   "id": "c498a0f8-f5fd-4eb1-8373-47022790b0bb",
   "metadata": {},
   "outputs": [],
   "source": [
    "#encapsulation - Hiding the code"
   ]
  },
  {
   "cell_type": "markdown",
   "id": "eb31583f-87f9-4ea3-abca-56bb0aa99364",
   "metadata": {},
   "source": [
    "Example 2:"
   ]
  },
  {
   "cell_type": "code",
   "execution_count": 9,
   "id": "ecbe6b7b-ff1b-4cbc-be40-6f3c132b1b34",
   "metadata": {},
   "outputs": [],
   "source": [
    "class car :\n",
    "    def __init__(self, year, made_in, model, speed):\n",
    "        self.__year = year\n",
    "        self.__made_in = made_in\n",
    "        self.__model = model\n",
    "        self.__speed = 0"
   ]
  },
  {
   "cell_type": "code",
   "execution_count": 10,
   "id": "18d7c0ff-f86c-4a01-98ee-f59023d8a9e1",
   "metadata": {},
   "outputs": [],
   "source": [
    "c = car(2002, \"toyota\", \"innova\", 12)"
   ]
  },
  {
   "cell_type": "code",
   "execution_count": 11,
   "id": "fe32cd0c-c19a-44a3-a19f-5cbed8923599",
   "metadata": {},
   "outputs": [
    {
     "data": {
      "text/plain": [
       "2002"
      ]
     },
     "execution_count": 11,
     "metadata": {},
     "output_type": "execute_result"
    }
   ],
   "source": [
    "c._car__year"
   ]
  },
  {
   "cell_type": "code",
   "execution_count": 12,
   "id": "5b9f12ff-b9db-4164-8415-6c2718abc770",
   "metadata": {},
   "outputs": [
    {
     "data": {
      "text/plain": [
       "'toyota'"
      ]
     },
     "execution_count": 12,
     "metadata": {},
     "output_type": "execute_result"
    }
   ],
   "source": [
    "c._car__made_in"
   ]
  },
  {
   "cell_type": "code",
   "execution_count": 13,
   "id": "94edd381-4a65-4fcc-9ae2-175fd65a1205",
   "metadata": {},
   "outputs": [
    {
     "data": {
      "text/plain": [
       "'innova'"
      ]
     },
     "execution_count": 13,
     "metadata": {},
     "output_type": "execute_result"
    }
   ],
   "source": [
    "c._car__model"
   ]
  },
  {
   "cell_type": "code",
   "execution_count": 14,
   "id": "4c93c098-7630-4c08-a714-a63a8dc8c685",
   "metadata": {},
   "outputs": [
    {
     "data": {
      "text/plain": [
       "0"
      ]
     },
     "execution_count": 14,
     "metadata": {},
     "output_type": "execute_result"
    }
   ],
   "source": [
    "c._car__speed"
   ]
  },
  {
   "cell_type": "code",
   "execution_count": 16,
   "id": "31e41334-59d8-49e3-b71a-33cf48fec561",
   "metadata": {},
   "outputs": [],
   "source": [
    "class car :\n",
    "    def __init__(self, year, made_in, model, speed):\n",
    "        self.__year = year\n",
    "        self.__made_in = made_in\n",
    "        self.__model = model\n",
    "        self.__speed = 0\n",
    "    \n",
    "    def set_speed(self,speed):\n",
    "        self.__speed = 0 if speed <0 else speed\n",
    "        \n",
    "    def get_speed(self):\n",
    "        return self.__speed"
   ]
  },
  {
   "cell_type": "code",
   "execution_count": 17,
   "id": "f81b0be1-a8fa-4887-8989-7e56fc4e19f4",
   "metadata": {},
   "outputs": [],
   "source": [
    "c = car(2002, \"toyota\", \"innova\", 12)"
   ]
  },
  {
   "cell_type": "code",
   "execution_count": 18,
   "id": "3d0fd2a8-3b83-40a4-9a88-75dd353f780c",
   "metadata": {},
   "outputs": [],
   "source": [
    "c.set_speed(-2343)"
   ]
  },
  {
   "cell_type": "code",
   "execution_count": 19,
   "id": "f41b0580-7b18-4ee4-b33f-7df1a5d0da95",
   "metadata": {},
   "outputs": [
    {
     "data": {
      "text/plain": [
       "0"
      ]
     },
     "execution_count": 19,
     "metadata": {},
     "output_type": "execute_result"
    }
   ],
   "source": [
    "c.get_speed()"
   ]
  },
  {
   "cell_type": "code",
   "execution_count": 20,
   "id": "0a844d51-a6e0-4203-937d-c14c3b9f54b4",
   "metadata": {},
   "outputs": [],
   "source": [
    "c.set_speed(233)"
   ]
  },
  {
   "cell_type": "code",
   "execution_count": 21,
   "id": "7f2886bd-cbca-4297-9205-ee66b155c253",
   "metadata": {},
   "outputs": [
    {
     "data": {
      "text/plain": [
       "233"
      ]
     },
     "execution_count": 21,
     "metadata": {},
     "output_type": "execute_result"
    }
   ],
   "source": [
    "c.get_speed()"
   ]
  },
  {
   "cell_type": "markdown",
   "id": "39e6f9da-c040-4299-8282-8f50c485c1f9",
   "metadata": {},
   "source": [
    "Example 2"
   ]
  },
  {
   "cell_type": "code",
   "execution_count": 24,
   "id": "91e1b003-2ac1-4d8e-8778-a5fecd92cb63",
   "metadata": {},
   "outputs": [],
   "source": [
    "class bank_account:\n",
    "    def __init__(self, balance):\n",
    "        self.__balance = balance\n",
    "    \n",
    "    def deposite(self, amount):\n",
    "        self.__balance = self.__balance + amount\n",
    "        \n",
    "    def withdraw(self, amount):\n",
    "        if self.__balance >= amount :\n",
    "            self.__balance = self.__balance - amount\n",
    "            return True\n",
    "        else:\n",
    "            return False\n",
    "        \n",
    "    def get_balance(self):\n",
    "        return self.__balance"
   ]
  },
  {
   "cell_type": "code",
   "execution_count": 25,
   "id": "bc5dc0d6-fd85-4492-b5fe-e8d53181bab6",
   "metadata": {},
   "outputs": [],
   "source": [
    "sudh = bank_account(1000)"
   ]
  },
  {
   "cell_type": "code",
   "execution_count": 26,
   "id": "66abb805-ed3d-403f-aec2-200d4392bf98",
   "metadata": {},
   "outputs": [
    {
     "data": {
      "text/plain": [
       "1000"
      ]
     },
     "execution_count": 26,
     "metadata": {},
     "output_type": "execute_result"
    }
   ],
   "source": [
    "sudh.get_balance()"
   ]
  },
  {
   "cell_type": "code",
   "execution_count": 27,
   "id": "0cbc585e-2c31-4e13-b1c1-3c918e25bca8",
   "metadata": {},
   "outputs": [],
   "source": [
    "sudh.deposite(25000)"
   ]
  },
  {
   "cell_type": "code",
   "execution_count": 28,
   "id": "190be81d-7529-41d7-825a-bed0809abc4f",
   "metadata": {},
   "outputs": [
    {
     "data": {
      "text/plain": [
       "26000"
      ]
     },
     "execution_count": 28,
     "metadata": {},
     "output_type": "execute_result"
    }
   ],
   "source": [
    "sudh.get_balance()"
   ]
  },
  {
   "cell_type": "code",
   "execution_count": 29,
   "id": "96affd5e-b4d4-42dc-945b-9d74e0803abf",
   "metadata": {},
   "outputs": [
    {
     "data": {
      "text/plain": [
       "True"
      ]
     },
     "execution_count": 29,
     "metadata": {},
     "output_type": "execute_result"
    }
   ],
   "source": [
    "sudh.withdraw(15000)"
   ]
  },
  {
   "cell_type": "code",
   "execution_count": 30,
   "id": "f67cfc34-b39a-423e-86bb-c2b62e491c32",
   "metadata": {},
   "outputs": [
    {
     "data": {
      "text/plain": [
       "11000"
      ]
     },
     "execution_count": 30,
     "metadata": {},
     "output_type": "execute_result"
    }
   ],
   "source": [
    "sudh.get_balance()"
   ]
  },
  {
   "cell_type": "code",
   "execution_count": 31,
   "id": "e18b99ed-50cf-428a-98bd-80a145a13a9c",
   "metadata": {},
   "outputs": [
    {
     "data": {
      "text/plain": [
       "False"
      ]
     },
     "execution_count": 31,
     "metadata": {},
     "output_type": "execute_result"
    }
   ],
   "source": [
    "sudh.withdraw(500000)"
   ]
  },
  {
   "cell_type": "code",
   "execution_count": 32,
   "id": "96203339-52a2-4de0-abb0-b3643135b68c",
   "metadata": {},
   "outputs": [
    {
     "data": {
      "text/plain": [
       "11000"
      ]
     },
     "execution_count": 32,
     "metadata": {},
     "output_type": "execute_result"
    }
   ],
   "source": [
    "sudh.get_balance()"
   ]
  },
  {
   "cell_type": "code",
   "execution_count": null,
   "id": "9327e10a-16c5-4903-8dd5-0706ec332027",
   "metadata": {},
   "outputs": [],
   "source": []
  }
 ],
 "metadata": {
  "kernelspec": {
   "display_name": "Python 3 (ipykernel)",
   "language": "python",
   "name": "python3"
  },
  "language_info": {
   "codemirror_mode": {
    "name": "ipython",
    "version": 3
   },
   "file_extension": ".py",
   "mimetype": "text/x-python",
   "name": "python",
   "nbconvert_exporter": "python",
   "pygments_lexer": "ipython3",
   "version": "3.10.8"
  }
 },
 "nbformat": 4,
 "nbformat_minor": 5
}
