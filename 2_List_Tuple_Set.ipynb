{
 "cells": [
  {
   "cell_type": "code",
   "execution_count": 22,
   "id": "19c32593-049d-417e-9703-c7fca2a4a892",
   "metadata": {},
   "outputs": [],
   "source": [
    "l = [1,23,45,\"msk\",4+5j,23.45,True]     # list is similiar than string in terms of indexing"
   ]
  },
  {
   "cell_type": "code",
   "execution_count": 2,
   "id": "f9f7c745-70b9-4417-8c79-13dcf18b1f01",
   "metadata": {},
   "outputs": [
    {
     "data": {
      "text/plain": [
       "list"
      ]
     },
     "execution_count": 2,
     "metadata": {},
     "output_type": "execute_result"
    }
   ],
   "source": [
    "type(l)"
   ]
  },
  {
   "cell_type": "code",
   "execution_count": 3,
   "id": "a2706593-c71a-49a1-9c50-7810e89730b5",
   "metadata": {},
   "outputs": [
    {
     "data": {
      "text/plain": [
       "1"
      ]
     },
     "execution_count": 3,
     "metadata": {},
     "output_type": "execute_result"
    }
   ],
   "source": [
    "l[0]"
   ]
  },
  {
   "cell_type": "code",
   "execution_count": 4,
   "id": "cbf38404-63e3-4395-8aca-366b7fb383d9",
   "metadata": {},
   "outputs": [
    {
     "data": {
      "text/plain": [
       "'msk'"
      ]
     },
     "execution_count": 4,
     "metadata": {},
     "output_type": "execute_result"
    }
   ],
   "source": [
    "l[3]"
   ]
  },
  {
   "cell_type": "code",
   "execution_count": 5,
   "id": "b792e24d-6d42-4506-bf8d-e72147c4b09d",
   "metadata": {},
   "outputs": [
    {
     "ename": "IndexError",
     "evalue": "list index out of range",
     "output_type": "error",
     "traceback": [
      "\u001b[0;31m---------------------------------------------------------------------------\u001b[0m",
      "\u001b[0;31mIndexError\u001b[0m                                Traceback (most recent call last)",
      "Cell \u001b[0;32mIn[5], line 1\u001b[0m\n\u001b[0;32m----> 1\u001b[0m \u001b[43ml\u001b[49m\u001b[43m[\u001b[49m\u001b[38;5;241;43m90\u001b[39;49m\u001b[43m]\u001b[49m\n",
      "\u001b[0;31mIndexError\u001b[0m: list index out of range"
     ]
    }
   ],
   "source": [
    "l[90]"
   ]
  },
  {
   "cell_type": "code",
   "execution_count": 6,
   "id": "19ca82ff-6d5d-4f20-8afe-92ac816692b5",
   "metadata": {},
   "outputs": [
    {
     "data": {
      "text/plain": [
       "[1, 23, 45]"
      ]
     },
     "execution_count": 6,
     "metadata": {},
     "output_type": "execute_result"
    }
   ],
   "source": [
    "l[0:3]"
   ]
  },
  {
   "cell_type": "code",
   "execution_count": 7,
   "id": "70aa1efc-a3fe-4666-ad5b-e877dac2ac05",
   "metadata": {},
   "outputs": [
    {
     "data": {
      "text/plain": [
       "23.45"
      ]
     },
     "execution_count": 7,
     "metadata": {},
     "output_type": "execute_result"
    }
   ],
   "source": [
    "l[-1]"
   ]
  },
  {
   "cell_type": "code",
   "execution_count": 23,
   "id": "4c2b656d-cd22-490d-b1b0-8b091f62889e",
   "metadata": {},
   "outputs": [
    {
     "data": {
      "text/plain": [
       "[True, 23.45, (4+5j), 'msk', 45, 23, 1]"
      ]
     },
     "execution_count": 23,
     "metadata": {},
     "output_type": "execute_result"
    }
   ],
   "source": [
    "l[::-1]  # reverse the list "
   ]
  },
  {
   "cell_type": "code",
   "execution_count": 24,
   "id": "bd9e5b68-2fb3-47de-a100-9e8da3d1bae0",
   "metadata": {},
   "outputs": [
    {
     "data": {
      "text/plain": [
       "[1, 23, 45, 'msk', (4+5j), 23.45, True]"
      ]
     },
     "execution_count": 24,
     "metadata": {},
     "output_type": "execute_result"
    }
   ],
   "source": [
    "l"
   ]
  },
  {
   "cell_type": "code",
   "execution_count": 10,
   "id": "c728651e-3477-442a-a567-837c42828d26",
   "metadata": {},
   "outputs": [
    {
     "data": {
      "text/plain": [
       "[1, 45, (4+5j)]"
      ]
     },
     "execution_count": 10,
     "metadata": {},
     "output_type": "execute_result"
    }
   ],
   "source": [
    "l[::2]  # jump 2 // even position data extraction from list"
   ]
  },
  {
   "cell_type": "code",
   "execution_count": 11,
   "id": "9470f342-42dd-4740-af31-af1cea9ad3b2",
   "metadata": {},
   "outputs": [],
   "source": [
    "s = \"pwskills\""
   ]
  },
  {
   "cell_type": "code",
   "execution_count": 13,
   "id": "512abc88-1c16-4567-a0b1-a2d3c389f3bf",
   "metadata": {},
   "outputs": [
    {
     "ename": "TypeError",
     "evalue": "can only concatenate list (not \"str\") to list",
     "output_type": "error",
     "traceback": [
      "\u001b[0;31m---------------------------------------------------------------------------\u001b[0m",
      "\u001b[0;31mTypeError\u001b[0m                                 Traceback (most recent call last)",
      "Cell \u001b[0;32mIn[13], line 1\u001b[0m\n\u001b[0;32m----> 1\u001b[0m \u001b[43ml\u001b[49m\u001b[43m \u001b[49m\u001b[38;5;241;43m+\u001b[39;49m\u001b[43m \u001b[49m\u001b[43ms\u001b[49m   \u001b[38;5;66;03m# different data types does not concatinate\u001b[39;00m\n",
      "\u001b[0;31mTypeError\u001b[0m: can only concatenate list (not \"str\") to list"
     ]
    }
   ],
   "source": [
    "l + s   # different data types does not concatinate"
   ]
  },
  {
   "cell_type": "code",
   "execution_count": 14,
   "id": "1ffc5efc-32ef-49b0-9a4d-b74276ab41df",
   "metadata": {},
   "outputs": [
    {
     "data": {
      "text/plain": [
       "['p', 'w', 's', 'k', 'i', 'l', 'l', 's']"
      ]
     },
     "execution_count": 14,
     "metadata": {},
     "output_type": "execute_result"
    }
   ],
   "source": [
    "list(s)"
   ]
  },
  {
   "cell_type": "code",
   "execution_count": 25,
   "id": "b72f5cb3-6d68-4196-b981-fd41c5fd0cc7",
   "metadata": {},
   "outputs": [
    {
     "data": {
      "text/plain": [
       "[1, 23, 45, 'msk', (4+5j), 23.45, True, 'p', 'w', 's', 'k', 'i', 'l', 'l', 's']"
      ]
     },
     "execution_count": 25,
     "metadata": {},
     "output_type": "execute_result"
    }
   ],
   "source": [
    "l + list(s)"
   ]
  },
  {
   "cell_type": "code",
   "execution_count": 26,
   "id": "d7b88bd9-665d-4a69-85df-4bd09ce0d3fb",
   "metadata": {},
   "outputs": [
    {
     "data": {
      "text/plain": [
       "['p', 'w', 's', 'k', 'i', 'l', 'l', 's', 1, 23, 45, 'msk', (4+5j), 23.45, True]"
      ]
     },
     "execution_count": 26,
     "metadata": {},
     "output_type": "execute_result"
    }
   ],
   "source": [
    "list(s) + l"
   ]
  },
  {
   "cell_type": "code",
   "execution_count": 27,
   "id": "dd283e38-5254-4c6b-8d4a-d73b493778a0",
   "metadata": {},
   "outputs": [
    {
     "data": {
      "text/plain": [
       "[1, 23, 45, 'msk', (4+5j), 23.45, True]"
      ]
     },
     "execution_count": 27,
     "metadata": {},
     "output_type": "execute_result"
    }
   ],
   "source": [
    "l"
   ]
  },
  {
   "cell_type": "code",
   "execution_count": 18,
   "id": "83c3ac5d-9c80-4c06-84f0-84271da06f1c",
   "metadata": {},
   "outputs": [
    {
     "data": {
      "text/plain": [
       "'msk'"
      ]
     },
     "execution_count": 18,
     "metadata": {},
     "output_type": "execute_result"
    }
   ],
   "source": [
    "l[3]"
   ]
  },
  {
   "cell_type": "code",
   "execution_count": 19,
   "id": "586afdfb-3691-44f5-a224-fb987b06538d",
   "metadata": {},
   "outputs": [
    {
     "data": {
      "text/plain": [
       "'ms'"
      ]
     },
     "execution_count": 19,
     "metadata": {},
     "output_type": "execute_result"
    }
   ],
   "source": [
    "l[3][0:2]"
   ]
  },
  {
   "cell_type": "code",
   "execution_count": 28,
   "id": "ca6c7f8a-ca44-4002-aeae-8ef2cb5807da",
   "metadata": {},
   "outputs": [
    {
     "data": {
      "text/plain": [
       "True"
      ]
     },
     "execution_count": 28,
     "metadata": {},
     "output_type": "execute_result"
    }
   ],
   "source": [
    "l[6]"
   ]
  },
  {
   "cell_type": "code",
   "execution_count": 30,
   "id": "3d6c851f-e4b3-43d5-b8d2-7b048c5813f2",
   "metadata": {},
   "outputs": [
    {
     "data": {
      "text/plain": [
       "'True'"
      ]
     },
     "execution_count": 30,
     "metadata": {},
     "output_type": "execute_result"
    }
   ],
   "source": [
    "str(l[6])    # typecast boolean as a string & then can extract the letter from inside"
   ]
  },
  {
   "cell_type": "code",
   "execution_count": 32,
   "id": "354a1bf4-b6e8-406d-8463-148767cb9a78",
   "metadata": {},
   "outputs": [
    {
     "data": {
      "text/plain": [
       "'Tru'"
      ]
     },
     "execution_count": 32,
     "metadata": {},
     "output_type": "execute_result"
    }
   ],
   "source": [
    "str(l[6])[0:3]"
   ]
  },
  {
   "cell_type": "code",
   "execution_count": 33,
   "id": "955a2ca2-43c8-4034-92f7-e7ffa91593d5",
   "metadata": {},
   "outputs": [
    {
     "data": {
      "text/plain": [
       "'Tr'"
      ]
     },
     "execution_count": 33,
     "metadata": {},
     "output_type": "execute_result"
    }
   ],
   "source": [
    "str(l[6])[0:2]"
   ]
  },
  {
   "cell_type": "code",
   "execution_count": 34,
   "id": "232bedb8-eaa4-4ca3-b883-a9f8dfab8b8f",
   "metadata": {},
   "outputs": [],
   "source": [
    "l1 = [3,4,5]"
   ]
  },
  {
   "cell_type": "code",
   "execution_count": 35,
   "id": "08da282c-b676-484e-bdcf-45f74fd0002f",
   "metadata": {},
   "outputs": [
    {
     "data": {
      "text/plain": [
       "[1, 23, 45, 'msk', (4+5j), 23.45, True, 3, 4, 5]"
      ]
     },
     "execution_count": 35,
     "metadata": {},
     "output_type": "execute_result"
    }
   ],
   "source": [
    "l + l1 # can append list and list"
   ]
  },
  {
   "cell_type": "code",
   "execution_count": 36,
   "id": "ff8d0d86-6e49-430b-855b-535dc6336941",
   "metadata": {},
   "outputs": [
    {
     "data": {
      "text/plain": [
       "[3, 4, 5, 3, 4, 5, 3, 4, 5]"
      ]
     },
     "execution_count": 36,
     "metadata": {},
     "output_type": "execute_result"
    }
   ],
   "source": [
    "l1 * 3"
   ]
  },
  {
   "cell_type": "code",
   "execution_count": 37,
   "id": "a39e8041-cb9c-4b4e-a3cd-600a82087c5b",
   "metadata": {},
   "outputs": [
    {
     "data": {
      "text/plain": [
       "3"
      ]
     },
     "execution_count": 37,
     "metadata": {},
     "output_type": "execute_result"
    }
   ],
   "source": [
    "# no. of element inside the list\n",
    "len(l1)"
   ]
  },
  {
   "cell_type": "code",
   "execution_count": 38,
   "id": "48fbc6be-08f2-47ae-a0a7-231822fb0eeb",
   "metadata": {},
   "outputs": [
    {
     "data": {
      "text/plain": [
       "7"
      ]
     },
     "execution_count": 38,
     "metadata": {},
     "output_type": "execute_result"
    }
   ],
   "source": [
    "len(l)"
   ]
  },
  {
   "cell_type": "code",
   "execution_count": 44,
   "id": "2da4ae4e-1659-4bad-91a3-266733827012",
   "metadata": {},
   "outputs": [],
   "source": [
    "l.append(False) # append is used for append the data at last index in the list"
   ]
  },
  {
   "cell_type": "code",
   "execution_count": 40,
   "id": "126497f8-6377-444e-bb3c-0f03523f6062",
   "metadata": {},
   "outputs": [
    {
     "data": {
      "text/plain": [
       "[1, 23, 45, 'msk', (4+5j), 23.45, True, False]"
      ]
     },
     "execution_count": 40,
     "metadata": {},
     "output_type": "execute_result"
    }
   ],
   "source": [
    "l"
   ]
  },
  {
   "cell_type": "code",
   "execution_count": 41,
   "id": "7b27d131-c65f-4949-928a-e28dac2dfac3",
   "metadata": {},
   "outputs": [],
   "source": [
    "s = \"msk\""
   ]
  },
  {
   "cell_type": "code",
   "execution_count": 42,
   "id": "634c2a23-1da9-422e-8d02-ad255da9f39f",
   "metadata": {},
   "outputs": [
    {
     "ename": "AttributeError",
     "evalue": "'str' object has no attribute 'append'",
     "output_type": "error",
     "traceback": [
      "\u001b[0;31m---------------------------------------------------------------------------\u001b[0m",
      "\u001b[0;31mAttributeError\u001b[0m                            Traceback (most recent call last)",
      "Cell \u001b[0;32mIn[42], line 1\u001b[0m\n\u001b[0;32m----> 1\u001b[0m \u001b[43ms\u001b[49m\u001b[38;5;241;43m.\u001b[39;49m\u001b[43mappend\u001b[49m(\u001b[38;5;124m\"\u001b[39m\u001b[38;5;124mms\u001b[39m\u001b[38;5;124m\"\u001b[39m)\n",
      "\u001b[0;31mAttributeError\u001b[0m: 'str' object has no attribute 'append'"
     ]
    }
   ],
   "source": [
    "s.append(\"ms\")  #'str' object has no attribute 'append'"
   ]
  },
  {
   "cell_type": "code",
   "execution_count": 43,
   "id": "8ff3ba4f-d36f-439c-8817-c42e36d2236c",
   "metadata": {},
   "outputs": [],
   "source": [
    "# variable_name.\"tab_button\" = shows all the availble method inside the function\n",
    "# variable_name.func() shift + enter = shows info about func what does it do exactly"
   ]
  },
  {
   "cell_type": "code",
   "execution_count": 45,
   "id": "8227e15d-9bf6-466b-9246-0ef174d57073",
   "metadata": {},
   "outputs": [],
   "source": [
    "l.append(l1)"
   ]
  },
  {
   "cell_type": "code",
   "execution_count": 46,
   "id": "b6e0eeff-193e-4d6e-9435-a1922dc97ef1",
   "metadata": {},
   "outputs": [
    {
     "data": {
      "text/plain": [
       "[1, 23, 45, 'msk', (4+5j), 23.45, True, False, False, [3, 4, 5]]"
      ]
     },
     "execution_count": 46,
     "metadata": {},
     "output_type": "execute_result"
    }
   ],
   "source": [
    "l"
   ]
  },
  {
   "cell_type": "code",
   "execution_count": 49,
   "id": "2a085f38-9dc0-402a-b5ab-c9bca060115c",
   "metadata": {},
   "outputs": [
    {
     "data": {
      "text/plain": [
       "4"
      ]
     },
     "execution_count": 49,
     "metadata": {},
     "output_type": "execute_result"
    }
   ],
   "source": [
    "l[9][1]"
   ]
  },
  {
   "cell_type": "code",
   "execution_count": 50,
   "id": "1c017c33-f094-48e1-82aa-b3d1981117d1",
   "metadata": {},
   "outputs": [
    {
     "data": {
      "text/plain": [
       "4"
      ]
     },
     "execution_count": 50,
     "metadata": {},
     "output_type": "execute_result"
    }
   ],
   "source": [
    "l[-1][1]"
   ]
  },
  {
   "cell_type": "code",
   "execution_count": 51,
   "id": "182ed8f2-0380-4360-9e6a-c556bf35b3c6",
   "metadata": {},
   "outputs": [
    {
     "ename": "TypeError",
     "evalue": "'int' object is not iterable",
     "output_type": "error",
     "traceback": [
      "\u001b[0;31m---------------------------------------------------------------------------\u001b[0m",
      "\u001b[0;31mTypeError\u001b[0m                                 Traceback (most recent call last)",
      "Cell \u001b[0;32mIn[51], line 1\u001b[0m\n\u001b[0;32m----> 1\u001b[0m \u001b[43ml\u001b[49m\u001b[38;5;241;43m.\u001b[39;49m\u001b[43mextend\u001b[49m\u001b[43m(\u001b[49m\u001b[38;5;241;43m4\u001b[39;49m\u001b[43m)\u001b[49m\n",
      "\u001b[0;31mTypeError\u001b[0m: 'int' object is not iterable"
     ]
    }
   ],
   "source": [
    "l.extend(4)  #TypeError: 'int' object is not iterable"
   ]
  },
  {
   "cell_type": "code",
   "execution_count": 52,
   "id": "6696a858-8557-4bd5-af76-03ea4dea6bbe",
   "metadata": {},
   "outputs": [],
   "source": [
    "l.extend(\"suhel\")   # iterable means data inside data// int i.e. 432 does not follow indexing"
   ]
  },
  {
   "cell_type": "code",
   "execution_count": 53,
   "id": "558582ef-f4a8-4aee-bef8-a2596ad74344",
   "metadata": {},
   "outputs": [
    {
     "data": {
      "text/plain": [
       "[1,\n",
       " 23,\n",
       " 45,\n",
       " 'msk',\n",
       " (4+5j),\n",
       " 23.45,\n",
       " True,\n",
       " False,\n",
       " False,\n",
       " [3, 4, 5],\n",
       " 's',\n",
       " 'u',\n",
       " 'h',\n",
       " 'e',\n",
       " 'l']"
      ]
     },
     "execution_count": 53,
     "metadata": {},
     "output_type": "execute_result"
    }
   ],
   "source": [
    "l"
   ]
  },
  {
   "cell_type": "code",
   "execution_count": 54,
   "id": "e6aa91a5-afec-4ce4-bdcc-34d23c14b3a6",
   "metadata": {},
   "outputs": [],
   "source": [
    "l.extend([4,5,6])"
   ]
  },
  {
   "cell_type": "code",
   "execution_count": 55,
   "id": "d4cbbf5e-f2f1-49be-829e-5fde3282b26f",
   "metadata": {},
   "outputs": [
    {
     "data": {
      "text/plain": [
       "[1,\n",
       " 23,\n",
       " 45,\n",
       " 'msk',\n",
       " (4+5j),\n",
       " 23.45,\n",
       " True,\n",
       " False,\n",
       " False,\n",
       " [3, 4, 5],\n",
       " 's',\n",
       " 'u',\n",
       " 'h',\n",
       " 'e',\n",
       " 'l',\n",
       " 4,\n",
       " 5,\n",
       " 6]"
      ]
     },
     "execution_count": 55,
     "metadata": {},
     "output_type": "execute_result"
    }
   ],
   "source": [
    "l"
   ]
  },
  {
   "cell_type": "code",
   "execution_count": 56,
   "id": "7d0b6788-2523-4381-bcf5-636ae4f8a87c",
   "metadata": {},
   "outputs": [],
   "source": [
    "# append try to keep dat as it is but append will unwrap the data and then store"
   ]
  },
  {
   "cell_type": "code",
   "execution_count": 57,
   "id": "1ec4a55a-7656-42be-9bc8-3391d7a49f79",
   "metadata": {},
   "outputs": [
    {
     "data": {
      "text/plain": [
       "[3, 4, 5]"
      ]
     },
     "execution_count": 57,
     "metadata": {},
     "output_type": "execute_result"
    }
   ],
   "source": [
    "l1"
   ]
  },
  {
   "cell_type": "code",
   "execution_count": 62,
   "id": "f6e1e3f7-5aed-4d28-b239-c03017e31efe",
   "metadata": {},
   "outputs": [],
   "source": [
    "#add data at desired index use insert // but append and extend insert the data at last index\n",
    "l1.insert(1,\"sudh\")"
   ]
  },
  {
   "cell_type": "code",
   "execution_count": 59,
   "id": "fd412c81-eef0-48d4-9937-b695037b842c",
   "metadata": {},
   "outputs": [
    {
     "data": {
      "text/plain": [
       "[3, 'sudh', 4, 5]"
      ]
     },
     "execution_count": 59,
     "metadata": {},
     "output_type": "execute_result"
    }
   ],
   "source": [
    "l1"
   ]
  },
  {
   "cell_type": "code",
   "execution_count": 60,
   "id": "6c13f2b2-1844-46d2-8eb4-1a529bc4e4dd",
   "metadata": {},
   "outputs": [],
   "source": [
    "l1.insert(3,[2, 4,5.6])"
   ]
  },
  {
   "cell_type": "code",
   "execution_count": 61,
   "id": "40fd986b-8117-4670-860e-dc7dc3e09c7f",
   "metadata": {},
   "outputs": [
    {
     "data": {
      "text/plain": [
       "[3, 'sudh', 4, [2, 4, 5.6], 5]"
      ]
     },
     "execution_count": 61,
     "metadata": {},
     "output_type": "execute_result"
    }
   ],
   "source": [
    "l1"
   ]
  },
  {
   "cell_type": "code",
   "execution_count": 63,
   "id": "50bf6c05-0876-4aaa-9704-c43c3151e3d5",
   "metadata": {},
   "outputs": [],
   "source": [
    "l1.insert(-1,45)"
   ]
  },
  {
   "cell_type": "code",
   "execution_count": 64,
   "id": "696836ba-2a40-4341-bcba-cc2990024d67",
   "metadata": {},
   "outputs": [
    {
     "data": {
      "text/plain": [
       "[3, 'sudh', 'sudh', 4, [2, 4, 5.6], 45, 5]"
      ]
     },
     "execution_count": 64,
     "metadata": {},
     "output_type": "execute_result"
    }
   ],
   "source": [
    "l1"
   ]
  },
  {
   "cell_type": "code",
   "execution_count": 68,
   "id": "3a77edcc-6f9b-41c9-87b4-12a43a612ab5",
   "metadata": {},
   "outputs": [
    {
     "data": {
      "text/plain": [
       "45"
      ]
     },
     "execution_count": 68,
     "metadata": {},
     "output_type": "execute_result"
    }
   ],
   "source": [
    "# DATA EXTRACTIoN & DATA DELETION INSIDE THE LIST\n",
    "l1.pop()"
   ]
  },
  {
   "cell_type": "code",
   "execution_count": 67,
   "id": "f0610c08-1846-4fc4-b09f-e1e76b7bc605",
   "metadata": {},
   "outputs": [
    {
     "data": {
      "text/plain": [
       "[3, 'sudh', 'sudh', 4, [2, 4, 5.6], 45]"
      ]
     },
     "execution_count": 67,
     "metadata": {},
     "output_type": "execute_result"
    }
   ],
   "source": [
    "l1 # 5 removed from list // pop remove the data from -1 index bydefault //if u want to remove desired index then pass the parameter as index"
   ]
  },
  {
   "cell_type": "code",
   "execution_count": 69,
   "id": "e406de9e-26ca-4305-8f4b-bc2362172865",
   "metadata": {},
   "outputs": [
    {
     "data": {
      "text/plain": [
       "[2, 4, 5.6]"
      ]
     },
     "execution_count": 69,
     "metadata": {},
     "output_type": "execute_result"
    }
   ],
   "source": [
    "l1.pop()"
   ]
  },
  {
   "cell_type": "code",
   "execution_count": 70,
   "id": "211998e6-fe78-4262-8752-5f8852d062bc",
   "metadata": {},
   "outputs": [
    {
     "data": {
      "text/plain": [
       "[3, 'sudh', 'sudh', 4]"
      ]
     },
     "execution_count": 70,
     "metadata": {},
     "output_type": "execute_result"
    }
   ],
   "source": [
    "l1"
   ]
  },
  {
   "cell_type": "code",
   "execution_count": 71,
   "id": "06db0a64-44ef-458b-ada1-e251de9ad6a9",
   "metadata": {},
   "outputs": [
    {
     "data": {
      "text/plain": [
       "4"
      ]
     },
     "execution_count": 71,
     "metadata": {},
     "output_type": "execute_result"
    }
   ],
   "source": [
    "l1.pop()"
   ]
  },
  {
   "cell_type": "code",
   "execution_count": 76,
   "id": "2f9fa51a-17c6-476c-b7b0-19d260bdb25b",
   "metadata": {},
   "outputs": [
    {
     "data": {
      "text/plain": [
       "'sudh'"
      ]
     },
     "execution_count": 76,
     "metadata": {},
     "output_type": "execute_result"
    }
   ],
   "source": [
    "l1.pop(1)  # removed desired index"
   ]
  },
  {
   "cell_type": "code",
   "execution_count": 77,
   "id": "f6643e8c-da03-4173-a6c3-4b45d44776a3",
   "metadata": {},
   "outputs": [
    {
     "data": {
      "text/plain": [
       "[3]"
      ]
     },
     "execution_count": 77,
     "metadata": {},
     "output_type": "execute_result"
    }
   ],
   "source": [
    "l1"
   ]
  },
  {
   "cell_type": "code",
   "execution_count": 78,
   "id": "fa7da18a-fa9c-4d0a-b8ea-ea2cf72d7cf5",
   "metadata": {},
   "outputs": [
    {
     "data": {
      "text/plain": [
       "3"
      ]
     },
     "execution_count": 78,
     "metadata": {},
     "output_type": "execute_result"
    }
   ],
   "source": [
    "l1.pop()"
   ]
  },
  {
   "cell_type": "code",
   "execution_count": 80,
   "id": "559619f2-02d5-4065-bba7-fa2fa81ec612",
   "metadata": {},
   "outputs": [
    {
     "data": {
      "text/plain": [
       "[]"
      ]
     },
     "execution_count": 80,
     "metadata": {},
     "output_type": "execute_result"
    }
   ],
   "source": [
    "l1  # finally all data deleted from list l1"
   ]
  },
  {
   "cell_type": "code",
   "execution_count": 81,
   "id": "09e1ffb0-b33b-4318-93a8-403739ed9990",
   "metadata": {},
   "outputs": [],
   "source": [
    "l1.append(\"suhail\")"
   ]
  },
  {
   "cell_type": "code",
   "execution_count": 82,
   "id": "8dfd199e-5230-42af-8e11-015137f6676d",
   "metadata": {},
   "outputs": [
    {
     "data": {
      "text/plain": [
       "['suhail']"
      ]
     },
     "execution_count": 82,
     "metadata": {},
     "output_type": "execute_result"
    }
   ],
   "source": [
    "l1"
   ]
  },
  {
   "cell_type": "code",
   "execution_count": 83,
   "id": "be4d54c1-8845-462d-9e88-ad8ad9eef8bd",
   "metadata": {},
   "outputs": [],
   "source": [
    "l1.extend(\"msk\")"
   ]
  },
  {
   "cell_type": "code",
   "execution_count": 84,
   "id": "087cdce0-cd82-4cc4-9cc8-5487df753206",
   "metadata": {},
   "outputs": [
    {
     "data": {
      "text/plain": [
       "['suhail', 'm', 's', 'k']"
      ]
     },
     "execution_count": 84,
     "metadata": {},
     "output_type": "execute_result"
    }
   ],
   "source": [
    "l1"
   ]
  },
  {
   "cell_type": "code",
   "execution_count": 87,
   "id": "0b5af1e9-c6c0-4037-b511-3f3864bd91be",
   "metadata": {},
   "outputs": [],
   "source": [
    "l1.insert(1, 34)"
   ]
  },
  {
   "cell_type": "code",
   "execution_count": 88,
   "id": "4e96bb0d-c500-4558-b243-6f138b192c6a",
   "metadata": {},
   "outputs": [
    {
     "data": {
      "text/plain": [
       "['suhail', 34, 'm', 's', 34, 'k']"
      ]
     },
     "execution_count": 88,
     "metadata": {},
     "output_type": "execute_result"
    }
   ],
   "source": [
    "l1"
   ]
  },
  {
   "cell_type": "code",
   "execution_count": 89,
   "id": "a73a170a-ef54-4130-b547-6cbfc0e481e4",
   "metadata": {},
   "outputs": [
    {
     "ename": "TypeError",
     "evalue": "pop expected at most 1 argument, got 3",
     "output_type": "error",
     "traceback": [
      "\u001b[0;31m---------------------------------------------------------------------------\u001b[0m",
      "\u001b[0;31mTypeError\u001b[0m                                 Traceback (most recent call last)",
      "Cell \u001b[0;32mIn[89], line 1\u001b[0m\n\u001b[0;32m----> 1\u001b[0m \u001b[43ml1\u001b[49m\u001b[38;5;241;43m.\u001b[39;49m\u001b[43mpop\u001b[49m\u001b[43m(\u001b[49m\u001b[38;5;241;43m2\u001b[39;49m\u001b[43m,\u001b[49m\u001b[38;5;241;43m3\u001b[39;49m\u001b[43m,\u001b[49m\u001b[38;5;241;43m5\u001b[39;49m\u001b[43m)\u001b[49m\n",
      "\u001b[0;31mTypeError\u001b[0m: pop expected at most 1 argument, got 3"
     ]
    }
   ],
   "source": [
    "l1.pop(2,3,5) #pop will remove only 1 argument at a time"
   ]
  },
  {
   "cell_type": "code",
   "execution_count": 94,
   "id": "47702f67-f753-42fd-b901-0dd10e340a11",
   "metadata": {},
   "outputs": [],
   "source": [
    "l1.remove('s') #Remove first occurrence of value // pass the direct value as argument"
   ]
  },
  {
   "cell_type": "code",
   "execution_count": 95,
   "id": "ad3fa242-5deb-4a88-aa46-f537f2373cf2",
   "metadata": {},
   "outputs": [
    {
     "data": {
      "text/plain": [
       "['suhail', 34, 34, 'k']"
      ]
     },
     "execution_count": 95,
     "metadata": {},
     "output_type": "execute_result"
    }
   ],
   "source": [
    "l1"
   ]
  },
  {
   "cell_type": "code",
   "execution_count": 96,
   "id": "3b579d16-cb9b-46c8-9d88-7be75d9baa55",
   "metadata": {},
   "outputs": [
    {
     "ename": "ValueError",
     "evalue": "list.remove(x): x not in list",
     "output_type": "error",
     "traceback": [
      "\u001b[0;31m---------------------------------------------------------------------------\u001b[0m",
      "\u001b[0;31mValueError\u001b[0m                                Traceback (most recent call last)",
      "Cell \u001b[0;32mIn[96], line 1\u001b[0m\n\u001b[0;32m----> 1\u001b[0m \u001b[43ml1\u001b[49m\u001b[38;5;241;43m.\u001b[39;49m\u001b[43mremove\u001b[49m\u001b[43m(\u001b[49m\u001b[38;5;241;43m333\u001b[39;49m\u001b[43m)\u001b[49m\n",
      "\u001b[0;31mValueError\u001b[0m: list.remove(x): x not in list"
     ]
    }
   ],
   "source": [
    "l1.remove(333)   # list.remove(x): x not in list"
   ]
  },
  {
   "cell_type": "code",
   "execution_count": 98,
   "id": "494b3378-a981-4d7b-8df0-6956744cb6b0",
   "metadata": {},
   "outputs": [],
   "source": [
    "str = \"msk\""
   ]
  },
  {
   "cell_type": "code",
   "execution_count": 99,
   "id": "937df76e-5e55-4bba-b3da-589b03ede749",
   "metadata": {},
   "outputs": [
    {
     "data": {
      "text/plain": [
       "'msk'"
      ]
     },
     "execution_count": 99,
     "metadata": {},
     "output_type": "execute_result"
    }
   ],
   "source": [
    "str"
   ]
  },
  {
   "cell_type": "code",
   "execution_count": 104,
   "id": "e2715114-1a64-469f-b2be-8dea28d9d0a3",
   "metadata": {},
   "outputs": [
    {
     "ename": "TypeError",
     "evalue": "'str' object does not support item assignment",
     "output_type": "error",
     "traceback": [
      "\u001b[0;31m---------------------------------------------------------------------------\u001b[0m",
      "\u001b[0;31mTypeError\u001b[0m                                 Traceback (most recent call last)",
      "Cell \u001b[0;32mIn[104], line 1\u001b[0m\n\u001b[0;32m----> 1\u001b[0m \u001b[43ms\u001b[49m\u001b[43m[\u001b[49m\u001b[38;5;241;43m0\u001b[39;49m\u001b[43m]\u001b[49m \u001b[38;5;241m=\u001b[39m \u001b[38;5;124m'\u001b[39m\u001b[38;5;124ma\u001b[39m\u001b[38;5;124m'\u001b[39m \u001b[38;5;66;03m#'str' object does not support item assignment // string is immutable // it doesn't support index assignment\u001b[39;00m\n",
      "\u001b[0;31mTypeError\u001b[0m: 'str' object does not support item assignment"
     ]
    }
   ],
   "source": [
    "s[0] = 'a' #'str' object does not support item assignment // string is immutable // it doesn't support index assignment"
   ]
  },
  {
   "cell_type": "code",
   "execution_count": 101,
   "id": "94eaa133-1242-45d5-bb0d-5e8df0fa9d41",
   "metadata": {},
   "outputs": [
    {
     "data": {
      "text/plain": [
       "['suhail', 34, 34, 'k']"
      ]
     },
     "execution_count": 101,
     "metadata": {},
     "output_type": "execute_result"
    }
   ],
   "source": [
    "l1"
   ]
  },
  {
   "cell_type": "code",
   "execution_count": 102,
   "id": "0830f5e8-888d-4c69-8e01-db7bc5ecc613",
   "metadata": {},
   "outputs": [],
   "source": [
    "l1[0] = 87"
   ]
  },
  {
   "cell_type": "code",
   "execution_count": 103,
   "id": "7cee20fb-6bfa-43e1-934b-a8dbc10f1557",
   "metadata": {},
   "outputs": [
    {
     "data": {
      "text/plain": [
       "[87, 34, 34, 'k']"
      ]
     },
     "execution_count": 103,
     "metadata": {},
     "output_type": "execute_result"
    }
   ],
   "source": [
    "l1"
   ]
  },
  {
   "cell_type": "code",
   "execution_count": 105,
   "id": "fc9351ec-ece1-462f-a541-814cbb3b919a",
   "metadata": {},
   "outputs": [
    {
     "data": {
      "text/plain": [
       "'mak'"
      ]
     },
     "execution_count": 105,
     "metadata": {},
     "output_type": "execute_result"
    }
   ],
   "source": [
    "s.replace('s','a')  # stores at new memory location but does not change original data"
   ]
  },
  {
   "cell_type": "code",
   "execution_count": 106,
   "id": "b17e7e8b-73ab-4676-939c-eb1c2affe87d",
   "metadata": {},
   "outputs": [
    {
     "data": {
      "text/plain": [
       "'msk'"
      ]
     },
     "execution_count": 106,
     "metadata": {},
     "output_type": "execute_result"
    }
   ],
   "source": [
    "s"
   ]
  },
  {
   "cell_type": "code",
   "execution_count": 107,
   "id": "a6349fa0-4f58-4cee-b1f1-bcac3a0418f2",
   "metadata": {},
   "outputs": [],
   "source": [
    "# Tuples\n",
    "t = (1,3,3.4,\"msk\",True,4+3j,[3,4,\"a\"])"
   ]
  },
  {
   "cell_type": "code",
   "execution_count": 108,
   "id": "2e2122c5-8cfc-4063-bdbd-ce3bca614f2d",
   "metadata": {},
   "outputs": [
    {
     "data": {
      "text/plain": [
       "(1, 3, 3.4, 'msk', True, (4+3j), [3, 4, 'a'])"
      ]
     },
     "execution_count": 108,
     "metadata": {},
     "output_type": "execute_result"
    }
   ],
   "source": [
    "t"
   ]
  },
  {
   "cell_type": "code",
   "execution_count": 110,
   "id": "c2e6b950-2c25-4a29-9d31-8708d5ebffbb",
   "metadata": {},
   "outputs": [
    {
     "data": {
      "text/plain": [
       "[87, 34, 34, 'k']"
      ]
     },
     "execution_count": 110,
     "metadata": {},
     "output_type": "execute_result"
    }
   ],
   "source": [
    "l1"
   ]
  },
  {
   "cell_type": "code",
   "execution_count": 111,
   "id": "d793b7f7-6653-4737-bae5-54f3718784a4",
   "metadata": {},
   "outputs": [],
   "source": [
    "l1[1] = \"msk\""
   ]
  },
  {
   "cell_type": "code",
   "execution_count": 112,
   "id": "d8930027-a705-45da-a796-111fc2ad0a0e",
   "metadata": {},
   "outputs": [
    {
     "data": {
      "text/plain": [
       "[87, 'msk', 34, 'k']"
      ]
     },
     "execution_count": 112,
     "metadata": {},
     "output_type": "execute_result"
    }
   ],
   "source": [
    "l1"
   ]
  },
  {
   "cell_type": "code",
   "execution_count": 114,
   "id": "c7692b27-8e53-4f7e-9d7f-b7523436d38a",
   "metadata": {},
   "outputs": [
    {
     "ename": "TypeError",
     "evalue": "'tuple' object does not support item assignment",
     "output_type": "error",
     "traceback": [
      "\u001b[0;31m---------------------------------------------------------------------------\u001b[0m",
      "\u001b[0;31mTypeError\u001b[0m                                 Traceback (most recent call last)",
      "Cell \u001b[0;32mIn[114], line 1\u001b[0m\n\u001b[0;32m----> 1\u001b[0m \u001b[43mt\u001b[49m\u001b[43m[\u001b[49m\u001b[38;5;241;43m2\u001b[39;49m\u001b[43m]\u001b[49m \u001b[38;5;241m=\u001b[39m \u001b[38;5;124m\"\u001b[39m\u001b[38;5;124mbag\u001b[39m\u001b[38;5;124m\"\u001b[39m \u001b[38;5;66;03m#'tuple' object does not support item assignment // tupples are IMMUTABLE, list are MUTABLE\u001b[39;00m\n",
      "\u001b[0;31mTypeError\u001b[0m: 'tuple' object does not support item assignment"
     ]
    }
   ],
   "source": [
    "t[2] = \"bag\" #'tuple' object does not support item assignment // tupples are IMMUTABLE, list are MUTABLE"
   ]
  },
  {
   "cell_type": "code",
   "execution_count": 118,
   "id": "70089cf2-23f2-40aa-aab0-56a46c7f11f7",
   "metadata": {},
   "outputs": [
    {
     "data": {
      "text/plain": [
       "([3, 4, 'a'], (4+3j), True, 'msk', 3.4, 3, 1)"
      ]
     },
     "execution_count": 118,
     "metadata": {},
     "output_type": "execute_result"
    }
   ],
   "source": [
    "t[::-1]  #new memory location not mutable"
   ]
  },
  {
   "cell_type": "code",
   "execution_count": 119,
   "id": "c0680193-3823-4092-aefd-9a90a4f40fd1",
   "metadata": {},
   "outputs": [
    {
     "data": {
      "text/plain": [
       "1"
      ]
     },
     "execution_count": 119,
     "metadata": {},
     "output_type": "execute_result"
    }
   ],
   "source": [
    "t.count(3)"
   ]
  },
  {
   "cell_type": "code",
   "execution_count": 120,
   "id": "26a9b21f-2d59-4618-95bb-809c05f1a688",
   "metadata": {},
   "outputs": [
    {
     "data": {
      "text/plain": [
       "0"
      ]
     },
     "execution_count": 120,
     "metadata": {},
     "output_type": "execute_result"
    }
   ],
   "source": [
    "t.index(True)"
   ]
  },
  {
   "cell_type": "code",
   "execution_count": 121,
   "id": "150f3e15-1904-4bef-8642-3c901fb5ef1e",
   "metadata": {},
   "outputs": [],
   "source": [
    "# SET"
   ]
  },
  {
   "cell_type": "code",
   "execution_count": 130,
   "id": "e3acd5a2-baeb-4d6c-a8cd-ba34c8e4fd71",
   "metadata": {},
   "outputs": [],
   "source": [
    "s1 = {}    # dictionary if null data store"
   ]
  },
  {
   "cell_type": "code",
   "execution_count": 123,
   "id": "a88b1c4c-96da-4ed2-a059-9932753b2ed5",
   "metadata": {},
   "outputs": [
    {
     "data": {
      "text/plain": [
       "dict"
      ]
     },
     "execution_count": 123,
     "metadata": {},
     "output_type": "execute_result"
    }
   ],
   "source": [
    "type(s1)    "
   ]
  },
  {
   "cell_type": "code",
   "execution_count": 131,
   "id": "82b59133-2c09-4dde-b76c-914ecdf838e2",
   "metadata": {},
   "outputs": [],
   "source": [
    "s2 = {2,3,4}    # set only if data store"
   ]
  },
  {
   "cell_type": "code",
   "execution_count": 125,
   "id": "6c41b5d9-ecad-4080-b870-dfadcdcd1cac",
   "metadata": {},
   "outputs": [
    {
     "data": {
      "text/plain": [
       "set"
      ]
     },
     "execution_count": 125,
     "metadata": {},
     "output_type": "execute_result"
    }
   ],
   "source": [
    "type(s2)"
   ]
  },
  {
   "cell_type": "code",
   "execution_count": 126,
   "id": "6ca41576-2e1c-4bbc-af27-295d7f8535e0",
   "metadata": {},
   "outputs": [],
   "source": [
    "# set is uses only for immutable collection"
   ]
  },
  {
   "cell_type": "code",
   "execution_count": 127,
   "id": "28a62bf9-6d92-495c-992b-1a850e73d668",
   "metadata": {},
   "outputs": [],
   "source": [
    "s4 = {1,2,3,4,4,5,6,6,7,6,7,7,8,89,7,6,5,5,4,3}"
   ]
  },
  {
   "cell_type": "code",
   "execution_count": 129,
   "id": "f26214ba-25fb-4949-8539-b4b2ee7ac93c",
   "metadata": {},
   "outputs": [
    {
     "data": {
      "text/plain": [
       "{1, 2, 3, 4, 5, 6, 7, 8, 89}"
      ]
     },
     "execution_count": 129,
     "metadata": {},
     "output_type": "execute_result"
    }
   ],
   "source": [
    "s4   # set removes duplicate data "
   ]
  },
  {
   "cell_type": "code",
   "execution_count": 134,
   "id": "ffad497d-5a97-4b3e-b405-d75a49be045d",
   "metadata": {},
   "outputs": [
    {
     "ename": "TypeError",
     "evalue": "unhashable type: 'list'",
     "output_type": "error",
     "traceback": [
      "\u001b[0;31m---------------------------------------------------------------------------\u001b[0m",
      "\u001b[0;31mTypeError\u001b[0m                                 Traceback (most recent call last)",
      "Cell \u001b[0;32mIn[134], line 1\u001b[0m\n\u001b[0;32m----> 1\u001b[0m s3 \u001b[38;5;241m=\u001b[39m {\u001b[38;5;241m2\u001b[39m,\u001b[38;5;241m3\u001b[39m,\u001b[38;5;124m\"\u001b[39m\u001b[38;5;124mmsk\u001b[39m\u001b[38;5;124m\"\u001b[39m,[\u001b[38;5;241m2\u001b[39m,\u001b[38;5;241m3\u001b[39m,\u001b[38;5;241m4\u001b[39m]}  \u001b[38;5;66;03m# set doesn't support list because list is mutable ,it accepts only immutable object\u001b[39;00m\n",
      "\u001b[0;31mTypeError\u001b[0m: unhashable type: 'list'"
     ]
    }
   ],
   "source": [
    "s3 = {2,3,\"msk\",[2,3,4]}  # set doesn't support list because list is mutable ,it accepts only immutable object"
   ]
  },
  {
   "cell_type": "code",
   "execution_count": 138,
   "id": "23740eb0-66bd-416b-b510-ead4dcf62258",
   "metadata": {},
   "outputs": [],
   "source": [
    "# python is a case senstive language\n",
    "l8 = {2,3,\"msk\",3,3,3,2,2,2,\"Msk\"}"
   ]
  },
  {
   "cell_type": "code",
   "execution_count": 139,
   "id": "62dd5783-ba7e-4d8d-93ac-e6d1c7945ea3",
   "metadata": {},
   "outputs": [
    {
     "data": {
      "text/plain": [
       "{2, 3, 'Msk', 'msk'}"
      ]
     },
     "execution_count": 139,
     "metadata": {},
     "output_type": "execute_result"
    }
   ],
   "source": [
    "l8"
   ]
  },
  {
   "cell_type": "code",
   "execution_count": 137,
   "id": "06a5d053-668d-4a1f-8d08-8eb52628d177",
   "metadata": {},
   "outputs": [],
   "source": [
    "# set never arrange or ordered data ,  "
   ]
  },
  {
   "cell_type": "code",
   "execution_count": 140,
   "id": "96240914-d824-4d04-a06b-05cd35a1a57d",
   "metadata": {},
   "outputs": [
    {
     "ename": "TypeError",
     "evalue": "'set' object is not subscriptable",
     "output_type": "error",
     "traceback": [
      "\u001b[0;31m---------------------------------------------------------------------------\u001b[0m",
      "\u001b[0;31mTypeError\u001b[0m                                 Traceback (most recent call last)",
      "Cell \u001b[0;32mIn[140], line 1\u001b[0m\n\u001b[0;32m----> 1\u001b[0m \u001b[43ml8\u001b[49m\u001b[43m[\u001b[49m\u001b[38;5;241;43m1\u001b[39;49m\u001b[43m]\u001b[49m\n",
      "\u001b[0;31mTypeError\u001b[0m: 'set' object is not subscriptable"
     ]
    }
   ],
   "source": [
    "l8[1]   # indexing doesn't support in set"
   ]
  },
  {
   "cell_type": "code",
   "execution_count": 142,
   "id": "1a351025-6f45-4939-bd64-d2c1b159a71a",
   "metadata": {},
   "outputs": [
    {
     "ename": "TypeError",
     "evalue": "'set' object is not subscriptable",
     "output_type": "error",
     "traceback": [
      "\u001b[0;31m---------------------------------------------------------------------------\u001b[0m",
      "\u001b[0;31mTypeError\u001b[0m                                 Traceback (most recent call last)",
      "Cell \u001b[0;32mIn[142], line 1\u001b[0m\n\u001b[0;32m----> 1\u001b[0m \u001b[43ml8\u001b[49m\u001b[43m[\u001b[49m\u001b[43m:\u001b[49m\u001b[43m:\u001b[49m\u001b[38;5;241;43m-\u001b[39;49m\u001b[38;5;241;43m1\u001b[39;49m\u001b[43m]\u001b[49m    \u001b[38;5;66;03m# slicing doesn't support in set\u001b[39;00m\n",
      "\u001b[0;31mTypeError\u001b[0m: 'set' object is not subscriptable"
     ]
    }
   ],
   "source": [
    "l8[::-1]    # slicing doesn't support in set"
   ]
  },
  {
   "cell_type": "code",
   "execution_count": 143,
   "id": "1d1b7b60-6af2-4f35-90d6-aabb231cbf92",
   "metadata": {},
   "outputs": [
    {
     "data": {
      "text/plain": [
       "{2, 3, 'Msk', 'msk'}"
      ]
     },
     "execution_count": 143,
     "metadata": {},
     "output_type": "execute_result"
    }
   ],
   "source": [
    "l8"
   ]
  },
  {
   "cell_type": "code",
   "execution_count": 144,
   "id": "65112ddf-eb01-46d5-b78c-ed10131e05b7",
   "metadata": {},
   "outputs": [],
   "source": [
    "l8.add(4)"
   ]
  },
  {
   "cell_type": "code",
   "execution_count": 145,
   "id": "7d88e002-1fae-431c-b7b5-b16e7d1e747a",
   "metadata": {},
   "outputs": [
    {
     "data": {
      "text/plain": [
       "{2, 3, 4, 'Msk', 'msk'}"
      ]
     },
     "execution_count": 145,
     "metadata": {},
     "output_type": "execute_result"
    }
   ],
   "source": [
    "l8"
   ]
  },
  {
   "cell_type": "code",
   "execution_count": null,
   "id": "d9b0ccef-0cfe-4b1c-bdb4-7d148f625a40",
   "metadata": {},
   "outputs": [],
   "source": [
    "l8.remove"
   ]
  }
 ],
 "metadata": {
  "kernelspec": {
   "display_name": "Python 3 (ipykernel)",
   "language": "python",
   "name": "python3"
  },
  "language_info": {
   "codemirror_mode": {
    "name": "ipython",
    "version": 3
   },
   "file_extension": ".py",
   "mimetype": "text/x-python",
   "name": "python",
   "nbconvert_exporter": "python",
   "pygments_lexer": "ipython3",
   "version": "3.10.8"
  }
 },
 "nbformat": 4,
 "nbformat_minor": 5
}
