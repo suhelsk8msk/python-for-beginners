{
 "cells": [
  {
   "cell_type": "markdown",
   "id": "d6d68ea2-6aed-4e89-b508-f3aabe4dd026",
   "metadata": {},
   "source": [
    "\"OOPs\" stands for Object-Oriented Programming System"
   ]
  },
  {
   "cell_type": "code",
   "execution_count": 4,
   "id": "df325cd5-5157-44a2-8b50-96812821a129",
   "metadata": {},
   "outputs": [],
   "source": [
    "a =1"
   ]
  },
  {
   "cell_type": "code",
   "execution_count": 5,
   "id": "59751179-3333-42a2-b014-72e5be804968",
   "metadata": {},
   "outputs": [
    {
     "name": "stdout",
     "output_type": "stream",
     "text": [
      "<class 'int'>\n"
     ]
    }
   ],
   "source": [
    "print(type(a))"
   ]
  },
  {
   "cell_type": "code",
   "execution_count": 6,
   "id": "b08a8ba6-745d-4f18-baf6-39cdaecfddda",
   "metadata": {},
   "outputs": [
    {
     "name": "stdout",
     "output_type": "stream",
     "text": [
      "<class 'str'>\n"
     ]
    }
   ],
   "source": [
    "print(type(\"suhail\"))"
   ]
  },
  {
   "cell_type": "code",
   "execution_count": 7,
   "id": "ae0cab00-7691-4646-bcfb-0149f19ec15d",
   "metadata": {},
   "outputs": [],
   "source": [
    "# Classes - In object-oriented programming, a class is a template definition of the methods and variables in a particular kind of object. "
   ]
  },
  {
   "cell_type": "code",
   "execution_count": 8,
   "id": "5df8d0c4-d214-4591-8a6c-9c29fdbc9402",
   "metadata": {},
   "outputs": [],
   "source": [
    "class test :\n",
    "    pass"
   ]
  },
  {
   "cell_type": "code",
   "execution_count": 9,
   "id": "0d1db8ad-f8a3-4759-94e7-318fdb265bc1",
   "metadata": {},
   "outputs": [],
   "source": [
    "a = test()"
   ]
  },
  {
   "cell_type": "code",
   "execution_count": 10,
   "id": "e165fab4-d330-4547-b7f4-e001064a6eca",
   "metadata": {},
   "outputs": [
    {
     "data": {
      "text/plain": [
       "__main__.test"
      ]
     },
     "execution_count": 10,
     "metadata": {},
     "output_type": "execute_result"
    }
   ],
   "source": [
    "type(a)"
   ]
  },
  {
   "cell_type": "code",
   "execution_count": 11,
   "id": "3b771ae3-fcee-4f55-ad5d-dc099b8adb58",
   "metadata": {},
   "outputs": [
    {
     "name": "stdout",
     "output_type": "stream",
     "text": [
      "<class '__main__.test'>\n"
     ]
    }
   ],
   "source": [
    "print(type(a))"
   ]
  },
  {
   "cell_type": "code",
   "execution_count": 12,
   "id": "fd00670d-a352-49be-9c2d-9301db0ec037",
   "metadata": {},
   "outputs": [],
   "source": [
    "class pwskills :\n",
    "    \n",
    "    def welcome_msg(self):\n",
    "        print(\"welcome to pwskills\")"
   ]
  },
  {
   "cell_type": "code",
   "execution_count": 13,
   "id": "55490fb9-f75a-4221-8374-627b2c374c48",
   "metadata": {},
   "outputs": [],
   "source": [
    "rohan = pwskills()"
   ]
  },
  {
   "cell_type": "code",
   "execution_count": 14,
   "id": "7da4f7b7-5be7-4236-8fb8-efe607193c1a",
   "metadata": {},
   "outputs": [
    {
     "name": "stdout",
     "output_type": "stream",
     "text": [
      "<class '__main__.pwskills'>\n"
     ]
    }
   ],
   "source": [
    "print(type(rohan))"
   ]
  },
  {
   "cell_type": "code",
   "execution_count": 15,
   "id": "bf4bf697-5979-461c-8fa6-3363aa3b865e",
   "metadata": {},
   "outputs": [
    {
     "name": "stdout",
     "output_type": "stream",
     "text": [
      "welcome to pwskills\n"
     ]
    }
   ],
   "source": [
    "rohan.welcome_msg()"
   ]
  },
  {
   "cell_type": "code",
   "execution_count": 16,
   "id": "31536003-1b5e-4f7d-bb54-3bfeb8ad6659",
   "metadata": {},
   "outputs": [],
   "source": [
    "gaurav = pwskills()"
   ]
  },
  {
   "cell_type": "code",
   "execution_count": 17,
   "id": "4dae3674-3e91-4a4d-b424-9e665294a1a6",
   "metadata": {},
   "outputs": [
    {
     "name": "stdout",
     "output_type": "stream",
     "text": [
      "welcome to pwskills\n"
     ]
    }
   ],
   "source": [
    "gaurav.welcome_msg()"
   ]
  },
  {
   "cell_type": "code",
   "execution_count": 18,
   "id": "e524e856-4157-4772-ad75-531537f837e8",
   "metadata": {},
   "outputs": [],
   "source": [
    "aman = pwskills()"
   ]
  },
  {
   "cell_type": "code",
   "execution_count": 19,
   "id": "8da33081-d31c-4d3b-a11e-f7a52640f25c",
   "metadata": {},
   "outputs": [
    {
     "name": "stdout",
     "output_type": "stream",
     "text": [
      "welcome to pwskills\n"
     ]
    }
   ],
   "source": [
    "aman.welcome_msg()"
   ]
  },
  {
   "cell_type": "code",
   "execution_count": 48,
   "id": "e4c56074-4ca2-458c-8d72-193228b2578c",
   "metadata": {},
   "outputs": [],
   "source": [
    "class pwskills1 :\n",
    "    def __init__(self,phone_number , email_id, student_id):    #__init__ fuction is used to pass data into a class\n",
    "        self.contact = phone_number \n",
    "        self.email = email_id\n",
    "        self.std_id = student_id\n",
    "        \n",
    "    def return_students_details(self):\n",
    "        return self.std_id , self.contact , self.email"
   ]
  },
  {
   "cell_type": "code",
   "execution_count": 49,
   "id": "3b4622d0-00df-4be2-a61b-3d8a9b5e3df0",
   "metadata": {},
   "outputs": [
    {
     "ename": "TypeError",
     "evalue": "pwskills1.__init__() missing 3 required positional arguments: 'phone_number', 'email_id', and 'student_id'",
     "output_type": "error",
     "traceback": [
      "\u001b[0;31m---------------------------------------------------------------------------\u001b[0m",
      "\u001b[0;31mTypeError\u001b[0m                                 Traceback (most recent call last)",
      "Cell \u001b[0;32mIn[49], line 1\u001b[0m\n\u001b[0;32m----> 1\u001b[0m rohan \u001b[38;5;241m=\u001b[39m \u001b[43mpwskills1\u001b[49m\u001b[43m(\u001b[49m\u001b[43m)\u001b[49m  \u001b[38;5;66;03m#pwskills1.__init__() missing 3 required positional arguments: 'phone_number', 'email_id', and 'student_id'\u001b[39;00m\n",
      "\u001b[0;31mTypeError\u001b[0m: pwskills1.__init__() missing 3 required positional arguments: 'phone_number', 'email_id', and 'student_id'"
     ]
    }
   ],
   "source": [
    "rohan = pwskills1()  #pwskills1.__init__() missing 3 required positional arguments: 'phone_number', 'email_id', and 'student_id'"
   ]
  },
  {
   "cell_type": "code",
   "execution_count": 50,
   "id": "71d0e3ee-ed06-4dab-a41c-ce2ae4de181b",
   "metadata": {},
   "outputs": [],
   "source": [
    "rohan = pwskills1(11111, \"rohan123@gmail.com\" ,101)"
   ]
  },
  {
   "cell_type": "code",
   "execution_count": 58,
   "id": "7143645e-759d-4d7e-94d4-feeb521d9b99",
   "metadata": {},
   "outputs": [],
   "source": [
    "gaurav = pwskills1(949494, \"g11@gmail.com\", 231)"
   ]
  },
  {
   "cell_type": "code",
   "execution_count": 51,
   "id": "c96b40e2-7f91-4305-bd7e-b0549b3942e4",
   "metadata": {},
   "outputs": [
    {
     "data": {
      "text/plain": [
       "11111"
      ]
     },
     "execution_count": 51,
     "metadata": {},
     "output_type": "execute_result"
    }
   ],
   "source": [
    "rohan.contact"
   ]
  },
  {
   "cell_type": "code",
   "execution_count": 52,
   "id": "dec36436-1991-4f09-b4f8-faf36ee1308e",
   "metadata": {},
   "outputs": [
    {
     "data": {
      "text/plain": [
       "'rohan123@gmail.com'"
      ]
     },
     "execution_count": 52,
     "metadata": {},
     "output_type": "execute_result"
    }
   ],
   "source": [
    "rohan.email"
   ]
  },
  {
   "cell_type": "code",
   "execution_count": 53,
   "id": "746b75ec-a959-415e-ad24-029ab48cdb36",
   "metadata": {},
   "outputs": [
    {
     "data": {
      "text/plain": [
       "101"
      ]
     },
     "execution_count": 53,
     "metadata": {},
     "output_type": "execute_result"
    }
   ],
   "source": [
    "rohan.std_id"
   ]
  },
  {
   "cell_type": "code",
   "execution_count": 54,
   "id": "ff0941a5-2ed7-496e-b308-6900a21e419c",
   "metadata": {},
   "outputs": [
    {
     "data": {
      "text/plain": [
       "(101, 11111, 'rohan123@gmail.com')"
      ]
     },
     "execution_count": 54,
     "metadata": {},
     "output_type": "execute_result"
    }
   ],
   "source": [
    "rohan.return_students_details()"
   ]
  },
  {
   "cell_type": "code",
   "execution_count": 59,
   "id": "6ec63ac2-7331-44ca-85e8-8fe085104aff",
   "metadata": {},
   "outputs": [
    {
     "data": {
      "text/plain": [
       "(231, 949494, 'g11@gmail.com')"
      ]
     },
     "execution_count": 59,
     "metadata": {},
     "output_type": "execute_result"
    }
   ],
   "source": [
    "gaurav.return_students_details()"
   ]
  },
  {
   "cell_type": "code",
   "execution_count": 61,
   "id": "41064094-fb50-4355-b06f-8fca6947d88c",
   "metadata": {},
   "outputs": [
    {
     "data": {
      "text/plain": [
       "231"
      ]
     },
     "execution_count": 61,
     "metadata": {},
     "output_type": "execute_result"
    }
   ],
   "source": [
    "gaurav.std_id"
   ]
  },
  {
   "cell_type": "code",
   "execution_count": 83,
   "id": "0d349dd2-55d5-4538-b902-429162b61b28",
   "metadata": {},
   "outputs": [],
   "source": [
    "class pwskills2 :\n",
    "    def __init__(self,atm_num , pan_num, adhr_num):    #__init__ fuction is used to pass data into a class\n",
    "        self.atm = atm_num\n",
    "        self.pan = pan_num\n",
    "        self.adhr = adhr_num\n",
    "        \n",
    "    def return_full_details(self):\n",
    "        return self.atm , self.pan , self.adhr"
   ]
  },
  {
   "cell_type": "code",
   "execution_count": 84,
   "id": "b61c12b0-a431-4c06-a809-7097615d65de",
   "metadata": {},
   "outputs": [],
   "source": [
    "msk = pwskills2(43267, 7289570932, 4654786894675976)"
   ]
  },
  {
   "cell_type": "code",
   "execution_count": 70,
   "id": "47dcc960-e2da-4570-9699-841fb755fdf3",
   "metadata": {},
   "outputs": [
    {
     "data": {
      "text/plain": [
       "43267"
      ]
     },
     "execution_count": 70,
     "metadata": {},
     "output_type": "execute_result"
    }
   ],
   "source": [
    "msk.atm"
   ]
  },
  {
   "cell_type": "code",
   "execution_count": 71,
   "id": "0ac8953e-98a1-4c82-9294-03fab0b71230",
   "metadata": {},
   "outputs": [
    {
     "data": {
      "text/plain": [
       "7289570932"
      ]
     },
     "execution_count": 71,
     "metadata": {},
     "output_type": "execute_result"
    }
   ],
   "source": [
    "msk.pan"
   ]
  },
  {
   "cell_type": "code",
   "execution_count": 72,
   "id": "a4d7770c-a816-4344-84e6-ab71b657587e",
   "metadata": {},
   "outputs": [
    {
     "data": {
      "text/plain": [
       "4654786894675976"
      ]
     },
     "execution_count": 72,
     "metadata": {},
     "output_type": "execute_result"
    }
   ],
   "source": [
    "msk.adhr"
   ]
  },
  {
   "cell_type": "code",
   "execution_count": 76,
   "id": "1cbc5249-5cdc-4484-bd5a-272cdc7451bb",
   "metadata": {},
   "outputs": [
    {
     "data": {
      "text/plain": [
       "(43267, 7289570932, 4654786894675976)"
      ]
     },
     "execution_count": 76,
     "metadata": {},
     "output_type": "execute_result"
    }
   ],
   "source": [
    "msk.return_full_details()"
   ]
  },
  {
   "cell_type": "code",
   "execution_count": 85,
   "id": "b8c8ee6c-041f-469c-be7f-54a3b537162f",
   "metadata": {},
   "outputs": [],
   "source": [
    "class pwskills3 :\n",
    "    def __init__(suhail ,atm_num , pan_num, adhr_num):    #__init__ fuction is used to pass data into a class\n",
    "        suhail.atm = atm_num\n",
    "        suhail.pan = pan_num\n",
    "        suhail.adhr = adhr_num\n",
    "        \n",
    "    def return_full_details(self):\n",
    "        return suhail.atm , suhail.pan , suhail.adhr"
   ]
  },
  {
   "cell_type": "code",
   "execution_count": 88,
   "id": "6f1e43e8-507c-4203-8f48-6c2316e38589",
   "metadata": {},
   "outputs": [],
   "source": [
    "msk1 = pwskills3(43267, 7289570932, 4654786894675976)"
   ]
  },
  {
   "cell_type": "code",
   "execution_count": 89,
   "id": "26e04f64-f730-4884-9d29-700ffe479aa3",
   "metadata": {},
   "outputs": [
    {
     "ename": "NameError",
     "evalue": "name 'suhail' is not defined",
     "output_type": "error",
     "traceback": [
      "\u001b[0;31m---------------------------------------------------------------------------\u001b[0m",
      "\u001b[0;31mNameError\u001b[0m                                 Traceback (most recent call last)",
      "Cell \u001b[0;32mIn[89], line 1\u001b[0m\n\u001b[0;32m----> 1\u001b[0m \u001b[43mmsk1\u001b[49m\u001b[38;5;241;43m.\u001b[39;49m\u001b[43mreturn_full_details\u001b[49m\u001b[43m(\u001b[49m\u001b[43m)\u001b[49m\n",
      "Cell \u001b[0;32mIn[85], line 8\u001b[0m, in \u001b[0;36mpwskills3.return_full_details\u001b[0;34m(self)\u001b[0m\n\u001b[1;32m      7\u001b[0m \u001b[38;5;28;01mdef\u001b[39;00m \u001b[38;5;21mreturn_full_details\u001b[39m(\u001b[38;5;28mself\u001b[39m):\n\u001b[0;32m----> 8\u001b[0m     \u001b[38;5;28;01mreturn\u001b[39;00m \u001b[43msuhail\u001b[49m\u001b[38;5;241m.\u001b[39matm , suhail\u001b[38;5;241m.\u001b[39mpan , suhail\u001b[38;5;241m.\u001b[39madhr\n",
      "\u001b[0;31mNameError\u001b[0m: name 'suhail' is not defined"
     ]
    }
   ],
   "source": [
    "msk1.return_full_details()"
   ]
  },
  {
   "cell_type": "code",
   "execution_count": null,
   "id": "c6bc04d9-604e-48ef-8b26-bb3b6c147737",
   "metadata": {},
   "outputs": [],
   "source": [
    "msk"
   ]
  }
 ],
 "metadata": {
  "kernelspec": {
   "display_name": "Python 3 (ipykernel)",
   "language": "python",
   "name": "python3"
  },
  "language_info": {
   "codemirror_mode": {
    "name": "ipython",
    "version": 3
   },
   "file_extension": ".py",
   "mimetype": "text/x-python",
   "name": "python",
   "nbconvert_exporter": "python",
   "pygments_lexer": "ipython3",
   "version": "3.10.8"
  }
 },
 "nbformat": 4,
 "nbformat_minor": 5
}
