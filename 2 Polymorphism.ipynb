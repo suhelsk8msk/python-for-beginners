{
 "cells": [
  {
   "cell_type": "markdown",
   "id": "0a06ac03-783d-4bb5-8e5b-fee5fcf4b2d0",
   "metadata": {},
   "source": [
    "Polymorphism"
   ]
  },
  {
   "cell_type": "code",
   "execution_count": 1,
   "id": "d28d15ae-e338-4bc5-9dee-e988c81a39d6",
   "metadata": {},
   "outputs": [],
   "source": [
    "def test(a,b):\n",
    "    return a+b   #addition"
   ]
  },
  {
   "cell_type": "code",
   "execution_count": 2,
   "id": "5d19e39c-0120-4882-a530-2f838e6acb03",
   "metadata": {},
   "outputs": [
    {
     "data": {
      "text/plain": [
       "5"
      ]
     },
     "execution_count": 2,
     "metadata": {},
     "output_type": "execute_result"
    }
   ],
   "source": [
    "test(2,3)"
   ]
  },
  {
   "cell_type": "code",
   "execution_count": 3,
   "id": "50dbba9e-0cad-417e-a556-de14d006877b",
   "metadata": {},
   "outputs": [
    {
     "data": {
      "text/plain": [
       "'mohammad  suhail'"
      ]
     },
     "execution_count": 3,
     "metadata": {},
     "output_type": "execute_result"
    }
   ],
   "source": [
    "test(\"mohammad \", \" suhail\") # concatination"
   ]
  },
  {
   "cell_type": "code",
   "execution_count": 4,
   "id": "885adac5-1042-4e0d-b338-4040e645b3d7",
   "metadata": {},
   "outputs": [],
   "source": [
    "# In polymorphim , same function behaviour change in different way - multibehavior"
   ]
  },
  {
   "cell_type": "code",
   "execution_count": 5,
   "id": "9e3dae66-a2d9-4798-80eb-c1272ee69291",
   "metadata": {},
   "outputs": [
    {
     "data": {
      "text/plain": [
       "[1, 2, 3, 4, 5, 6, 7, 8]"
      ]
     },
     "execution_count": 5,
     "metadata": {},
     "output_type": "execute_result"
    }
   ],
   "source": [
    "test([1,2,3,4],[5,6,7,8])"
   ]
  },
  {
   "cell_type": "code",
   "execution_count": 6,
   "id": "e1e52abd-3006-47b6-97d8-830325e66554",
   "metadata": {},
   "outputs": [],
   "source": [
    "class data_science:\n",
    "    def syllabus(self):\n",
    "        print(\"data science syllabus\")\n",
    "    "
   ]
  },
  {
   "cell_type": "code",
   "execution_count": 7,
   "id": "560c36df-17fa-4f20-9e3d-505174e9ed1c",
   "metadata": {},
   "outputs": [],
   "source": [
    "class web_dev:\n",
    "    def syllabus(self):\n",
    "        print(\"web dev syllabus\")"
   ]
  },
  {
   "cell_type": "code",
   "execution_count": 8,
   "id": "c24e4d23-d912-49f0-b9b7-cc1c041b855f",
   "metadata": {},
   "outputs": [],
   "source": [
    "def class_parcer(class_obj):\n",
    "    for i in class_obj:\n",
    "        i.syllabus()"
   ]
  },
  {
   "cell_type": "code",
   "execution_count": 9,
   "id": "7df93d38-3ab9-4194-bce9-2b4d858022aa",
   "metadata": {},
   "outputs": [],
   "source": [
    "data_science = data_science()"
   ]
  },
  {
   "cell_type": "code",
   "execution_count": 10,
   "id": "9bd97f8d-be0d-4fdc-bff5-d37ec78ce943",
   "metadata": {},
   "outputs": [],
   "source": [
    "web_dev = web_dev()"
   ]
  },
  {
   "cell_type": "code",
   "execution_count": 11,
   "id": "90c5ca3d-b7e6-4638-84d5-423978508e33",
   "metadata": {},
   "outputs": [],
   "source": [
    "class_obj = [data_science , web_dev]"
   ]
  },
  {
   "cell_type": "code",
   "execution_count": 12,
   "id": "b2251c1a-7ba3-469a-adfe-0d00402868ac",
   "metadata": {},
   "outputs": [
    {
     "name": "stdout",
     "output_type": "stream",
     "text": [
      "data science syllabus\n",
      "web dev syllabus\n"
     ]
    }
   ],
   "source": [
    "class_parcer(class_obj)"
   ]
  },
  {
   "cell_type": "code",
   "execution_count": null,
   "id": "832816d6-f3ea-4a65-b952-d200c4c8fec1",
   "metadata": {},
   "outputs": [],
   "source": []
  }
 ],
 "metadata": {
  "kernelspec": {
   "display_name": "Python 3 (ipykernel)",
   "language": "python",
   "name": "python3"
  },
  "language_info": {
   "codemirror_mode": {
    "name": "ipython",
    "version": 3
   },
   "file_extension": ".py",
   "mimetype": "text/x-python",
   "name": "python",
   "nbconvert_exporter": "python",
   "pygments_lexer": "ipython3",
   "version": "3.10.8"
  }
 },
 "nbformat": 4,
 "nbformat_minor": 5
}
