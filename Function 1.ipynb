{
 "cells": [
  {
   "cell_type": "code",
   "execution_count": 19,
   "id": "7c5e5653-43ec-4416-a66d-91905a588284",
   "metadata": {},
   "outputs": [
    {
     "name": "stdout",
     "output_type": "stream",
     "text": [
      "This is function class\n"
     ]
    }
   ],
   "source": [
    "# Function Basic Concepts\n",
    "\n",
    "print(\"This is function class\")  #inbuild func"
   ]
  },
  {
   "cell_type": "code",
   "execution_count": 2,
   "id": "bce94bbf-aa48-4540-a9c7-1ffdfefbaad9",
   "metadata": {},
   "outputs": [],
   "source": [
    "l = [1,23,\"asd\",True,False,4+7j,23.2]"
   ]
  },
  {
   "cell_type": "code",
   "execution_count": 20,
   "id": "35753c1c-f68f-4f6d-9500-2eeef6b57389",
   "metadata": {},
   "outputs": [
    {
     "data": {
      "text/plain": [
       "list"
      ]
     },
     "execution_count": 20,
     "metadata": {},
     "output_type": "execute_result"
    }
   ],
   "source": [
    "type(l)  #inbuild func"
   ]
  },
  {
   "cell_type": "code",
   "execution_count": 21,
   "id": "4c6e5e9d-46cb-422d-b549-4a57fd5372fb",
   "metadata": {},
   "outputs": [
    {
     "data": {
      "text/plain": [
       "7"
      ]
     },
     "execution_count": 21,
     "metadata": {},
     "output_type": "execute_result"
    }
   ],
   "source": [
    "len(l)   #inbuild func"
   ]
  },
  {
   "cell_type": "code",
   "execution_count": 22,
   "id": "aeceaae8-2b46-4a16-99d7-8ca6675770de",
   "metadata": {},
   "outputs": [],
   "source": [
    "def test():     # func creation \n",
    "    pass"
   ]
  },
  {
   "cell_type": "code",
   "execution_count": 25,
   "id": "5a7e5dd6-dc1f-4f0d-b916-8134d2c66ce1",
   "metadata": {},
   "outputs": [],
   "source": [
    "def test1():     #function  creation increase reusability\n",
    "    print(\"my first func\")"
   ]
  },
  {
   "cell_type": "code",
   "execution_count": null,
   "id": "9c571b70-fe73-40fb-87ff-fbd301ac5cb9",
   "metadata": {},
   "outputs": [
    {
     "name": "stdout",
     "output_type": "stream",
     "text": [
      "my first func\n"
     ]
    }
   ],
   "source": [
    "test1()"
   ]
  },
  {
   "cell_type": "code",
   "execution_count": 27,
   "id": "852f37ab-c51d-4e37-8597-8d822ff988f7",
   "metadata": {},
   "outputs": [
    {
     "name": "stdout",
     "output_type": "stream",
     "text": [
      "my first func\n"
     ]
    },
    {
     "ename": "TypeError",
     "evalue": "unsupported operand type(s) for +: 'NoneType' and 'str'",
     "output_type": "error",
     "traceback": [
      "\u001b[0;31m---------------------------------------------------------------------------\u001b[0m",
      "\u001b[0;31mTypeError\u001b[0m                                 Traceback (most recent call last)",
      "Cell \u001b[0;32mIn[27], line 1\u001b[0m\n\u001b[0;32m----> 1\u001b[0m \u001b[43mtest1\u001b[49m\u001b[43m(\u001b[49m\u001b[43m)\u001b[49m\u001b[43m \u001b[49m\u001b[38;5;241;43m+\u001b[39;49m\u001b[43m \u001b[49m\u001b[38;5;124;43m\"\u001b[39;49m\u001b[38;5;124;43mmsk\u001b[39;49m\u001b[38;5;124;43m\"\u001b[39;49m  \u001b[38;5;66;03m#for +: 'NoneType' and 'str' concatination  is not possible because of different types of data\u001b[39;00m\n",
      "\u001b[0;31mTypeError\u001b[0m: unsupported operand type(s) for +: 'NoneType' and 'str'"
     ]
    }
   ],
   "source": [
    "test1() + \"msk\"  #for +: 'NoneType' and 'str' concatination  is not possible because of different types of data"
   ]
  },
  {
   "cell_type": "code",
   "execution_count": 28,
   "id": "4fe3d769-1d16-4fcd-a3c9-e5444a6a9167",
   "metadata": {},
   "outputs": [],
   "source": [
    "def test2():\n",
    "    return \"my first func\""
   ]
  },
  {
   "cell_type": "code",
   "execution_count": 30,
   "id": "baba1a8b-6fd7-42a6-8919-f4c0c612f38c",
   "metadata": {},
   "outputs": [
    {
     "data": {
      "text/plain": [
       "str"
      ]
     },
     "execution_count": 30,
     "metadata": {},
     "output_type": "execute_result"
    }
   ],
   "source": [
    "type(test2())"
   ]
  },
  {
   "cell_type": "code",
   "execution_count": 32,
   "id": "70dedbf0-2845-4ee2-937c-0db920894eb8",
   "metadata": {},
   "outputs": [
    {
     "data": {
      "text/plain": [
       "'my first func  msk'"
      ]
     },
     "execution_count": 32,
     "metadata": {},
     "output_type": "execute_result"
    }
   ],
   "source": [
    "test2() + \"  msk\""
   ]
  },
  {
   "cell_type": "code",
   "execution_count": 34,
   "id": "6bd95950-8b64-4e9b-9d5f-9dc8dd5a0cf2",
   "metadata": {},
   "outputs": [],
   "source": [
    "def test3():\n",
    "    return \"msk\" , 23, 34.5, [1,2,3]"
   ]
  },
  {
   "cell_type": "code",
   "execution_count": 35,
   "id": "d8065a8a-d6a4-46df-b561-250471965354",
   "metadata": {},
   "outputs": [
    {
     "data": {
      "text/plain": [
       "('msk', 23, 34.5, [1, 2, 3])"
      ]
     },
     "execution_count": 35,
     "metadata": {},
     "output_type": "execute_result"
    }
   ],
   "source": [
    "test3()"
   ]
  },
  {
   "cell_type": "code",
   "execution_count": 36,
   "id": "08104a84-759e-4bd8-90ff-b76fd27b39a8",
   "metadata": {},
   "outputs": [],
   "source": [
    "a,b,c,d = test3()"
   ]
  },
  {
   "cell_type": "code",
   "execution_count": 37,
   "id": "5a6e6338-3537-4aa2-a7ac-ff6e227b0080",
   "metadata": {},
   "outputs": [
    {
     "data": {
      "text/plain": [
       "'msk'"
      ]
     },
     "execution_count": 37,
     "metadata": {},
     "output_type": "execute_result"
    }
   ],
   "source": [
    "a"
   ]
  },
  {
   "cell_type": "code",
   "execution_count": 38,
   "id": "0e1efaab-f1fa-434c-b579-ee6414752b82",
   "metadata": {},
   "outputs": [
    {
     "data": {
      "text/plain": [
       "23"
      ]
     },
     "execution_count": 38,
     "metadata": {},
     "output_type": "execute_result"
    }
   ],
   "source": [
    "b"
   ]
  },
  {
   "cell_type": "code",
   "execution_count": 39,
   "id": "9474bd0c-3840-466f-8c6a-5399bc96fedd",
   "metadata": {},
   "outputs": [
    {
     "data": {
      "text/plain": [
       "34.5"
      ]
     },
     "execution_count": 39,
     "metadata": {},
     "output_type": "execute_result"
    }
   ],
   "source": [
    "c"
   ]
  },
  {
   "cell_type": "code",
   "execution_count": 40,
   "id": "8880aa65-c0f2-4ba1-91f8-035e1d2cf9fd",
   "metadata": {},
   "outputs": [
    {
     "data": {
      "text/plain": [
       "[1, 2, 3]"
      ]
     },
     "execution_count": 40,
     "metadata": {},
     "output_type": "execute_result"
    }
   ],
   "source": [
    "d"
   ]
  },
  {
   "cell_type": "code",
   "execution_count": 41,
   "id": "d4400aa5-658e-4e81-b4f0-703afc17f0f5",
   "metadata": {},
   "outputs": [],
   "source": [
    "def test4():\n",
    "    a = 5+6/7\n",
    "    return a"
   ]
  },
  {
   "cell_type": "code",
   "execution_count": 42,
   "id": "8ca64cd7-0039-4e24-af4f-6b2965ae772b",
   "metadata": {},
   "outputs": [
    {
     "data": {
      "text/plain": [
       "5.857142857142857"
      ]
     },
     "execution_count": 42,
     "metadata": {},
     "output_type": "execute_result"
    }
   ],
   "source": [
    "test4()"
   ]
  },
  {
   "cell_type": "code",
   "execution_count": 44,
   "id": "bd474862-9fde-4eb4-8939-08caea6f8823",
   "metadata": {},
   "outputs": [],
   "source": [
    "def test5(a,b,c):\n",
    "    d = a+b/c\n",
    "    return d\n",
    "    "
   ]
  },
  {
   "cell_type": "code",
   "execution_count": 47,
   "id": "afc50763-9af5-4d41-a4ac-ddca8855152a",
   "metadata": {},
   "outputs": [
    {
     "ename": "TypeError",
     "evalue": "test5() missing 3 required positional arguments: 'a', 'b', and 'c'",
     "output_type": "error",
     "traceback": [
      "\u001b[0;31m---------------------------------------------------------------------------\u001b[0m",
      "\u001b[0;31mTypeError\u001b[0m                                 Traceback (most recent call last)",
      "Cell \u001b[0;32mIn[47], line 1\u001b[0m\n\u001b[0;32m----> 1\u001b[0m \u001b[43mtest5\u001b[49m\u001b[43m(\u001b[49m\u001b[43m)\u001b[49m  \u001b[38;5;66;03m#test5() missing 3 required positional arguments: 'a', 'b', and 'c'\u001b[39;00m\n",
      "\u001b[0;31mTypeError\u001b[0m: test5() missing 3 required positional arguments: 'a', 'b', and 'c'"
     ]
    }
   ],
   "source": [
    "test5()  #test5() missing 3 required positional arguments: 'a', 'b', and 'c'"
   ]
  },
  {
   "cell_type": "code",
   "execution_count": 45,
   "id": "296e309f-42fb-45b2-b463-2a62c4151a5e",
   "metadata": {},
   "outputs": [
    {
     "data": {
      "text/plain": [
       "5.0"
      ]
     },
     "execution_count": 45,
     "metadata": {},
     "output_type": "execute_result"
    }
   ],
   "source": [
    "test5(3,4,2)"
   ]
  },
  {
   "cell_type": "code",
   "execution_count": 48,
   "id": "88eb1c74-b66a-4dc4-b795-1c1f5d7d172d",
   "metadata": {},
   "outputs": [],
   "source": [
    "def test6(a,b):\n",
    "    return a+b"
   ]
  },
  {
   "cell_type": "code",
   "execution_count": 49,
   "id": "a5d5262b-6a1e-4688-b70b-50b11e56dddf",
   "metadata": {},
   "outputs": [
    {
     "data": {
      "text/plain": [
       "5"
      ]
     },
     "execution_count": 49,
     "metadata": {},
     "output_type": "execute_result"
    }
   ],
   "source": [
    "test6(2,3)"
   ]
  },
  {
   "cell_type": "code",
   "execution_count": 50,
   "id": "8aa42ae2-f315-4a70-9c54-967b510f1a2c",
   "metadata": {},
   "outputs": [
    {
     "data": {
      "text/plain": [
       "[1, 2, 3, 4, 5, 6]"
      ]
     },
     "execution_count": 50,
     "metadata": {},
     "output_type": "execute_result"
    }
   ],
   "source": [
    "test6([1,2,3],[4,5,6])"
   ]
  },
  {
   "cell_type": "code",
   "execution_count": 88,
   "id": "061d0486-ac89-4e98-9b2a-11780f3dbe47",
   "metadata": {},
   "outputs": [],
   "source": [
    "l = [1,2,3,4,\"msk\",\"suhail\", [5,6,7,8]]"
   ]
  },
  {
   "cell_type": "code",
   "execution_count": 52,
   "id": "3592d21d-7b0c-4f3d-bcf7-cc50ced6bc86",
   "metadata": {},
   "outputs": [],
   "source": [
    "l1= []\n",
    "for i in l:\n",
    "    if type(i) == int or type(i) == float:\n",
    "        l1.append(i)"
   ]
  },
  {
   "cell_type": "code",
   "execution_count": 89,
   "id": "57ee6e9b-4381-4f00-968e-e415a5459795",
   "metadata": {},
   "outputs": [
    {
     "data": {
      "text/plain": [
       "[1, 2, 3, 4]"
      ]
     },
     "execution_count": 89,
     "metadata": {},
     "output_type": "execute_result"
    }
   ],
   "source": [
    "l1"
   ]
  },
  {
   "cell_type": "code",
   "execution_count": 61,
   "id": "c9637d45-fb92-4c4a-a2b7-d267a52d4693",
   "metadata": {},
   "outputs": [],
   "source": [
    "def test7(l):\n",
    "    l1= []\n",
    "    for i in l:\n",
    "        if type(i) == int or type(i) == float:\n",
    "            l1.append(i)\n",
    "    return l1"
   ]
  },
  {
   "cell_type": "code",
   "execution_count": 62,
   "id": "0e4ee902-6fc9-4403-b9a4-ab8b09197606",
   "metadata": {},
   "outputs": [
    {
     "data": {
      "text/plain": [
       "[1, 2, 3, 4]"
      ]
     },
     "execution_count": 62,
     "metadata": {},
     "output_type": "execute_result"
    }
   ],
   "source": [
    "test7(l)"
   ]
  },
  {
   "cell_type": "code",
   "execution_count": 70,
   "id": "e409f63b-7e50-4a7d-9a94-fcbf79e25174",
   "metadata": {},
   "outputs": [],
   "source": [
    "l2 = [1,2,3,4,\"msk\",\"sam\",23.4,\"a\",\"w\",\"e\",\"s\",\"o\",\"m\",\"e\"]"
   ]
  },
  {
   "cell_type": "code",
   "execution_count": 80,
   "id": "f532b923-ea5c-4dcd-bbe5-f353fd5ebd6c",
   "metadata": {},
   "outputs": [],
   "source": [
    "def test8(l2):\n",
    "    l3 = []\n",
    "    for i in l2:\n",
    "        if type(i) == str :\n",
    "            l3.append(i)\n",
    "    return l3"
   ]
  },
  {
   "cell_type": "code",
   "execution_count": 81,
   "id": "903f9783-d753-407b-96a3-9984f0307c49",
   "metadata": {},
   "outputs": [
    {
     "data": {
      "text/plain": [
       "['msk', 'sam', 'a', 'w', 'e', 's', 'o', 'm', 'e']"
      ]
     },
     "execution_count": 81,
     "metadata": {},
     "output_type": "execute_result"
    }
   ],
   "source": [
    "test8(l2)"
   ]
  },
  {
   "cell_type": "code",
   "execution_count": 84,
   "id": "a07b67ec-5301-4bc1-bc63-35a1ad49e27b",
   "metadata": {},
   "outputs": [
    {
     "data": {
      "text/plain": [
       "['msk', 'suhail']"
      ]
     },
     "execution_count": 84,
     "metadata": {},
     "output_type": "execute_result"
    }
   ],
   "source": [
    "test8(l)"
   ]
  },
  {
   "cell_type": "code",
   "execution_count": 90,
   "id": "e9c70af3-b4b7-4464-8850-68f1f508e3ff",
   "metadata": {},
   "outputs": [
    {
     "data": {
      "text/plain": [
       "[1, 2, 3, 4, 'msk', 'suhail', [5, 6, 7, 8]]"
      ]
     },
     "execution_count": 90,
     "metadata": {},
     "output_type": "execute_result"
    }
   ],
   "source": [
    "l"
   ]
  },
  {
   "cell_type": "code",
   "execution_count": 86,
   "id": "c061771e-cd29-422c-8f94-55f1dd0f265d",
   "metadata": {},
   "outputs": [],
   "source": [
    "def test9(a):\n",
    "    l = []\n",
    "    for i in a :\n",
    "        if type(i) == list:\n",
    "            for j in i :\n",
    "                l.append(j)\n",
    "        else :\n",
    "            if type(i) == int or type(i) == float :\n",
    "                l.append(i)\n",
    "    return l"
   ]
  },
  {
   "cell_type": "code",
   "execution_count": 91,
   "id": "5caba6b3-a25d-47f5-8a3e-5077cce47fe7",
   "metadata": {},
   "outputs": [
    {
     "data": {
      "text/plain": [
       "[1, 2, 3, 4, 5, 6, 7, 8]"
      ]
     },
     "execution_count": 91,
     "metadata": {},
     "output_type": "execute_result"
    }
   ],
   "source": [
    "test9(l)"
   ]
  },
  {
   "cell_type": "code",
   "execution_count": 1,
   "id": "c46f675d-2f1e-4d31-84b4-a696db89fe6f",
   "metadata": {},
   "outputs": [],
   "source": [
    "def test9(a):\n",
    "    \"\"\" docstring in function \"\"\"   #press shift + tab to know about the func that wht does it do?\n",
    "    l = []\n",
    "    for i in a :\n",
    "        if type(i) == list:\n",
    "            for j in i :\n",
    "                l.append(j)\n",
    "        else :\n",
    "            if type(i) == int or type(i) == float :\n",
    "                l.append(i)\n",
    "    return l"
   ]
  },
  {
   "cell_type": "code",
   "execution_count": 4,
   "id": "842828f2-fbb4-4c44-8140-7f41569b1998",
   "metadata": {},
   "outputs": [],
   "source": [
    "def test10(a,b):\n",
    "    return a + b"
   ]
  },
  {
   "cell_type": "code",
   "execution_count": 10,
   "id": "eabeaf34-3293-4bbc-ab01-c2ade70f6b6b",
   "metadata": {},
   "outputs": [],
   "source": [
    "def test11(*args):       # *args uses for multiple input inside the func\n",
    "    return args"
   ]
  },
  {
   "cell_type": "code",
   "execution_count": 8,
   "id": "f896841b-159e-4cb7-be12-4c9d5abef281",
   "metadata": {},
   "outputs": [
    {
     "data": {
      "text/plain": [
       "tuple"
      ]
     },
     "execution_count": 8,
     "metadata": {},
     "output_type": "execute_result"
    }
   ],
   "source": [
    "type(test11())"
   ]
  },
  {
   "cell_type": "code",
   "execution_count": 9,
   "id": "9d1231c8-a1be-447c-a26d-5784d73adf53",
   "metadata": {},
   "outputs": [
    {
     "data": {
      "text/plain": [
       "(1, 2, 3, 'msk', 5, 6.5, 43)"
      ]
     },
     "execution_count": 9,
     "metadata": {},
     "output_type": "execute_result"
    }
   ],
   "source": [
    "test11(1,2,3,\"msk\",5,6.5,43)  "
   ]
  },
  {
   "cell_type": "code",
   "execution_count": 14,
   "id": "614d988c-14ee-4c73-a3de-8d72825d3abd",
   "metadata": {},
   "outputs": [],
   "source": [
    "def test12(*msk):       # *args is not keyword u can change according to use...role of multiple input data is of (*)asterisk\n",
    "    return msk"
   ]
  },
  {
   "cell_type": "code",
   "execution_count": 13,
   "id": "f28225d9-fe12-478b-972a-f4ab3409b0ae",
   "metadata": {},
   "outputs": [
    {
     "data": {
      "text/plain": [
       "(1, 2, 3, 'msk', 5, 6.5, 43)"
      ]
     },
     "execution_count": 13,
     "metadata": {},
     "output_type": "execute_result"
    }
   ],
   "source": [
    "test12(1,2,3,\"msk\",5,6.5,43)  "
   ]
  },
  {
   "cell_type": "code",
   "execution_count": 15,
   "id": "fd8f4b8b-5d7c-415c-99ea-0f496d2ae9f8",
   "metadata": {},
   "outputs": [],
   "source": [
    "def test13(*args , a):\n",
    "    return args , a"
   ]
  },
  {
   "cell_type": "code",
   "execution_count": 16,
   "id": "9e5dba41-ba97-48a9-b5ce-d8796c15aeb6",
   "metadata": {},
   "outputs": [
    {
     "ename": "TypeError",
     "evalue": "test13() missing 1 required keyword-only argument: 'a'",
     "output_type": "error",
     "traceback": [
      "\u001b[0;31m---------------------------------------------------------------------------\u001b[0m",
      "\u001b[0;31mTypeError\u001b[0m                                 Traceback (most recent call last)",
      "Cell \u001b[0;32mIn[16], line 1\u001b[0m\n\u001b[0;32m----> 1\u001b[0m \u001b[43mtest13\u001b[49m\u001b[43m(\u001b[49m\u001b[38;5;241;43m1\u001b[39;49m\u001b[43m,\u001b[49m\u001b[38;5;241;43m2\u001b[39;49m\u001b[43m,\u001b[49m\u001b[38;5;241;43m3\u001b[39;49m\u001b[43m,\u001b[49m\u001b[38;5;241;43m4\u001b[39;49m\u001b[43m)\u001b[49m\n",
      "\u001b[0;31mTypeError\u001b[0m: test13() missing 1 required keyword-only argument: 'a'"
     ]
    }
   ],
   "source": [
    "test13(1,2,3,4)"
   ]
  },
  {
   "cell_type": "code",
   "execution_count": 17,
   "id": "f25bf5e1-1ead-43c7-b5fa-f72a1b32340b",
   "metadata": {},
   "outputs": [
    {
     "data": {
      "text/plain": [
       "((1, 2, 3, 4), 23)"
      ]
     },
     "execution_count": 17,
     "metadata": {},
     "output_type": "execute_result"
    }
   ],
   "source": [
    "test13(1,2,3,4 , a = 23)"
   ]
  },
  {
   "cell_type": "code",
   "execution_count": 24,
   "id": "0e1d6417-aaee-4d7a-ba69-699d81054904",
   "metadata": {},
   "outputs": [],
   "source": [
    "def test14(c,d, a=23,b=1):\n",
    "    return c,d,a,b\n",
    "    "
   ]
  },
  {
   "cell_type": "code",
   "execution_count": 25,
   "id": "821c973b-83b3-4014-8ba2-9b61b29f448f",
   "metadata": {},
   "outputs": [
    {
     "data": {
      "text/plain": [
       "(23, 45, 23, 1)"
      ]
     },
     "execution_count": 25,
     "metadata": {},
     "output_type": "execute_result"
    }
   ],
   "source": [
    "test14(23,45)"
   ]
  },
  {
   "cell_type": "code",
   "execution_count": 28,
   "id": "e4c9098f-1f20-4d77-9983-168a31bc092e",
   "metadata": {},
   "outputs": [
    {
     "data": {
      "text/plain": [
       "(23, 45, 3455, 1)"
      ]
     },
     "execution_count": 28,
     "metadata": {},
     "output_type": "execute_result"
    }
   ],
   "source": [
    "test14(23,45 , a=3455 ) # override a"
   ]
  },
  {
   "cell_type": "code",
   "execution_count": 29,
   "id": "ade3a7f7-ca4d-4092-a651-4f0115a87e94",
   "metadata": {},
   "outputs": [],
   "source": [
    "def test15(**kwargs):\n",
    "    return kwargs"
   ]
  },
  {
   "cell_type": "code",
   "execution_count": 30,
   "id": "0747335f-1fad-450e-bac5-9dc04601e709",
   "metadata": {},
   "outputs": [
    {
     "data": {
      "text/plain": [
       "{}"
      ]
     },
     "execution_count": 30,
     "metadata": {},
     "output_type": "execute_result"
    }
   ],
   "source": [
    "test15()"
   ]
  },
  {
   "cell_type": "code",
   "execution_count": 31,
   "id": "5cde3338-0c9b-4910-9c18-9a04f385b0a7",
   "metadata": {},
   "outputs": [
    {
     "data": {
      "text/plain": [
       "dict"
      ]
     },
     "execution_count": 31,
     "metadata": {},
     "output_type": "execute_result"
    }
   ],
   "source": [
    "type(test15())"
   ]
  },
  {
   "cell_type": "code",
   "execution_count": null,
   "id": "f17a48ae-7bca-4597-8f83-52a594c779ef",
   "metadata": {},
   "outputs": [],
   "source": [
    "test15(a = [1,2,4,3], b = \"msk\" , c = 23.45)"
   ]
  }
 ],
 "metadata": {
  "kernelspec": {
   "display_name": "Python 3 (ipykernel)",
   "language": "python",
   "name": "python3"
  },
  "language_info": {
   "codemirror_mode": {
    "name": "ipython",
    "version": 3
   },
   "file_extension": ".py",
   "mimetype": "text/x-python",
   "name": "python",
   "nbconvert_exporter": "python",
   "pygments_lexer": "ipython3",
   "version": "3.10.8"
  }
 },
 "nbformat": 4,
 "nbformat_minor": 5
}
