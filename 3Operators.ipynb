{
 "cells": [
  {
   "cell_type": "code",
   "execution_count": null,
   "metadata": {},
   "outputs": [],
   "source": []
  },
  {
   "cell_type": "code",
   "execution_count": 1,
   "id": "fe5cb2af-a4fc-491d-9f11-b51f94ef6e3a",
   "metadata": {},
   "outputs": [],
   "source": [
    "# Arithmatic Operators"
   ]
  },
  {
   "cell_type": "code",
   "execution_count": 9,
   "id": "d16f3242-cd63-4442-80ac-f49ea97bbc31",
   "metadata": {},
   "outputs": [
    {
     "data": {
      "text/plain": [
       "2"
      ]
     },
     "execution_count": 9,
     "metadata": {},
     "output_type": "execute_result"
    }
   ],
   "source": [
    "1 + 1  #addition operator"
   ]
  },
  {
   "cell_type": "code",
   "execution_count": 8,
   "id": "3b40af68-5c98-4ca4-8465-a9d7097717a5",
   "metadata": {},
   "outputs": [
    {
     "data": {
      "text/plain": [
       "1"
      ]
     },
     "execution_count": 8,
     "metadata": {},
     "output_type": "execute_result"
    }
   ],
   "source": [
    "2 - 1   # subtraction operator"
   ]
  },
  {
   "cell_type": "code",
   "execution_count": 4,
   "id": "408dc54a-1286-47bb-8a9c-4da194eca3b3",
   "metadata": {},
   "outputs": [
    {
     "data": {
      "text/plain": [
       "9"
      ]
     },
     "execution_count": 4,
     "metadata": {},
     "output_type": "execute_result"
    }
   ],
   "source": [
    "3*3"
   ]
  },
  {
   "cell_type": "code",
   "execution_count": 5,
   "id": "4f4b3aa4-f2f4-40f9-97ca-4d8cb1c3a53d",
   "metadata": {},
   "outputs": [
    {
     "data": {
      "text/plain": [
       "5.0"
      ]
     },
     "execution_count": 5,
     "metadata": {},
     "output_type": "execute_result"
    }
   ],
   "source": [
    "10 / 2"
   ]
  },
  {
   "cell_type": "code",
   "execution_count": 6,
   "id": "03a3c6ec-162d-40a7-ae3c-3a977d30350e",
   "metadata": {},
   "outputs": [
    {
     "data": {
      "text/plain": [
       "3.3333333333333335"
      ]
     },
     "execution_count": 6,
     "metadata": {},
     "output_type": "execute_result"
    }
   ],
   "source": [
    "10 / 3"
   ]
  },
  {
   "cell_type": "code",
   "execution_count": 7,
   "id": "62413759-b5a2-43f0-9c10-3ce7da7b2edd",
   "metadata": {},
   "outputs": [
    {
     "data": {
      "text/plain": [
       "-3"
      ]
     },
     "execution_count": 7,
     "metadata": {},
     "output_type": "execute_result"
    }
   ],
   "source": [
    "4 - 7"
   ]
  },
  {
   "cell_type": "code",
   "execution_count": 11,
   "id": "afa73ba7-a55f-4892-844b-64eebb823ccc",
   "metadata": {},
   "outputs": [
    {
     "data": {
      "text/plain": [
       "1"
      ]
     },
     "execution_count": 11,
     "metadata": {},
     "output_type": "execute_result"
    }
   ],
   "source": [
    "10 % 3   # modulus operator is used for REMAINDER"
   ]
  },
  {
   "cell_type": "code",
   "execution_count": 13,
   "id": "655515d5-7b28-4f45-8ee2-da2bcfc545d6",
   "metadata": {},
   "outputs": [
    {
     "data": {
      "text/plain": [
       "1"
      ]
     },
     "execution_count": 13,
     "metadata": {},
     "output_type": "execute_result"
    }
   ],
   "source": [
    "5 // 4   # division floor operator is used for Quetient"
   ]
  },
  {
   "cell_type": "code",
   "execution_count": 14,
   "id": "924ee4c4-357e-4843-b365-80744c8308d5",
   "metadata": {},
   "outputs": [
    {
     "data": {
      "text/plain": [
       "5"
      ]
     },
     "execution_count": 14,
     "metadata": {},
     "output_type": "execute_result"
    }
   ],
   "source": [
    "10 // 2"
   ]
  },
  {
   "cell_type": "code",
   "execution_count": 15,
   "id": "bd2d2c00-f903-428a-880d-a3c13118b121",
   "metadata": {},
   "outputs": [
    {
     "data": {
      "text/plain": [
       "8"
      ]
     },
     "execution_count": 15,
     "metadata": {},
     "output_type": "execute_result"
    }
   ],
   "source": [
    "2 ** 3 # Exponent operator"
   ]
  },
  {
   "cell_type": "code",
   "execution_count": 16,
   "id": "be434d01-47a3-4830-8d75-de1174a69efc",
   "metadata": {},
   "outputs": [],
   "source": [
    "\n",
    "# Comarision Operator"
   ]
  },
  {
   "cell_type": "code",
   "execution_count": 17,
   "id": "6d54720c-a21a-408a-8595-feca8567a97d",
   "metadata": {},
   "outputs": [
    {
     "data": {
      "text/plain": [
       "False"
      ]
     },
     "execution_count": 17,
     "metadata": {},
     "output_type": "execute_result"
    }
   ],
   "source": [
    "1 > 2"
   ]
  },
  {
   "cell_type": "code",
   "execution_count": 18,
   "id": "211d0fcb-f474-4b2b-9232-e58a67a05e33",
   "metadata": {},
   "outputs": [
    {
     "data": {
      "text/plain": [
       "True"
      ]
     },
     "execution_count": 18,
     "metadata": {},
     "output_type": "execute_result"
    }
   ],
   "source": [
    "1 < 2"
   ]
  },
  {
   "cell_type": "code",
   "execution_count": 19,
   "id": "de55a1b5-15c8-4a3b-8708-1b793de8a0d6",
   "metadata": {},
   "outputs": [
    {
     "data": {
      "text/plain": [
       "True"
      ]
     },
     "execution_count": 19,
     "metadata": {},
     "output_type": "execute_result"
    }
   ],
   "source": [
    "1 == 1"
   ]
  },
  {
   "cell_type": "code",
   "execution_count": 20,
   "id": "c092ccc9-8875-4358-bc6a-d41e476300a5",
   "metadata": {},
   "outputs": [
    {
     "data": {
      "text/plain": [
       "False"
      ]
     },
     "execution_count": 20,
     "metadata": {},
     "output_type": "execute_result"
    }
   ],
   "source": [
    "1 == 2"
   ]
  },
  {
   "cell_type": "code",
   "execution_count": 22,
   "id": "63454761-a87a-4d66-9bf1-d27749978d93",
   "metadata": {},
   "outputs": [
    {
     "data": {
      "text/plain": [
       "True"
      ]
     },
     "execution_count": 22,
     "metadata": {},
     "output_type": "execute_result"
    }
   ],
   "source": [
    "1 != 2    # n0t equals to"
   ]
  },
  {
   "cell_type": "code",
   "execution_count": 24,
   "id": "2b5f4895-8332-44ab-b581-a7503c28137e",
   "metadata": {},
   "outputs": [
    {
     "data": {
      "text/plain": [
       "True"
      ]
     },
     "execution_count": 24,
     "metadata": {},
     "output_type": "execute_result"
    }
   ],
   "source": [
    "2 >= 2"
   ]
  },
  {
   "cell_type": "code",
   "execution_count": 25,
   "id": "210f0320-7112-4f0f-a6df-d71a705d1d2b",
   "metadata": {},
   "outputs": [
    {
     "data": {
      "text/plain": [
       "False"
      ]
     },
     "execution_count": 25,
     "metadata": {},
     "output_type": "execute_result"
    }
   ],
   "source": [
    "3 <= 2"
   ]
  },
  {
   "cell_type": "code",
   "execution_count": 26,
   "id": "8f2f61c0-e966-4476-b63e-841ee5b60305",
   "metadata": {},
   "outputs": [],
   "source": [
    "\n",
    "# Logical operator"
   ]
  },
  {
   "cell_type": "code",
   "execution_count": 28,
   "id": "c6f8198c-3945-4885-9db7-a9ac0024e31d",
   "metadata": {},
   "outputs": [],
   "source": [
    "# AND OPERATOR\n",
    "\n",
    "# 1  1   = T =1\n",
    "# 1  0   = F =0\n",
    "# 0  1   = F =0\n",
    "# 0  0   = F =0\n",
    "\n",
    "# OR OPERATOR\n",
    "\n",
    "# 1  1   = T =1\n",
    "# 1  0   = T =1\n",
    "# 0  1   = T =1\n",
    "# 0  0   = F =0"
   ]
  },
  {
   "cell_type": "code",
   "execution_count": 29,
   "id": "6079b0eb-c085-4130-8ce0-f55253009e83",
   "metadata": {},
   "outputs": [
    {
     "data": {
      "text/plain": [
       "True"
      ]
     },
     "execution_count": 29,
     "metadata": {},
     "output_type": "execute_result"
    }
   ],
   "source": [
    "True and True"
   ]
  },
  {
   "cell_type": "code",
   "execution_count": 30,
   "id": "dd099e09-7372-4111-b0bc-60714fef1640",
   "metadata": {},
   "outputs": [
    {
     "data": {
      "text/plain": [
       "False"
      ]
     },
     "execution_count": 30,
     "metadata": {},
     "output_type": "execute_result"
    }
   ],
   "source": [
    "True and False"
   ]
  },
  {
   "cell_type": "code",
   "execution_count": 31,
   "id": "7c6d22ee-43b0-4299-af22-6909d0a864df",
   "metadata": {},
   "outputs": [
    {
     "data": {
      "text/plain": [
       "False"
      ]
     },
     "execution_count": 31,
     "metadata": {},
     "output_type": "execute_result"
    }
   ],
   "source": [
    "False and True"
   ]
  },
  {
   "cell_type": "code",
   "execution_count": 32,
   "id": "e2e3088f-b490-4665-a10e-5ff7498a9f32",
   "metadata": {},
   "outputs": [
    {
     "data": {
      "text/plain": [
       "False"
      ]
     },
     "execution_count": 32,
     "metadata": {},
     "output_type": "execute_result"
    }
   ],
   "source": [
    "False and False"
   ]
  },
  {
   "cell_type": "code",
   "execution_count": 33,
   "id": "e4236a5a-7e67-45f3-b95e-aff344be1346",
   "metadata": {},
   "outputs": [],
   "source": [
    "#OR"
   ]
  },
  {
   "cell_type": "code",
   "execution_count": 34,
   "id": "1eb0b768-0158-4752-9d2e-6022ab837201",
   "metadata": {},
   "outputs": [
    {
     "data": {
      "text/plain": [
       "True"
      ]
     },
     "execution_count": 34,
     "metadata": {},
     "output_type": "execute_result"
    }
   ],
   "source": [
    "True or True"
   ]
  },
  {
   "cell_type": "code",
   "execution_count": 35,
   "id": "d181b616-05c4-4a7a-b3df-5d6f4eb175fc",
   "metadata": {},
   "outputs": [
    {
     "data": {
      "text/plain": [
       "True"
      ]
     },
     "execution_count": 35,
     "metadata": {},
     "output_type": "execute_result"
    }
   ],
   "source": [
    "True or False"
   ]
  },
  {
   "cell_type": "code",
   "execution_count": 36,
   "id": "b51029ce-2b8e-4764-a0bd-6e4bc2b6d9ab",
   "metadata": {},
   "outputs": [],
   "source": [
    "\n",
    "#bIT WAISE oPERATOR"
   ]
  },
  {
   "cell_type": "code",
   "execution_count": 37,
   "id": "53e7c687-b279-485e-b9c1-44f71d9caf6c",
   "metadata": {},
   "outputs": [
    {
     "data": {
      "text/plain": [
       "0"
      ]
     },
     "execution_count": 37,
     "metadata": {},
     "output_type": "execute_result"
    }
   ],
   "source": [
    "10 & 4"
   ]
  },
  {
   "cell_type": "code",
   "execution_count": 38,
   "id": "501ccbd8-7ce8-42ec-b5f4-38a17b6283e8",
   "metadata": {},
   "outputs": [
    {
     "data": {
      "text/plain": [
       "'0b1010'"
      ]
     },
     "execution_count": 38,
     "metadata": {},
     "output_type": "execute_result"
    }
   ],
   "source": [
    "bin(10)"
   ]
  },
  {
   "cell_type": "code",
   "execution_count": 39,
   "id": "f08ae97c-d504-40fd-a19d-4233a34d83e0",
   "metadata": {},
   "outputs": [
    {
     "data": {
      "text/plain": [
       "'0b100'"
      ]
     },
     "execution_count": 39,
     "metadata": {},
     "output_type": "execute_result"
    }
   ],
   "source": [
    "bin(4)"
   ]
  },
  {
   "cell_type": "code",
   "execution_count": 40,
   "id": "f123202c-675c-4549-82a6-7e307b0bfb34",
   "metadata": {},
   "outputs": [],
   "source": [
    "# after aplying \"and\" operation"
   ]
  },
  {
   "cell_type": "code",
   "execution_count": 41,
   "id": "9c71d000-91d5-4755-a3a0-31b58f141a20",
   "metadata": {},
   "outputs": [],
   "source": [
    "# 10 -- 4\n",
    "# 1     0  =0\n",
    "# 0     1  =0\n",
    "# 1     0  =0\n",
    "# 0     0  =0\n",
    " #All are zero so output will be zero"
   ]
  },
  {
   "cell_type": "code",
   "execution_count": 42,
   "id": "8e1f9272-29e0-4488-9351-5d8d6cea426e",
   "metadata": {},
   "outputs": [
    {
     "data": {
      "text/plain": [
       "15"
      ]
     },
     "execution_count": 42,
     "metadata": {},
     "output_type": "execute_result"
    }
   ],
   "source": [
    "11 | 6   # OR Operator"
   ]
  },
  {
   "cell_type": "code",
   "execution_count": 44,
   "id": "c0fe1cf3-5dbe-42a1-8394-fb3910cf2e02",
   "metadata": {},
   "outputs": [
    {
     "data": {
      "text/plain": [
       "-13"
      ]
     },
     "execution_count": 44,
     "metadata": {},
     "output_type": "execute_result"
    }
   ],
   "source": [
    "~12   # tilled or bitwise not"
   ]
  },
  {
   "cell_type": "code",
   "execution_count": 45,
   "id": "e88b5aaf-4f86-4a00-b7ee-9156bad993c8",
   "metadata": {},
   "outputs": [
    {
     "data": {
      "text/plain": [
       "-21"
      ]
     },
     "execution_count": 45,
     "metadata": {},
     "output_type": "execute_result"
    }
   ],
   "source": [
    "~20"
   ]
  },
  {
   "cell_type": "code",
   "execution_count": 46,
   "id": "59a48dc5-d89c-4596-8ff7-4e5d5411159d",
   "metadata": {},
   "outputs": [
    {
     "data": {
      "text/plain": [
       "'0b10100'"
      ]
     },
     "execution_count": 46,
     "metadata": {},
     "output_type": "execute_result"
    }
   ],
   "source": [
    "bin(20)"
   ]
  },
  {
   "cell_type": "code",
   "execution_count": 47,
   "id": "c22991a1-4f0d-4a04-9ced-c77b57baaabc",
   "metadata": {},
   "outputs": [
    {
     "data": {
      "text/plain": [
       "'0b10101'"
      ]
     },
     "execution_count": 47,
     "metadata": {},
     "output_type": "execute_result"
    }
   ],
   "source": [
    "bin(21)"
   ]
  },
  {
   "cell_type": "code",
   "execution_count": 5,
   "id": "38ebaf63-277f-49ee-be2a-430ccc101931",
   "metadata": {},
   "outputs": [],
   "source": [
    "# bin 20 = -(10100  +1)\n",
    "# bin 21 = 10101\n",
    "# ~(bin 21 = -10101"
   ]
  },
  {
   "cell_type": "code",
   "execution_count": 6,
   "id": "c63b3964",
   "metadata": {},
   "outputs": [],
   "source": [
    "x = 8"
   ]
  },
  {
   "cell_type": "code",
   "execution_count": 8,
   "id": "06227e60",
   "metadata": {},
   "outputs": [
    {
     "data": {
      "text/plain": [
       "2"
      ]
     },
     "execution_count": 8,
     "metadata": {},
     "output_type": "execute_result"
    }
   ],
   "source": [
    "x >> 2   #Right shift operator"
   ]
  },
  {
   "cell_type": "code",
   "execution_count": 9,
   "id": "4ad6b864",
   "metadata": {},
   "outputs": [
    {
     "data": {
      "text/plain": [
       "'0b1000'"
      ]
     },
     "execution_count": 9,
     "metadata": {},
     "output_type": "execute_result"
    }
   ],
   "source": [
    "bin(x)"
   ]
  },
  {
   "cell_type": "code",
   "execution_count": 10,
   "id": "74296e89",
   "metadata": {},
   "outputs": [],
   "source": [
    "# value of x is : 1000 , by using right shift operator 10 - (right shift 00) remaing - 10 is value of bin(2)/ so output is 2. "
   ]
  },
  {
   "cell_type": "code",
   "execution_count": 11,
   "id": "2a7fe298",
   "metadata": {},
   "outputs": [
    {
     "data": {
      "text/plain": [
       "320"
      ]
     },
     "execution_count": 11,
     "metadata": {},
     "output_type": "execute_result"
    }
   ],
   "source": [
    "20 << 4"
   ]
  },
  {
   "cell_type": "code",
   "execution_count": 12,
   "id": "eaea483c",
   "metadata": {},
   "outputs": [
    {
     "data": {
      "text/plain": [
       "'0b101000000'"
      ]
     },
     "execution_count": 12,
     "metadata": {},
     "output_type": "execute_result"
    }
   ],
   "source": [
    "bin(320)"
   ]
  },
  {
   "cell_type": "code",
   "execution_count": 13,
   "id": "b855e81b",
   "metadata": {},
   "outputs": [
    {
     "data": {
      "text/plain": [
       "'0b10100'"
      ]
     },
     "execution_count": 13,
     "metadata": {},
     "output_type": "execute_result"
    }
   ],
   "source": [
    "bin(20)"
   ]
  },
  {
   "cell_type": "code",
   "execution_count": null,
   "id": "1d621a07",
   "metadata": {},
   "outputs": [],
   "source": []
  }
 ],
 "metadata": {
  "kernelspec": {
   "display_name": "Python 3 (ipykernel)",
   "language": "python",
   "name": "python3"
  },
  "language_info": {
   "codemirror_mode": {
    "name": "ipython",
    "version": 3
   },
   "file_extension": ".py",
   "mimetype": "text/x-python",
   "name": "python",
   "nbconvert_exporter": "python",
   "pygments_lexer": "ipython3",
   "version": "3.11.4"
  }
 },
 "nbformat": 4,
 "nbformat_minor": 5
}
