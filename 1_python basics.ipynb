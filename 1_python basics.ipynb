{
 "cells": [
  {
   "cell_type": "code",
   "execution_count": 1,
   "id": "2d53c4b0-a28c-412f-bf43-868b3664449c",
   "metadata": {},
   "outputs": [],
   "source": [
    "str = \"suhail\""
   ]
  },
  {
   "cell_type": "code",
   "execution_count": 6,
   "id": "2ac1a41b-68e3-463c-8f6f-20e3c0463e71",
   "metadata": {},
   "outputs": [
    {
     "data": {
      "text/plain": [
       "str"
      ]
     },
     "execution_count": 6,
     "metadata": {},
     "output_type": "execute_result"
    }
   ],
   "source": [
    "type(str)"
   ]
  },
  {
   "cell_type": "code",
   "execution_count": 2,
   "id": "96afdc6c-ae20-4fc8-9b9c-8e3d84f63960",
   "metadata": {},
   "outputs": [
    {
     "data": {
      "text/plain": [
       "'s'"
      ]
     },
     "execution_count": 2,
     "metadata": {},
     "output_type": "execute_result"
    }
   ],
   "source": [
    "str[0]  #forward indexing in string"
   ]
  },
  {
   "cell_type": "code",
   "execution_count": 3,
   "id": "a2c98ff2-702d-4824-b089-1568b7a7a409",
   "metadata": {},
   "outputs": [
    {
     "data": {
      "text/plain": [
       "'u'"
      ]
     },
     "execution_count": 3,
     "metadata": {},
     "output_type": "execute_result"
    }
   ],
   "source": [
    "str[1]"
   ]
  },
  {
   "cell_type": "code",
   "execution_count": 7,
   "id": "030ba434-b510-43c6-a7fc-a072674b80cb",
   "metadata": {},
   "outputs": [
    {
     "data": {
      "text/plain": [
       "'l'"
      ]
     },
     "execution_count": 7,
     "metadata": {},
     "output_type": "execute_result"
    }
   ],
   "source": [
    "str[-1] #backward indexing in string"
   ]
  },
  {
   "cell_type": "code",
   "execution_count": 5,
   "id": "81b09678-555e-4262-8d60-e6a341709fca",
   "metadata": {},
   "outputs": [
    {
     "data": {
      "text/plain": [
       "'i'"
      ]
     },
     "execution_count": 5,
     "metadata": {},
     "output_type": "execute_result"
    }
   ],
   "source": [
    "str[-2]"
   ]
  },
  {
   "cell_type": "code",
   "execution_count": 8,
   "id": "54d4897a-298c-4ee0-828f-9f6c1973f22f",
   "metadata": {},
   "outputs": [
    {
     "data": {
      "text/plain": [
       "'su'"
      ]
     },
     "execution_count": 8,
     "metadata": {},
     "output_type": "execute_result"
    }
   ],
   "source": [
    "str[0 : 2]  # slicing based on indexing"
   ]
  },
  {
   "cell_type": "code",
   "execution_count": 10,
   "id": "3a397f54-1318-4019-8246-6e751d54e746",
   "metadata": {},
   "outputs": [
    {
     "data": {
      "text/plain": [
       "'suh'"
      ]
     },
     "execution_count": 10,
     "metadata": {},
     "output_type": "execute_result"
    }
   ],
   "source": [
    "# want to get suh\n",
    "\n",
    "str[0:3]"
   ]
  },
  {
   "cell_type": "code",
   "execution_count": 11,
   "id": "63a71438-cc00-4cf6-86b0-25f4ae679f63",
   "metadata": {},
   "outputs": [
    {
     "data": {
      "text/plain": [
       "'hai'"
      ]
     },
     "execution_count": 11,
     "metadata": {},
     "output_type": "execute_result"
    }
   ],
   "source": [
    "# want to get \"hai\"\n",
    "\n",
    "str[2:5]"
   ]
  },
  {
   "cell_type": "code",
   "execution_count": 15,
   "id": "64eba2bc-fa43-4f8f-8537-b1ebba2841b6",
   "metadata": {},
   "outputs": [
    {
     "data": {
      "text/plain": [
       "'shi'"
      ]
     },
     "execution_count": 15,
     "metadata": {},
     "output_type": "execute_result"
    }
   ],
   "source": [
    "# want to get \"s h i l\"  / jump the data or skip the indexex\n",
    "str[0:6:2]"
   ]
  },
  {
   "cell_type": "code",
   "execution_count": 16,
   "id": "0c471987-4879-48e5-9a3f-2f1d292d0f2c",
   "metadata": {},
   "outputs": [
    {
     "data": {
      "text/plain": [
       "'shi'"
      ]
     },
     "execution_count": 16,
     "metadata": {},
     "output_type": "execute_result"
    }
   ],
   "source": [
    "# want to get \"s h i l\"  / jump the data or skip the indexex\n",
    "\n",
    "str[::2]"
   ]
  },
  {
   "cell_type": "code",
   "execution_count": 18,
   "id": "028f0d29-0eca-4e58-9727-6e6e34e5c2e1",
   "metadata": {},
   "outputs": [
    {
     "data": {
      "text/plain": [
       "'liahus'"
      ]
     },
     "execution_count": 18,
     "metadata": {},
     "output_type": "execute_result"
    }
   ],
   "source": [
    "# Reverse print\n",
    "str[::-1]"
   ]
  },
  {
   "cell_type": "code",
   "execution_count": 20,
   "id": "8721888a-5556-4632-9aac-daa955d7fdbe",
   "metadata": {},
   "outputs": [
    {
     "data": {
      "text/plain": [
       "'lau'"
      ]
     },
     "execution_count": 20,
     "metadata": {},
     "output_type": "execute_result"
    }
   ],
   "source": [
    "# Reverse print + 2 jump\n",
    "str[::-2]"
   ]
  },
  {
   "cell_type": "code",
   "execution_count": 23,
   "id": "3f1e5fca-3ba9-4c9a-b067-d6410ee8a32d",
   "metadata": {},
   "outputs": [
    {
     "data": {
      "text/plain": [
       "''"
      ]
     },
     "execution_count": 23,
     "metadata": {},
     "output_type": "execute_result"
    }
   ],
   "source": [
    "# starting point 2 to 5 but jump from -1 // difference direction so o/p is blank\n",
    "\n",
    "str[2:5:-1]"
   ]
  },
  {
   "cell_type": "code",
   "execution_count": 24,
   "id": "c8250e18-2f33-49e8-81c0-d15010322d01",
   "metadata": {},
   "outputs": [
    {
     "data": {
      "text/plain": [
       "''"
      ]
     },
     "execution_count": 24,
     "metadata": {},
     "output_type": "execute_result"
    }
   ],
   "source": [
    "str[8:0]"
   ]
  },
  {
   "cell_type": "code",
   "execution_count": 28,
   "id": "206cc4c9-9b36-43cd-80af-c894134192f9",
   "metadata": {},
   "outputs": [
    {
     "data": {
      "text/plain": [
       "'liahu'"
      ]
     },
     "execution_count": 28,
     "metadata": {},
     "output_type": "execute_result"
    }
   ],
   "source": [
    "str[6:0:-1]"
   ]
  },
  {
   "cell_type": "code",
   "execution_count": 33,
   "id": "ec3b594f-2a2d-42ca-a259-9a0ba4ed0880",
   "metadata": {},
   "outputs": [
    {
     "data": {
      "text/plain": [
       "''"
      ]
     },
     "execution_count": 33,
     "metadata": {},
     "output_type": "execute_result"
    }
   ],
   "source": [
    "str[-2:-5:1]"
   ]
  },
  {
   "cell_type": "code",
   "execution_count": 36,
   "id": "fd7e5686-55ff-42af-914e-50e9f5a3ed65",
   "metadata": {},
   "outputs": [
    {
     "data": {
      "text/plain": [
       "'iahus'"
      ]
     },
     "execution_count": 36,
     "metadata": {},
     "output_type": "execute_result"
    }
   ],
   "source": [
    "str[-2:-7:-1]"
   ]
  },
  {
   "cell_type": "code",
   "execution_count": 37,
   "id": "059db6c4-893d-4b9f-bf42-2a62b0e34571",
   "metadata": {},
   "outputs": [
    {
     "data": {
      "text/plain": [
       "'liahus'"
      ]
     },
     "execution_count": 37,
     "metadata": {},
     "output_type": "execute_result"
    }
   ],
   "source": [
    "str[::-1] # only direction difine no upper and lower limit bound"
   ]
  },
  {
   "cell_type": "code",
   "execution_count": 38,
   "id": "94cacbca-39c2-4bc6-a921-a7de2380a0c8",
   "metadata": {},
   "outputs": [
    {
     "ename": "IndexError",
     "evalue": "string index out of range",
     "output_type": "error",
     "traceback": [
      "\u001b[0;31m---------------------------------------------------------------------------\u001b[0m",
      "\u001b[0;31mIndexError\u001b[0m                                Traceback (most recent call last)",
      "Cell \u001b[0;32mIn[38], line 1\u001b[0m\n\u001b[0;32m----> 1\u001b[0m \u001b[38;5;28;43mstr\u001b[39;49m\u001b[43m[\u001b[49m\u001b[38;5;241;43m90\u001b[39;49m\u001b[43m]\u001b[49m\n",
      "\u001b[0;31mIndexError\u001b[0m: string index out of range"
     ]
    }
   ],
   "source": [
    "str[90] #out of range error in case of ranging"
   ]
  },
  {
   "cell_type": "code",
   "execution_count": 40,
   "id": "694aecae-a577-443b-b6aa-b84bf7961a8d",
   "metadata": {},
   "outputs": [
    {
     "data": {
      "text/plain": [
       "''"
      ]
     },
     "execution_count": 40,
     "metadata": {},
     "output_type": "execute_result"
    }
   ],
   "source": [
    "str[:-90:]   "
   ]
  },
  {
   "cell_type": "code",
   "execution_count": 42,
   "id": "4dc370c0-d525-4619-b205-0a0a6a0c394c",
   "metadata": {},
   "outputs": [
    {
     "data": {
      "text/plain": [
       "'liahus'"
      ]
     },
     "execution_count": 42,
     "metadata": {},
     "output_type": "execute_result"
    }
   ],
   "source": [
    "str[:-90:-1]     #in case of slicing no error"
   ]
  },
  {
   "cell_type": "code",
   "execution_count": 43,
   "id": "0cbe1a01-37bd-4e5d-8778-b888e27dc01b",
   "metadata": {},
   "outputs": [
    {
     "data": {
      "text/plain": [
       "6"
      ]
     },
     "execution_count": 43,
     "metadata": {},
     "output_type": "execute_result"
    }
   ],
   "source": [
    "len(str)"
   ]
  },
  {
   "cell_type": "code",
   "execution_count": 44,
   "id": "5ae016a9-37b3-497d-9fde-c12f7779e4e8",
   "metadata": {},
   "outputs": [],
   "source": [
    "s = \"My name is mohammad suhel\""
   ]
  },
  {
   "cell_type": "code",
   "execution_count": 45,
   "id": "1a86eaeb-fdcf-462a-a2d4-ab1fea3aba02",
   "metadata": {},
   "outputs": [
    {
     "data": {
      "text/plain": [
       "25"
      ]
     },
     "execution_count": 45,
     "metadata": {},
     "output_type": "execute_result"
    }
   ],
   "source": [
    "len(s)"
   ]
  },
  {
   "cell_type": "code",
   "execution_count": 46,
   "id": "0b5b4cfc-c368-4dd2-8bdd-c9bcb76fe1ec",
   "metadata": {},
   "outputs": [
    {
     "data": {
      "text/plain": [
       "8"
      ]
     },
     "execution_count": 46,
     "metadata": {},
     "output_type": "execute_result"
    }
   ],
   "source": [
    "s.find('i') "
   ]
  },
  {
   "cell_type": "code",
   "execution_count": 47,
   "id": "3f66adf6-0188-4eed-b7da-f0e6c36ab70b",
   "metadata": {},
   "outputs": [
    {
     "data": {
      "text/plain": [
       "3"
      ]
     },
     "execution_count": 47,
     "metadata": {},
     "output_type": "execute_result"
    }
   ],
   "source": [
    "s.find('n')"
   ]
  },
  {
   "cell_type": "code",
   "execution_count": 48,
   "id": "c666458f-eda2-4569-9b0c-36dbbb20aa6d",
   "metadata": {},
   "outputs": [
    {
     "data": {
      "text/plain": [
       "4"
      ]
     },
     "execution_count": 48,
     "metadata": {},
     "output_type": "execute_result"
    }
   ],
   "source": [
    "s.find('a')  # first occurence in string"
   ]
  },
  {
   "cell_type": "code",
   "execution_count": 50,
   "id": "4095aab6-bf15-4470-b6af-8d24bffb9588",
   "metadata": {},
   "outputs": [
    {
     "data": {
      "text/plain": [
       "-1"
      ]
     },
     "execution_count": 50,
     "metadata": {},
     "output_type": "execute_result"
    }
   ],
   "source": [
    "s.find('z')   # no error if not present z then o/p -1"
   ]
  },
  {
   "cell_type": "code",
   "execution_count": 52,
   "id": "6eced291-89ea-402d-ac71-0a68c43fb75f",
   "metadata": {},
   "outputs": [
    {
     "data": {
      "text/plain": [
       "2"
      ]
     },
     "execution_count": 52,
     "metadata": {},
     "output_type": "execute_result"
    }
   ],
   "source": [
    "s.count('s')"
   ]
  },
  {
   "cell_type": "code",
   "execution_count": 53,
   "id": "13e01afe-0c2f-4a83-8b25-e5314ad1edc9",
   "metadata": {},
   "outputs": [
    {
     "data": {
      "text/plain": [
       "0"
      ]
     },
     "execution_count": 53,
     "metadata": {},
     "output_type": "execute_result"
    }
   ],
   "source": [
    "s.count('z')"
   ]
  },
  {
   "cell_type": "code",
   "execution_count": 54,
   "id": "c91ac326-989f-45cc-8750-29cb56638e27",
   "metadata": {},
   "outputs": [
    {
     "data": {
      "text/plain": [
       "'MY NAME IS MOHAMMAD SUHEL'"
      ]
     },
     "execution_count": 54,
     "metadata": {},
     "output_type": "execute_result"
    }
   ],
   "source": [
    "s.upper()"
   ]
  },
  {
   "cell_type": "code",
   "execution_count": 55,
   "id": "7e95b768-a3b4-4c84-87c9-d892b2ae943a",
   "metadata": {},
   "outputs": [
    {
     "data": {
      "text/plain": [
       "'my name is mohammad suhel'"
      ]
     },
     "execution_count": 55,
     "metadata": {},
     "output_type": "execute_result"
    }
   ],
   "source": [
    "s.lower()"
   ]
  },
  {
   "cell_type": "code",
   "execution_count": 56,
   "id": "c5116757-316a-46bd-9e46-e005b3a7db63",
   "metadata": {},
   "outputs": [
    {
     "data": {
      "text/plain": [
       "'My Name Is Mohammad Suhel'"
      ]
     },
     "execution_count": 56,
     "metadata": {},
     "output_type": "execute_result"
    }
   ],
   "source": [
    "s.title()"
   ]
  },
  {
   "cell_type": "code",
   "execution_count": 57,
   "id": "3656f1ab-b147-4b90-bb76-7792a94dd462",
   "metadata": {},
   "outputs": [
    {
     "data": {
      "text/plain": [
       "'My name is mohammad suhel'"
      ]
     },
     "execution_count": 57,
     "metadata": {},
     "output_type": "execute_result"
    }
   ],
   "source": [
    "s.capitalize()"
   ]
  },
  {
   "cell_type": "code",
   "execution_count": 58,
   "id": "608a9555-b5d2-4cc3-ae88-4685cbbd9aee",
   "metadata": {},
   "outputs": [
    {
     "data": {
      "text/plain": [
       "'My name is mohammad suhel'"
      ]
     },
     "execution_count": 58,
     "metadata": {},
     "output_type": "execute_result"
    }
   ],
   "source": [
    "s"
   ]
  },
  {
   "cell_type": "code",
   "execution_count": 59,
   "id": "785e277f-d235-47b9-b9b8-8ca061b4f307",
   "metadata": {},
   "outputs": [
    {
     "ename": "TypeError",
     "evalue": "can only concatenate str (not \"int\") to str",
     "output_type": "error",
     "traceback": [
      "\u001b[0;31m---------------------------------------------------------------------------\u001b[0m",
      "\u001b[0;31mTypeError\u001b[0m                                 Traceback (most recent call last)",
      "Cell \u001b[0;32mIn[59], line 1\u001b[0m\n\u001b[0;32m----> 1\u001b[0m \u001b[43ms\u001b[49m\u001b[43m \u001b[49m\u001b[38;5;241;43m+\u001b[39;49m\u001b[43m \u001b[49m\u001b[38;5;241;43m1\u001b[39;49m\n",
      "\u001b[0;31mTypeError\u001b[0m: can only concatenate str (not \"int\") to str"
     ]
    }
   ],
   "source": [
    "s + 1   # concatination opeeration only with same data type"
   ]
  },
  {
   "cell_type": "code",
   "execution_count": 60,
   "id": "916f0b28-e2db-4108-bd93-3527bf59ef77",
   "metadata": {},
   "outputs": [
    {
     "data": {
      "text/plain": [
       "'My name is mohammad suhelmsk'"
      ]
     },
     "execution_count": 60,
     "metadata": {},
     "output_type": "execute_result"
    }
   ],
   "source": [
    "s + \"msk\""
   ]
  },
  {
   "cell_type": "code",
   "execution_count": 68,
   "id": "9b6c23d4-2568-4e2a-b1b4-2c3c419949f2",
   "metadata": {},
   "outputs": [
    {
     "data": {
      "text/plain": [
       "'My name is mohammad suhel1'"
      ]
     },
     "execution_count": 68,
     "metadata": {},
     "output_type": "execute_result"
    }
   ],
   "source": [
    "# if u want to concatinate any no. then convert int in str.\n",
    "s + \"1\""
   ]
  },
  {
   "cell_type": "code",
   "execution_count": 70,
   "id": "37b05494-b566-47d6-98f3-3c76a3cb717b",
   "metadata": {},
   "outputs": [
    {
     "data": {
      "text/plain": [
       "'My name is mohammad suhelMy name is mohammad suhelMy name is mohammad suhel'"
      ]
     },
     "execution_count": 70,
     "metadata": {},
     "output_type": "execute_result"
    }
   ],
   "source": [
    " s * 3"
   ]
  },
  {
   "cell_type": "code",
   "execution_count": 71,
   "id": "d01ea161-41ef-42b3-b189-ca4bbf5b1d52",
   "metadata": {},
   "outputs": [
    {
     "data": {
      "text/plain": [
       "'suhailsuhailsuhail'"
      ]
     },
     "execution_count": 71,
     "metadata": {},
     "output_type": "execute_result"
    }
   ],
   "source": [
    "str * 3"
   ]
  },
  {
   "cell_type": "code",
   "execution_count": 72,
   "id": "662b159a-c5b2-492e-9c80-4b925a077014",
   "metadata": {},
   "outputs": [
    {
     "ename": "TypeError",
     "evalue": "unsupported operand type(s) for /: 'str' and 'int'",
     "output_type": "error",
     "traceback": [
      "\u001b[0;31m---------------------------------------------------------------------------\u001b[0m",
      "\u001b[0;31mTypeError\u001b[0m                                 Traceback (most recent call last)",
      "Cell \u001b[0;32mIn[72], line 1\u001b[0m\n\u001b[0;32m----> 1\u001b[0m \u001b[43ms\u001b[49m\u001b[43m \u001b[49m\u001b[38;5;241;43m/\u001b[39;49m\u001b[43m \u001b[49m\u001b[38;5;241;43m3\u001b[39;49m\n",
      "\u001b[0;31mTypeError\u001b[0m: unsupported operand type(s) for /: 'str' and 'int'"
     ]
    }
   ],
   "source": [
    "s / 3"
   ]
  },
  {
   "cell_type": "code",
   "execution_count": 73,
   "id": "eb8bb3af-a2d0-4828-aec1-454904edad8d",
   "metadata": {},
   "outputs": [],
   "source": [
    "# str only support add + and Multiply * operation"
   ]
  },
  {
   "cell_type": "code",
   "execution_count": 74,
   "id": "e434c9af-93a6-44f5-81e9-81852ad507a9",
   "metadata": {},
   "outputs": [],
   "source": [
    "s2 = 'msk' "
   ]
  },
  {
   "cell_type": "code",
   "execution_count": 75,
   "id": "df710e07-2654-4ad9-98e5-5e280b7bcb32",
   "metadata": {},
   "outputs": [],
   "source": [
    "s3 = \"msk\""
   ]
  },
  {
   "cell_type": "code",
   "execution_count": 76,
   "id": "c910418d-bbf8-4789-ac47-2c01aecd98a9",
   "metadata": {},
   "outputs": [],
   "source": [
    "s4 = \"msk's\""
   ]
  },
  {
   "cell_type": "code",
   "execution_count": 78,
   "id": "51b1c199-5167-4dc3-a92a-5b74d993c938",
   "metadata": {},
   "outputs": [
    {
     "ename": "SyntaxError",
     "evalue": "unterminated string literal (detected at line 2) (1087948283.py, line 2)",
     "output_type": "error",
     "traceback": [
      "\u001b[0;36m  Cell \u001b[0;32mIn[78], line 2\u001b[0;36m\u001b[0m\n\u001b[0;31m    s5 = 'msk's'\u001b[0m\n\u001b[0m               ^\u001b[0m\n\u001b[0;31mSyntaxError\u001b[0m\u001b[0;31m:\u001b[0m unterminated string literal (detected at line 2)\n"
     ]
    }
   ],
   "source": [
    "#     \".......'....\"  = Accept //   '....'...' = reject\n",
    "s5 = 'msk's'   "
   ]
  },
  {
   "cell_type": "code",
   "execution_count": null,
   "id": "f8d41431-8bb9-45e9-9ad7-a6d256b3aa13",
   "metadata": {},
   "outputs": [],
   "source": [
    "# Multiline comments\n",
    "\n",
    "\"\"\"bsdhjbdsk\n",
    "v\n",
    "dsvdfd\n",
    "fgdfgf\n",
    "g\n",
    "f"
   ]
  }
 ],
 "metadata": {
  "kernelspec": {
   "display_name": "Python 3 (ipykernel)",
   "language": "python",
   "name": "python3"
  },
  "language_info": {
   "codemirror_mode": {
    "name": "ipython",
    "version": 3
   },
   "file_extension": ".py",
   "mimetype": "text/x-python",
   "name": "python",
   "nbconvert_exporter": "python",
   "pygments_lexer": "ipython3",
   "version": "3.10.8"
  }
 },
 "nbformat": 4,
 "nbformat_minor": 5
}
