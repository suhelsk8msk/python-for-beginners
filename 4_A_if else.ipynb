{
 "cells": [
  {
   "cell_type": "code",
   "execution_count": 1,
   "id": "47568f4d-d674-4dee-a5bc-cca1ecd397d3",
   "metadata": {},
   "outputs": [],
   "source": [
    "# if - else statement"
   ]
  },
  {
   "cell_type": "code",
   "execution_count": 2,
   "id": "7807f715-2335-4e4e-bc4b-b0a2339f4699",
   "metadata": {},
   "outputs": [],
   "source": [
    "a = 10\n",
    "if a > 10 :\n",
    "    print(\"yes a is greater than 10\")\n",
    "    "
   ]
  },
  {
   "cell_type": "code",
   "execution_count": 3,
   "id": "1991b3a1-552b-40a6-8220-4f763e8ee5c5",
   "metadata": {},
   "outputs": [
    {
     "data": {
      "text/plain": [
       "False"
      ]
     },
     "execution_count": 3,
     "metadata": {},
     "output_type": "execute_result"
    }
   ],
   "source": [
    "a > 10"
   ]
  },
  {
   "cell_type": "code",
   "execution_count": 4,
   "id": "724764f3-f9c3-4ef6-a171-4f525bb8f706",
   "metadata": {},
   "outputs": [
    {
     "name": "stdout",
     "output_type": "stream",
     "text": [
      "yes a is greater than 10\n"
     ]
    }
   ],
   "source": [
    "a = 10\n",
    "if a >= 10 :\n",
    "    print(\"yes a is greater than 10\")\n",
    "    "
   ]
  },
  {
   "cell_type": "code",
   "execution_count": 5,
   "id": "b685217d-3da0-493d-ac28-e6fc478db7de",
   "metadata": {},
   "outputs": [
    {
     "data": {
      "text/plain": [
       "True"
      ]
     },
     "execution_count": 5,
     "metadata": {},
     "output_type": "execute_result"
    }
   ],
   "source": [
    "a >= 10"
   ]
  },
  {
   "cell_type": "code",
   "execution_count": 7,
   "id": "1aa9d5c2-5cd1-44e8-b58e-c7c4429d6a56",
   "metadata": {},
   "outputs": [],
   "source": [
    "b = 20\n",
    "if b > 30 :\n",
    "    print(\"yes b is greater than 30\")"
   ]
  },
  {
   "cell_type": "code",
   "execution_count": 8,
   "id": "48e991ae-3027-4225-a72a-6ef88f8d9620",
   "metadata": {},
   "outputs": [
    {
     "data": {
      "text/plain": [
       "False"
      ]
     },
     "execution_count": 8,
     "metadata": {},
     "output_type": "execute_result"
    }
   ],
   "source": [
    "b > 30"
   ]
  },
  {
   "cell_type": "code",
   "execution_count": 10,
   "id": "be2bdabb-bffd-4bf3-9717-75ea66713db7",
   "metadata": {},
   "outputs": [
    {
     "name": "stdout",
     "output_type": "stream",
     "text": [
      "b is lesser than 30 and 40\n"
     ]
    }
   ],
   "source": [
    "# Nested if - else block\n",
    "\n",
    "b = 20\n",
    "if b > 30 :\n",
    "    print(\"yes b is greater than 30\")\n",
    "elif b > 40 :\n",
    "    print(\"b is lesser than 40\")\n",
    "else :\n",
    "    print(\"b is lesser than 30 and 40\")"
   ]
  },
  {
   "cell_type": "code",
   "execution_count": 1,
   "id": "92e6ee1b-1b01-4ef2-91cf-7600e1a1e199",
   "metadata": {},
   "outputs": [
    {
     "name": "stdin",
     "output_type": "stream",
     "text": [
      " 300\n"
     ]
    },
    {
     "data": {
      "text/plain": [
       "'300'"
      ]
     },
     "execution_count": 1,
     "metadata": {},
     "output_type": "execute_result"
    }
   ],
   "source": [
    "input() # input function is used for taking input by user"
   ]
  },
  {
   "cell_type": "code",
   "execution_count": 2,
   "id": "e57840b0-d5a3-4f38-a141-0202fcd02f86",
   "metadata": {},
   "outputs": [
    {
     "name": "stdin",
     "output_type": "stream",
     "text": [
      " my name is xyz\n"
     ]
    },
    {
     "data": {
      "text/plain": [
       "'my name is xyz'"
      ]
     },
     "execution_count": 2,
     "metadata": {},
     "output_type": "execute_result"
    }
   ],
   "source": [
    "input()"
   ]
  },
  {
   "cell_type": "code",
   "execution_count": 4,
   "id": "3486ebfb-e575-4d5e-9e93-d316dc143bb2",
   "metadata": {},
   "outputs": [
    {
     "name": "stdin",
     "output_type": "stream",
     "text": [
      " 45\n"
     ]
    },
    {
     "data": {
      "text/plain": [
       "45"
      ]
     },
     "execution_count": 4,
     "metadata": {},
     "output_type": "execute_result"
    }
   ],
   "source": [
    "int(input())"
   ]
  },
  {
   "cell_type": "code",
   "execution_count": 5,
   "id": "6d4a9611-18b3-4a1f-8061-fa939a30fa42",
   "metadata": {},
   "outputs": [
    {
     "name": "stdin",
     "output_type": "stream",
     "text": [
      " 60\n"
     ]
    }
   ],
   "source": [
    "b = int(input())"
   ]
  },
  {
   "cell_type": "code",
   "execution_count": 6,
   "id": "ff2a0d9f-88cf-4f7e-9589-f193372e43a0",
   "metadata": {},
   "outputs": [
    {
     "data": {
      "text/plain": [
       "60"
      ]
     },
     "execution_count": 6,
     "metadata": {},
     "output_type": "execute_result"
    }
   ],
   "source": [
    "b"
   ]
  },
  {
   "cell_type": "code",
   "execution_count": 7,
   "id": "9f4b3b2f-561d-4021-ba66-6a71e24c2cda",
   "metadata": {},
   "outputs": [
    {
     "data": {
      "text/plain": [
       "int"
      ]
     },
     "execution_count": 7,
     "metadata": {},
     "output_type": "execute_result"
    }
   ],
   "source": [
    "type(b)"
   ]
  },
  {
   "cell_type": "code",
   "execution_count": 9,
   "id": "baca188f-f0b5-4378-a9b2-e721caa8e327",
   "metadata": {},
   "outputs": [
    {
     "name": "stdin",
     "output_type": "stream",
     "text": [
      " 10\n"
     ]
    },
    {
     "name": "stdout",
     "output_type": "stream",
     "text": [
      "b is lesser than 30 and 40\n"
     ]
    }
   ],
   "source": [
    "b = int(input())\n",
    "if b > 30 :\n",
    "    print(\"yes b is greater than 30\")\n",
    "elif b > 40 :\n",
    "    print(\"b is lesser than 40\")\n",
    "else :\n",
    "    print(\"b is lesser than 30 and 40\")"
   ]
  },
  {
   "cell_type": "code",
   "execution_count": null,
   "id": "37c74eaf-c144-4326-9d26-246b360055ac",
   "metadata": {},
   "outputs": [],
   "source": [
    "marks = int(input())\n",
    "if marks>=91 and marks<=100:\n",
    "    print(\"Grade A\")\n",
    "elif marks>=61 and marks<=90:\n",
    "    print(\"Grade B\")\n",
    "elif marks>=40 and marks<=60:\n",
    "    print(\"Grade C\")\n",
    "else:\n",
    "    print(\"Attepmt Again!!!\")\n",
    "    "
   ]
  },
  {
   "cell_type": "code",
   "execution_count": null,
   "id": "c9c7d3a2-d966-4853-bfce-57c82ee95204",
   "metadata": {},
   "outputs": [],
   "source": [
    "print(\"Enter the marks of all 5 Subjects : \")\n",
    "hindi = int(input())\n",
    "english  = int(input())\n",
    "science = int(input())\n",
    "math = int(input())\n",
    "s_st = int(input())\n",
    "\n",
    "total_marks = hindi+english+science+math+s_st\n",
    "avg_marks = total_marks/5\n",
    "\n",
    "if avg_marks>=60 and avg_marks<=100:\n",
    "    print(\"First Div.\")\n",
    "elif avg_marks>=50 and avg_marks<60:\n",
    "    print(\"Second Div.\")\n",
    "elif avg_marks>=35 and avg_marks<50:\n",
    "    print(\"3rd Div\")\n",
    "elif avg_marks>=0 and avg_marks<35:\n",
    "    print(\"Fail\")\n",
    "else:\n",
    "    print(\"Invalid Input\")"
   ]
  },
  {
   "cell_type": "code",
   "execution_count": null,
   "id": "63091f22-0e75-4e7d-b318-2dd22b283a4a",
   "metadata": {},
   "outputs": [],
   "source": []
  }
 ],
 "metadata": {
  "kernelspec": {
   "display_name": "Python 3 (ipykernel)",
   "language": "python",
   "name": "python3"
  },
  "language_info": {
   "codemirror_mode": {
    "name": "ipython",
    "version": 3
   },
   "file_extension": ".py",
   "mimetype": "text/x-python",
   "name": "python",
   "nbconvert_exporter": "python",
   "pygments_lexer": "ipython3",
   "version": "3.10.8"
  }
 },
 "nbformat": 4,
 "nbformat_minor": 5
}
