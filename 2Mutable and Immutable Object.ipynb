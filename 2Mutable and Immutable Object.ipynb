{
 "cells": [
  {
   "cell_type": "code",
   "execution_count": 1,
   "id": "fdfd92ca-7ed2-4718-b3e7-b853e8c11623",
   "metadata": {},
   "outputs": [],
   "source": [
    "s = \"msk\""
   ]
  },
  {
   "cell_type": "code",
   "execution_count": 2,
   "id": "24c48573-c5ca-45ba-9c32-54c8b8f54be7",
   "metadata": {},
   "outputs": [],
   "source": [
    "s1 = \"suhail\""
   ]
  },
  {
   "cell_type": "code",
   "execution_count": 3,
   "id": "d5c432c2-53a8-4b17-bf9f-59605e4aa1d5",
   "metadata": {},
   "outputs": [
    {
     "data": {
      "text/plain": [
       "str"
      ]
     },
     "execution_count": 3,
     "metadata": {},
     "output_type": "execute_result"
    }
   ],
   "source": [
    "type(s)"
   ]
  },
  {
   "cell_type": "code",
   "execution_count": 4,
   "id": "04d1f1b3-a5cc-4183-ba8d-e6ec854977ba",
   "metadata": {},
   "outputs": [
    {
     "data": {
      "text/plain": [
       "str"
      ]
     },
     "execution_count": 4,
     "metadata": {},
     "output_type": "execute_result"
    }
   ],
   "source": [
    "type(s1)"
   ]
  },
  {
   "cell_type": "code",
   "execution_count": 5,
   "id": "d287b009-e799-4a03-9e85-6c8917de1bef",
   "metadata": {},
   "outputs": [],
   "source": [
    "l = [2,3,\"dfg\",3.44,True,2+7j]"
   ]
  },
  {
   "cell_type": "code",
   "execution_count": 6,
   "id": "8ec150a1-928c-4e75-a3e0-7bd508285e6b",
   "metadata": {},
   "outputs": [
    {
     "data": {
      "text/plain": [
       "list"
      ]
     },
     "execution_count": 6,
     "metadata": {},
     "output_type": "execute_result"
    }
   ],
   "source": [
    "type(l)"
   ]
  },
  {
   "cell_type": "code",
   "execution_count": 11,
   "id": "cf705b54-8777-447f-9640-b897b0d50337",
   "metadata": {},
   "outputs": [],
   "source": [
    "#forward indexing and backward indexing in String data types "
   ]
  },
  {
   "cell_type": "code",
   "execution_count": 8,
   "id": "8f1e181b-a6bb-42bd-8a56-a1dd2f5ee15b",
   "metadata": {},
   "outputs": [
    {
     "data": {
      "text/plain": [
       "'m'"
      ]
     },
     "execution_count": 8,
     "metadata": {},
     "output_type": "execute_result"
    }
   ],
   "source": [
    "s[0]"
   ]
  },
  {
   "cell_type": "code",
   "execution_count": 9,
   "id": "7a7d9e5c-bb90-46c9-89be-a0f3eb8f8db5",
   "metadata": {},
   "outputs": [
    {
     "data": {
      "text/plain": [
       "'s'"
      ]
     },
     "execution_count": 9,
     "metadata": {},
     "output_type": "execute_result"
    }
   ],
   "source": [
    "s[1]"
   ]
  },
  {
   "cell_type": "code",
   "execution_count": 10,
   "id": "d339a961-a1c2-4775-ae07-965c4755ed55",
   "metadata": {},
   "outputs": [
    {
     "data": {
      "text/plain": [
       "'h'"
      ]
     },
     "execution_count": 10,
     "metadata": {},
     "output_type": "execute_result"
    }
   ],
   "source": [
    "s1[2]"
   ]
  },
  {
   "cell_type": "code",
   "execution_count": 12,
   "id": "e49d3b82-2213-4d48-a0e6-f6a238118283",
   "metadata": {},
   "outputs": [],
   "source": [
    "#forward indexing and backward indexing in String data types"
   ]
  },
  {
   "cell_type": "code",
   "execution_count": 13,
   "id": "b966dde7-54d4-4942-b8d8-1cb679e20ce8",
   "metadata": {},
   "outputs": [
    {
     "data": {
      "text/plain": [
       "'k'"
      ]
     },
     "execution_count": 13,
     "metadata": {},
     "output_type": "execute_result"
    }
   ],
   "source": [
    "s[-1]"
   ]
  },
  {
   "cell_type": "code",
   "execution_count": 14,
   "id": "9dcd8c74-492c-4d54-aa0b-34738e2695e2",
   "metadata": {},
   "outputs": [
    {
     "data": {
      "text/plain": [
       "3.44"
      ]
     },
     "execution_count": 14,
     "metadata": {},
     "output_type": "execute_result"
    }
   ],
   "source": [
    "l[3]"
   ]
  },
  {
   "cell_type": "code",
   "execution_count": 15,
   "id": "d6b89c47-16b0-4228-aa28-817cec42aa10",
   "metadata": {},
   "outputs": [
    {
     "data": {
      "text/plain": [
       "True"
      ]
     },
     "execution_count": 15,
     "metadata": {},
     "output_type": "execute_result"
    }
   ],
   "source": [
    "l[4]"
   ]
  },
  {
   "cell_type": "code",
   "execution_count": 16,
   "id": "18d705df-6c7d-455d-998f-3641f839e819",
   "metadata": {},
   "outputs": [
    {
     "data": {
      "text/plain": [
       "[2, 3, 'dfg', 3.44, True, (2+7j)]"
      ]
     },
     "execution_count": 16,
     "metadata": {},
     "output_type": "execute_result"
    }
   ],
   "source": [
    "l"
   ]
  },
  {
   "cell_type": "code",
   "execution_count": 19,
   "id": "7ab92457-a467-4d70-b5d9-d4e6b69d8e2d",
   "metadata": {},
   "outputs": [],
   "source": [
    "l[1] = 300 # indexing 1 change 300 in the place 3"
   ]
  },
  {
   "cell_type": "code",
   "execution_count": 18,
   "id": "46d76a44-392d-4df4-bb6c-6678f54f3c45",
   "metadata": {},
   "outputs": [
    {
     "data": {
      "text/plain": [
       "[2, 300, 'dfg', 3.44, True, (2+7j)]"
      ]
     },
     "execution_count": 18,
     "metadata": {},
     "output_type": "execute_result"
    }
   ],
   "source": [
    "l"
   ]
  },
  {
   "cell_type": "code",
   "execution_count": 20,
   "id": "364a3ba4-41e9-443f-9df0-bde0495c4ed2",
   "metadata": {},
   "outputs": [
    {
     "ename": "TypeError",
     "evalue": "'str' object does not support item assignment",
     "output_type": "error",
     "traceback": [
      "\u001b[0;31m---------------------------------------------------------------------------\u001b[0m",
      "\u001b[0;31mTypeError\u001b[0m                                 Traceback (most recent call last)",
      "Cell \u001b[0;32mIn[20], line 1\u001b[0m\n\u001b[0;32m----> 1\u001b[0m \u001b[43ms\u001b[49m\u001b[43m[\u001b[49m\u001b[38;5;241;43m1\u001b[39;49m\u001b[43m]\u001b[49m \u001b[38;5;241m=\u001b[39m \u001b[38;5;124m\"\u001b[39m\u001b[38;5;124ma\u001b[39m\u001b[38;5;124m\"\u001b[39m\n",
      "\u001b[0;31mTypeError\u001b[0m: 'str' object does not support item assignment"
     ]
    }
   ],
   "source": [
    "s[1] = \"a\""
   ]
  },
  {
   "cell_type": "code",
   "execution_count": 21,
   "id": "5ba6e92f-86c6-4d68-972f-e0f32a7c922f",
   "metadata": {},
   "outputs": [],
   "source": [
    "# TypeError: 'str' object does not support item assignment\n"
   ]
  },
  {
   "cell_type": "code",
   "execution_count": null,
   "id": "f6c73f42-f2d8-4af0-af77-14133a274ae4",
   "metadata": {},
   "outputs": [],
   "source": [
    "# String = Immutab"
   ]
  }
 ],
 "metadata": {
  "kernelspec": {
   "display_name": "Python 3 (ipykernel)",
   "language": "python",
   "name": "python3"
  },
  "language_info": {
   "codemirror_mode": {
    "name": "ipython",
    "version": 3
   },
   "file_extension": ".py",
   "mimetype": "text/x-python",
   "name": "python",
   "nbconvert_exporter": "python",
   "pygments_lexer": "ipython3",
   "version": "3.10.8"
  }
 },
 "nbformat": 4,
 "nbformat_minor": 5
}
