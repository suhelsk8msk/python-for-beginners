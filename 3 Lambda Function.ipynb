{
 "cells": [
  {
   "cell_type": "code",
   "execution_count": 1,
   "id": "8e09d2a4-7a83-4b37-ad4a-9335bacd17bb",
   "metadata": {},
   "outputs": [],
   "source": [
    "# Lambda Function"
   ]
  },
  {
   "cell_type": "code",
   "execution_count": 2,
   "id": "ab470aff-5ab9-43c7-bad1-8f5c62dd1cb0",
   "metadata": {},
   "outputs": [],
   "source": [
    "n =3\n",
    "p = 2"
   ]
  },
  {
   "cell_type": "code",
   "execution_count": 3,
   "id": "10baf4da-a2c3-447c-8ec6-ea4ac04b19f7",
   "metadata": {},
   "outputs": [],
   "source": [
    "def exp(n,p):\n",
    "    return n**p"
   ]
  },
  {
   "cell_type": "code",
   "execution_count": 4,
   "id": "3b60e78c-1ce4-4412-908f-5fb12f3274a2",
   "metadata": {},
   "outputs": [
    {
     "data": {
      "text/plain": [
       "8"
      ]
     },
     "execution_count": 4,
     "metadata": {},
     "output_type": "execute_result"
    }
   ],
   "source": [
    "exp(2,3)"
   ]
  },
  {
   "cell_type": "code",
   "execution_count": 7,
   "id": "f5fb1428-ab4c-408f-b4fe-dd5aa4afc24e",
   "metadata": {},
   "outputs": [
    {
     "data": {
      "text/plain": [
       "125"
      ]
     },
     "execution_count": 7,
     "metadata": {},
     "output_type": "execute_result"
    }
   ],
   "source": [
    "exp(5,3)"
   ]
  },
  {
   "cell_type": "code",
   "execution_count": 10,
   "id": "86f9460a-503b-4190-929c-0a88580b8dfa",
   "metadata": {},
   "outputs": [],
   "source": [
    "a = lambda n, p : n**p    # one liner function - lambda func"
   ]
  },
  {
   "cell_type": "code",
   "execution_count": 9,
   "id": "6702a54d-8d7d-45d8-bf0d-2e55d4c3dbf4",
   "metadata": {},
   "outputs": [
    {
     "data": {
      "text/plain": [
       "8"
      ]
     },
     "execution_count": 9,
     "metadata": {},
     "output_type": "execute_result"
    }
   ],
   "source": [
    "a(2,3)"
   ]
  },
  {
   "cell_type": "code",
   "execution_count": 11,
   "id": "d819f76f-cf38-47ac-ad15-fcff52570069",
   "metadata": {},
   "outputs": [],
   "source": [
    "add = lambda x,y : x+y"
   ]
  },
  {
   "cell_type": "code",
   "execution_count": 12,
   "id": "35a364f1-32a8-4d44-b452-435ce91b7a32",
   "metadata": {},
   "outputs": [
    {
     "data": {
      "text/plain": [
       "9"
      ]
     },
     "execution_count": 12,
     "metadata": {},
     "output_type": "execute_result"
    }
   ],
   "source": [
    "add(4,5)"
   ]
  },
  {
   "cell_type": "code",
   "execution_count": 13,
   "id": "c9b5f0c0-d2f9-433d-a53a-4aaba2a40ba1",
   "metadata": {},
   "outputs": [],
   "source": [
    "# celcius to fahrenheight"
   ]
  },
  {
   "cell_type": "code",
   "execution_count": 14,
   "id": "d51acb7f-e377-4a41-8238-e1c26a3e6ba3",
   "metadata": {},
   "outputs": [],
   "source": [
    "c_to_f = lambda c : (9/5)*c +32"
   ]
  },
  {
   "cell_type": "code",
   "execution_count": 15,
   "id": "89439e89-8798-438f-804e-4e36d58eeeec",
   "metadata": {},
   "outputs": [
    {
     "data": {
      "text/plain": [
       "98.60000000000001"
      ]
     },
     "execution_count": 15,
     "metadata": {},
     "output_type": "execute_result"
    }
   ],
   "source": [
    "c_to_f(37)"
   ]
  },
  {
   "cell_type": "code",
   "execution_count": 16,
   "id": "231b54ab-b83b-48d6-9f38-d0ba802a6515",
   "metadata": {},
   "outputs": [],
   "source": [
    "max = lambda x,y : x if x>y else y"
   ]
  },
  {
   "cell_type": "code",
   "execution_count": 17,
   "id": "002f052e-ea3d-4689-acce-61137dfc224b",
   "metadata": {},
   "outputs": [
    {
     "data": {
      "text/plain": [
       "3"
      ]
     },
     "execution_count": 17,
     "metadata": {},
     "output_type": "execute_result"
    }
   ],
   "source": [
    "max(2,3)"
   ]
  },
  {
   "cell_type": "code",
   "execution_count": 19,
   "id": "4a3ab71f-c0b8-4387-80d3-d5390cbfc6e5",
   "metadata": {},
   "outputs": [
    {
     "data": {
      "text/plain": [
       "4"
      ]
     },
     "execution_count": 19,
     "metadata": {},
     "output_type": "execute_result"
    }
   ],
   "source": [
    "max(4,2)"
   ]
  },
  {
   "cell_type": "code",
   "execution_count": 20,
   "id": "66d4878b-66d1-4de5-b1e8-9c6ac70531bc",
   "metadata": {},
   "outputs": [],
   "source": [
    "# length of string"
   ]
  },
  {
   "cell_type": "code",
   "execution_count": 21,
   "id": "2eb881b4-8f7d-413c-a7eb-66e40f42adc0",
   "metadata": {},
   "outputs": [],
   "source": [
    "s = \"suhail\""
   ]
  },
  {
   "cell_type": "code",
   "execution_count": null,
   "id": "ed4ef851-2fd1-4788-b7c7-722aa4307a41",
   "metadata": {},
   "outputs": [],
   "source": [
    "find_len ="
   ]
  }
 ],
 "metadata": {
  "kernelspec": {
   "display_name": "Python 3 (ipykernel)",
   "language": "python",
   "name": "python3"
  },
  "language_info": {
   "codemirror_mode": {
    "name": "ipython",
    "version": 3
   },
   "file_extension": ".py",
   "mimetype": "text/x-python",
   "name": "python",
   "nbconvert_exporter": "python",
   "pygments_lexer": "ipython3",
   "version": "3.10.8"
  }
 },
 "nbformat": 4,
 "nbformat_minor": 5
}
