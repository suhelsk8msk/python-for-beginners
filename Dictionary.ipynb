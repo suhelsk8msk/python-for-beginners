{
 "cells": [
  {
   "cell_type": "code",
   "execution_count": null,
   "id": "a6d539e9-f45e-46c4-8591-7399e38c147c",
   "metadata": {},
   "outputs": [],
   "source": [
    "#Dictionary - key and value pair"
   ]
  },
  {
   "cell_type": "code",
   "execution_count": 2,
   "id": "2e772314-7f33-4415-8985-0726021e2acd",
   "metadata": {},
   "outputs": [],
   "source": [
    "d = {}"
   ]
  },
  {
   "cell_type": "code",
   "execution_count": 3,
   "id": "8d25150e-78fb-4dad-9940-52c467abe421",
   "metadata": {},
   "outputs": [
    {
     "data": {
      "text/plain": [
       "dict"
      ]
     },
     "execution_count": 3,
     "metadata": {},
     "output_type": "execute_result"
    }
   ],
   "source": [
    "type(d)"
   ]
  },
  {
   "cell_type": "code",
   "execution_count": 4,
   "id": "d92b3c79-339f-4646-9e17-857b665c571c",
   "metadata": {},
   "outputs": [],
   "source": [
    "d1 = {'key' : 'msk'}"
   ]
  },
  {
   "cell_type": "code",
   "execution_count": 5,
   "id": "e29f7651-8520-44f5-8120-8e5bfb6f903a",
   "metadata": {},
   "outputs": [
    {
     "data": {
      "text/plain": [
       "{'key': 'msk'}"
      ]
     },
     "execution_count": 5,
     "metadata": {},
     "output_type": "execute_result"
    }
   ],
   "source": [
    "d1"
   ]
  },
  {
   "cell_type": "code",
   "execution_count": 6,
   "id": "adfc174c-a06d-40d9-a28f-3ecab1d8b53d",
   "metadata": {},
   "outputs": [],
   "source": [
    "d2 = {\"name\" : \"suhail\", \"email\" : \"msk@gmail.com\", \"number\" : \"9576736873\"}"
   ]
  },
  {
   "cell_type": "code",
   "execution_count": 7,
   "id": "ede96c83-7dfd-4aa3-9059-c5ec81b1ef9f",
   "metadata": {},
   "outputs": [
    {
     "data": {
      "text/plain": [
       "{'name': 'suhail', 'email': 'msk@gmail.com', 'number': '9576736873'}"
      ]
     },
     "execution_count": 7,
     "metadata": {},
     "output_type": "execute_result"
    }
   ],
   "source": [
    "d2"
   ]
  },
  {
   "cell_type": "code",
   "execution_count": 8,
   "id": "41c0d106-93a0-425b-ab4d-ba5c3319f7e8",
   "metadata": {},
   "outputs": [],
   "source": [
    "d3 = {234 : \"msk\" , True : 234}"
   ]
  },
  {
   "cell_type": "code",
   "execution_count": 9,
   "id": "e44081ce-9cc6-4902-9e08-1b21f19117d8",
   "metadata": {},
   "outputs": [
    {
     "data": {
      "text/plain": [
       "{234: 'msk', True: 234}"
      ]
     },
     "execution_count": 9,
     "metadata": {},
     "output_type": "execute_result"
    }
   ],
   "source": [
    "d3"
   ]
  },
  {
   "cell_type": "code",
   "execution_count": 10,
   "id": "1bba784b-aa83-4de9-a34e-4f3632e1c1e7",
   "metadata": {},
   "outputs": [
    {
     "ename": "SyntaxError",
     "evalue": "invalid syntax (3089358286.py, line 1)",
     "output_type": "error",
     "traceback": [
      "\u001b[0;36m  Cell \u001b[0;32mIn[10], line 1\u001b[0;36m\u001b[0m\n\u001b[0;31m    d4 = {@34 : \"msk\"}\u001b[0m\n\u001b[0m          ^\u001b[0m\n\u001b[0;31mSyntaxError\u001b[0m\u001b[0;31m:\u001b[0m invalid syntax\n"
     ]
    }
   ],
   "source": [
    "d4 = {@34 : \"msk\"} "
   ]
  },
  {
   "cell_type": "code",
   "execution_count": 11,
   "id": "fb1e5b48-fe89-4ee6-8326-6b627a54d91a",
   "metadata": {},
   "outputs": [],
   "source": [
    "# key allowed = string , numeric values, boolean \n",
    "# key doesn't allow = special characters"
   ]
  },
  {
   "cell_type": "code",
   "execution_count": 12,
   "id": "fc47484e-1eee-425e-91a4-3af9193075c4",
   "metadata": {},
   "outputs": [
    {
     "data": {
      "text/plain": [
       "{234: 'msk', True: 234}"
      ]
     },
     "execution_count": 12,
     "metadata": {},
     "output_type": "execute_result"
    }
   ],
   "source": [
    "d3"
   ]
  },
  {
   "cell_type": "code",
   "execution_count": 13,
   "id": "a13d04ca-4d68-446f-bfdb-b467bcc0673d",
   "metadata": {},
   "outputs": [
    {
     "data": {
      "text/plain": [
       "'msk'"
      ]
     },
     "execution_count": 13,
     "metadata": {},
     "output_type": "execute_result"
    }
   ],
   "source": [
    "# data extaraction\n",
    "d3[234]"
   ]
  },
  {
   "cell_type": "code",
   "execution_count": 14,
   "id": "08dcb240-1053-42fa-a8f9-17fcb4150ed8",
   "metadata": {},
   "outputs": [
    {
     "data": {
      "text/plain": [
       "234"
      ]
     },
     "execution_count": 14,
     "metadata": {},
     "output_type": "execute_result"
    }
   ],
   "source": [
    "d3[True]"
   ]
  },
  {
   "cell_type": "code",
   "execution_count": 16,
   "id": "6ef31c03-6f1b-4006-b778-da0aac8bb6cb",
   "metadata": {},
   "outputs": [
    {
     "data": {
      "text/plain": [
       "234"
      ]
     },
     "execution_count": 16,
     "metadata": {},
     "output_type": "execute_result"
    }
   ],
   "source": [
    "d3[1]  # True =  1"
   ]
  },
  {
   "cell_type": "code",
   "execution_count": 21,
   "id": "e56c6f46-41f3-433e-add6-8eff268d629b",
   "metadata": {},
   "outputs": [],
   "source": [
    "d4 = {\"name\" : \"msk\", \"mail\" :\"msk@gmail.com\", \"name\" : \"suhail\", \"contact\" : 877656666}"
   ]
  },
  {
   "cell_type": "code",
   "execution_count": 22,
   "id": "e562342e-e484-4b04-833e-c6ab646262e8",
   "metadata": {},
   "outputs": [
    {
     "data": {
      "text/plain": [
       "{'name': 'suhail', 'mail': 'msk@gmail.com', 'contact': 877656666}"
      ]
     },
     "execution_count": 22,
     "metadata": {},
     "output_type": "execute_result"
    }
   ],
   "source": [
    "d4"
   ]
  },
  {
   "cell_type": "code",
   "execution_count": 20,
   "id": "ba8f6c8a-6685-4fda-869e-254a80ac3540",
   "metadata": {},
   "outputs": [
    {
     "data": {
      "text/plain": [
       "'suhail'"
      ]
     },
     "execution_count": 20,
     "metadata": {},
     "output_type": "execute_result"
    }
   ],
   "source": [
    "d4[\"name\"]   # key should be unique if not then override with latest value in last"
   ]
  },
  {
   "cell_type": "code",
   "execution_count": 23,
   "id": "dd7d5376-6a98-4e78-a1ac-0b83c82c005b",
   "metadata": {},
   "outputs": [
    {
     "data": {
      "text/plain": [
       "877656666"
      ]
     },
     "execution_count": 23,
     "metadata": {},
     "output_type": "execute_result"
    }
   ],
   "source": [
    "d4[\"contact\"]"
   ]
  },
  {
   "cell_type": "code",
   "execution_count": 26,
   "id": "5bff23c1-7220-4e54-8f6c-936aac971550",
   "metadata": {},
   "outputs": [],
   "source": [
    "d5 = {\"f\" : 865676, \"list\" : [23,4,5,\"msk\",45]}"
   ]
  },
  {
   "cell_type": "code",
   "execution_count": 25,
   "id": "d7277592-fd3e-42ed-bf0e-c1c1df3039e3",
   "metadata": {},
   "outputs": [
    {
     "data": {
      "text/plain": [
       "{'f': 865676, 'lsit': [23, 4, 5, 'msk', 45]}"
      ]
     },
     "execution_count": 25,
     "metadata": {},
     "output_type": "execute_result"
    }
   ],
   "source": [
    "d5"
   ]
  },
  {
   "cell_type": "code",
   "execution_count": 28,
   "id": "101f4bed-dbea-4e86-9b8a-90285a4b33f4",
   "metadata": {},
   "outputs": [
    {
     "data": {
      "text/plain": [
       "[23, 4, 5, 'msk', 45]"
      ]
     },
     "execution_count": 28,
     "metadata": {},
     "output_type": "execute_result"
    }
   ],
   "source": [
    "d5[\"list\"]"
   ]
  },
  {
   "cell_type": "code",
   "execution_count": 29,
   "id": "32b386c3-d5e6-4528-b15f-1eb24717ed1c",
   "metadata": {},
   "outputs": [
    {
     "data": {
      "text/plain": [
       "'msk'"
      ]
     },
     "execution_count": 29,
     "metadata": {},
     "output_type": "execute_result"
    }
   ],
   "source": [
    "d5[\"list\"][3]"
   ]
  },
  {
   "cell_type": "code",
   "execution_count": 30,
   "id": "1a339256-ac1a-4e67-bb48-379b09ef10a7",
   "metadata": {},
   "outputs": [
    {
     "data": {
      "text/plain": [
       "'s'"
      ]
     },
     "execution_count": 30,
     "metadata": {},
     "output_type": "execute_result"
    }
   ],
   "source": [
    "d5[\"list\"][3][1]"
   ]
  },
  {
   "cell_type": "code",
   "execution_count": 34,
   "id": "5ae9836e-462d-4709-9939-4104c85314a8",
   "metadata": {},
   "outputs": [],
   "source": [
    "# In dictionary, user can take any type of values inside as data - list,tuples,set,dictionary"
   ]
  },
  {
   "cell_type": "code",
   "execution_count": 32,
   "id": "b7bae273-c819-42d0-9726-ae738bdcdcc7",
   "metadata": {},
   "outputs": [],
   "source": [
    "d6 = {\"list\" : [2,3,4], \"tuple\" : (2,3,4), \"set\" : {2,3,4}, \"dic\" : {\"name\" : \"msk\", \"contact\" : 8798798768}}"
   ]
  },
  {
   "cell_type": "code",
   "execution_count": 35,
   "id": "538cd021-56fd-47d0-9950-5b5e59e7f6f0",
   "metadata": {},
   "outputs": [
    {
     "data": {
      "text/plain": [
       "{'list': [2, 3, 4],\n",
       " 'tuple': (2, 3, 4),\n",
       " 'set': {2, 3, 4},\n",
       " 'dic': {'name': 'msk', 'contact': 8798798768}}"
      ]
     },
     "execution_count": 35,
     "metadata": {},
     "output_type": "execute_result"
    }
   ],
   "source": [
    "d6"
   ]
  },
  {
   "cell_type": "code",
   "execution_count": 36,
   "id": "40cfa234-7404-4f1c-8f22-0ceaaf9189aa",
   "metadata": {},
   "outputs": [
    {
     "data": {
      "text/plain": [
       "8798798768"
      ]
     },
     "execution_count": 36,
     "metadata": {},
     "output_type": "execute_result"
    }
   ],
   "source": [
    "d6[\"dic\"][\"contact\"]"
   ]
  },
  {
   "cell_type": "code",
   "execution_count": 37,
   "id": "749dcb35-0340-4c52-94e3-80843c68be74",
   "metadata": {},
   "outputs": [],
   "source": [
    "d6[\"email\"] = [\"sam@gmail.com\", 878499348]"
   ]
  },
  {
   "cell_type": "code",
   "execution_count": 38,
   "id": "499d26c3-3178-496c-ae66-8f21049b9a9e",
   "metadata": {},
   "outputs": [
    {
     "data": {
      "text/plain": [
       "{'list': [2, 3, 4],\n",
       " 'tuple': (2, 3, 4),\n",
       " 'set': {2, 3, 4},\n",
       " 'dic': {'name': 'msk', 'contact': 8798798768},\n",
       " 'email': ['sam@gmail.com', 878499348]}"
      ]
     },
     "execution_count": 38,
     "metadata": {},
     "output_type": "execute_result"
    }
   ],
   "source": [
    "d6"
   ]
  },
  {
   "cell_type": "code",
   "execution_count": 41,
   "id": "0f876dec-0500-4282-8386-af2daf3ee63a",
   "metadata": {},
   "outputs": [],
   "source": [
    "d6[\"list\"] = [88,99,88]  # repeacted key value replace the data with new one "
   ]
  },
  {
   "cell_type": "code",
   "execution_count": 40,
   "id": "99a0c6d9-c9f5-439e-b924-7f1ae6f5c4f2",
   "metadata": {},
   "outputs": [
    {
     "data": {
      "text/plain": [
       "{'list': [88, 99, 88],\n",
       " 'tuple': (2, 3, 4),\n",
       " 'set': {2, 3, 4},\n",
       " 'dic': {'name': 'msk', 'contact': 8798798768},\n",
       " 'email': ['sam@gmail.com', 878499348]}"
      ]
     },
     "execution_count": 40,
     "metadata": {},
     "output_type": "execute_result"
    }
   ],
   "source": [
    "d6"
   ]
  },
  {
   "cell_type": "code",
   "execution_count": 42,
   "id": "d5679c96-0d92-4048-a019-334a6bb6459a",
   "metadata": {},
   "outputs": [],
   "source": [
    "del d6[\"email\"]"
   ]
  },
  {
   "cell_type": "code",
   "execution_count": 43,
   "id": "f83b1216-6895-4a90-ab92-90ec227734fd",
   "metadata": {},
   "outputs": [
    {
     "data": {
      "text/plain": [
       "{'list': [88, 99, 88],\n",
       " 'tuple': (2, 3, 4),\n",
       " 'set': {2, 3, 4},\n",
       " 'dic': {'name': 'msk', 'contact': 8798798768}}"
      ]
     },
     "execution_count": 43,
     "metadata": {},
     "output_type": "execute_result"
    }
   ],
   "source": [
    "d6"
   ]
  },
  {
   "cell_type": "code",
   "execution_count": 44,
   "id": "c19b730a-5f64-43ac-9c68-74ad12750f39",
   "metadata": {},
   "outputs": [
    {
     "data": {
      "text/plain": [
       "dict_keys(['list', 'tuple', 'set', 'dic'])"
      ]
     },
     "execution_count": 44,
     "metadata": {},
     "output_type": "execute_result"
    }
   ],
   "source": [
    "d6.keys()"
   ]
  },
  {
   "cell_type": "code",
   "execution_count": 45,
   "id": "5bd53954-8552-4a89-b2ff-585a592c3cfd",
   "metadata": {},
   "outputs": [
    {
     "data": {
      "text/plain": [
       "['list', 'tuple', 'set', 'dic']"
      ]
     },
     "execution_count": 45,
     "metadata": {},
     "output_type": "execute_result"
    }
   ],
   "source": [
    "list(d6.keys())"
   ]
  },
  {
   "cell_type": "code",
   "execution_count": 46,
   "id": "449f5f40-b090-47b5-a427-7e75f1a47860",
   "metadata": {},
   "outputs": [
    {
     "data": {
      "text/plain": [
       "dict_values([[88, 99, 88], (2, 3, 4), {2, 3, 4}, {'name': 'msk', 'contact': 8798798768}])"
      ]
     },
     "execution_count": 46,
     "metadata": {},
     "output_type": "execute_result"
    }
   ],
   "source": [
    "d6.values()"
   ]
  },
  {
   "cell_type": "code",
   "execution_count": 47,
   "id": "231f6022-eeb2-419e-b62d-ef812ed13985",
   "metadata": {},
   "outputs": [
    {
     "data": {
      "text/plain": [
       "[[88, 99, 88], (2, 3, 4), {2, 3, 4}, {'name': 'msk', 'contact': 8798798768}]"
      ]
     },
     "execution_count": 47,
     "metadata": {},
     "output_type": "execute_result"
    }
   ],
   "source": [
    "list(d6.values())"
   ]
  },
  {
   "cell_type": "code",
   "execution_count": 48,
   "id": "b815e8e8-f7eb-49a5-b254-54847ed0d094",
   "metadata": {},
   "outputs": [
    {
     "data": {
      "text/plain": [
       "dict_items([('list', [88, 99, 88]), ('tuple', (2, 3, 4)), ('set', {2, 3, 4}), ('dic', {'name': 'msk', 'contact': 8798798768})])"
      ]
     },
     "execution_count": 48,
     "metadata": {},
     "output_type": "execute_result"
    }
   ],
   "source": [
    "d6.items()"
   ]
  },
  {
   "cell_type": "code",
   "execution_count": 49,
   "id": "b7c4405a-65c7-42a7-8f71-1daf14dff434",
   "metadata": {},
   "outputs": [
    {
     "data": {
      "text/plain": [
       "[('list', [88, 99, 88]),\n",
       " ('tuple', (2, 3, 4)),\n",
       " ('set', {2, 3, 4}),\n",
       " ('dic', {'name': 'msk', 'contact': 8798798768})]"
      ]
     },
     "execution_count": 49,
     "metadata": {},
     "output_type": "execute_result"
    }
   ],
   "source": [
    "list(d6.items())"
   ]
  },
  {
   "cell_type": "code",
   "execution_count": 50,
   "id": "f72dccb6-ac92-4b14-8b85-812c286830d9",
   "metadata": {},
   "outputs": [
    {
     "data": {
      "text/plain": [
       "(2, 3, 4)"
      ]
     },
     "execution_count": 50,
     "metadata": {},
     "output_type": "execute_result"
    }
   ],
   "source": [
    "d6.pop(\"tuple\")"
   ]
  },
  {
   "cell_type": "code",
   "execution_count": 51,
   "id": "99a7da59-3ed5-4d74-887b-7e84bb94e11c",
   "metadata": {},
   "outputs": [
    {
     "data": {
      "text/plain": [
       "{'list': [88, 99, 88],\n",
       " 'set': {2, 3, 4},\n",
       " 'dic': {'name': 'msk', 'contact': 8798798768}}"
      ]
     },
     "execution_count": 51,
     "metadata": {},
     "output_type": "execute_result"
    }
   ],
   "source": [
    "d6"
   ]
  },
  {
   "cell_type": "code",
   "execution_count": 53,
   "id": "fe37a743-3a3d-4029-826c-8b676ea1de26",
   "metadata": {},
   "outputs": [
    {
     "ename": "TypeError",
     "evalue": "pop expected at least 1 argument, got 0",
     "output_type": "error",
     "traceback": [
      "\u001b[0;31m---------------------------------------------------------------------------\u001b[0m",
      "\u001b[0;31mTypeError\u001b[0m                                 Traceback (most recent call last)",
      "Cell \u001b[0;32mIn[53], line 1\u001b[0m\n\u001b[0;32m----> 1\u001b[0m \u001b[43md6\u001b[49m\u001b[38;5;241;43m.\u001b[39;49m\u001b[43mpop\u001b[49m\u001b[43m(\u001b[49m\u001b[43m)\u001b[49m   \u001b[38;5;66;03m# null pop nver works becuase in dic , nothing the first and  last values\u001b[39;00m\n",
      "\u001b[0;31mTypeError\u001b[0m: pop expected at least 1 argument, got 0"
     ]
    }
   ],
   "source": [
    "d6.pop()   # null pop nver works becuase in dic , nothing the first and  last values"
   ]
  },
  {
   "cell_type": "code",
   "execution_count": 54,
   "id": "ffd29896-5137-4e6c-8051-786d07b7883b",
   "metadata": {},
   "outputs": [],
   "source": [
    "l = [1,2,3,4,5,6,7,7,8,8]"
   ]
  },
  {
   "cell_type": "code",
   "execution_count": 55,
   "id": "259b3039-3d1e-4dd8-bc23-cd3a26c6c2c3",
   "metadata": {},
   "outputs": [
    {
     "data": {
      "text/plain": [
       "[1, 2, 3, 4, 5, 6, 7, 7, 8, 8]"
      ]
     },
     "execution_count": 55,
     "metadata": {},
     "output_type": "execute_result"
    }
   ],
   "source": [
    "l"
   ]
  },
  {
   "cell_type": "code",
   "execution_count": 57,
   "id": "59614951-f39a-4b34-b73e-cfd3a0ad0882",
   "metadata": {},
   "outputs": [
    {
     "name": "stdout",
     "output_type": "stream",
     "text": [
      "1\n",
      "2\n",
      "3\n",
      "4\n",
      "5\n",
      "6\n",
      "7\n",
      "7\n",
      "8\n",
      "8\n"
     ]
    }
   ],
   "source": [
    "for i in l :\n",
    "    print(i)"
   ]
  },
  {
   "cell_type": "code",
   "execution_count": 58,
   "id": "9d7b5302-e9bf-4e19-b567-5db640838917",
   "metadata": {},
   "outputs": [
    {
     "name": "stdout",
     "output_type": "stream",
     "text": [
      "1\n",
      "2\n",
      "3\n",
      "4\n",
      "5\n",
      "6\n",
      "7\n",
      "7\n",
      "8\n",
      "8\n"
     ]
    }
   ],
   "source": [
    "for msk in l:\n",
    "    print(msk)"
   ]
  },
  {
   "cell_type": "code",
   "execution_count": 59,
   "id": "b5a3a827-3da0-4af3-8727-e974985cada7",
   "metadata": {},
   "outputs": [
    {
     "name": "stdout",
     "output_type": "stream",
     "text": [
      "2\n",
      "3\n",
      "4\n",
      "5\n",
      "6\n",
      "7\n",
      "8\n",
      "8\n",
      "9\n",
      "9\n"
     ]
    }
   ],
   "source": [
    "for i in l :\n",
    "    print(i + 1)"
   ]
  },
  {
   "cell_type": "code",
   "execution_count": 61,
   "id": "259a01c7-535c-4827-bc15-93091da3a98c",
   "metadata": {},
   "outputs": [
    {
     "name": "stdout",
     "output_type": "stream",
     "text": [
      "1\n",
      "2\n",
      "3\n",
      "4\n",
      "5\n",
      "6\n",
      "7\n",
      "7\n",
      "8\n",
      "8\n"
     ]
    },
    {
     "data": {
      "text/plain": [
       "[2, 3, 4, 5, 6, 7, 8, 8, 9, 9]"
      ]
     },
     "execution_count": 61,
     "metadata": {},
     "output_type": "execute_result"
    }
   ],
   "source": [
    "l1 = []\n",
    "for i in l :\n",
    "    print(i)\n",
    "    l1.append(i+1)\n",
    "l1"
   ]
  },
  {
   "cell_type": "code",
   "execution_count": 62,
   "id": "45c22278-d5cb-4584-aa48-d807d03983a2",
   "metadata": {},
   "outputs": [],
   "source": [
    "l = [\"and\",\"mdsj\",\"shhs\",\"kss\"] # uppercase"
   ]
  },
  {
   "cell_type": "code",
   "execution_count": 65,
   "id": "8c264295-853e-49ee-8d8c-e93acc131503",
   "metadata": {},
   "outputs": [
    {
     "name": "stdout",
     "output_type": "stream",
     "text": [
      "and\n",
      "mdsj\n",
      "shhs\n",
      "kss\n"
     ]
    },
    {
     "data": {
      "text/plain": [
       "['AND', 'MDSJ', 'SHHS', 'KSS']"
      ]
     },
     "execution_count": 65,
     "metadata": {},
     "output_type": "execute_result"
    }
   ],
   "source": [
    "l1 = []\n",
    "for i in l :\n",
    "    print(i)\n",
    "    l1.append(i.upper())\n",
    "l1"
   ]
  },
  {
   "cell_type": "code",
   "execution_count": 64,
   "id": "4e2a071e-e262-4266-9360-0d0a3578501d",
   "metadata": {},
   "outputs": [
    {
     "data": {
      "text/plain": [
       "['AND', 'MDSJ', 'SHHS', 'KSS']"
      ]
     },
     "execution_count": 64,
     "metadata": {},
     "output_type": "execute_result"
    }
   ],
   "source": [
    "l1"
   ]
  },
  {
   "cell_type": "code",
   "execution_count": 67,
   "id": "7182bd21-9f8e-42f0-b9a2-50e1045f4774",
   "metadata": {},
   "outputs": [],
   "source": [
    "l = [1,2,3,4,\"sudh\", \"msk\",344,2.34,\"abc\"]"
   ]
  },
  {
   "cell_type": "code",
   "execution_count": 68,
   "id": "30ce32bf-b30e-4adc-a276-69e2e23b4bc8",
   "metadata": {},
   "outputs": [
    {
     "data": {
      "text/plain": [
       "[1, 2, 3, 4, 'sudh', 'msk', 344, 2.34, 'abc']"
      ]
     },
     "execution_count": 68,
     "metadata": {},
     "output_type": "execute_result"
    }
   ],
   "source": [
    "l"
   ]
  },
  {
   "cell_type": "code",
   "execution_count": 70,
   "id": "65497b03-401e-4a3a-ba1d-37314b7078e9",
   "metadata": {},
   "outputs": [],
   "source": [
    "l1_num = []\n",
    "l2_str = []\n",
    "for i in l :\n",
    "    if type(i) == int or type(i) == float :\n",
    "        l1_num.append(i)\n",
    "    else:\n",
    "        l2_str.append(i)\n",
    "    "
   ]
  },
  {
   "cell_type": "code",
   "execution_count": 71,
   "id": "acc6e64c-2343-4488-943d-e885d5766804",
   "metadata": {},
   "outputs": [
    {
     "data": {
      "text/plain": [
       "[1, 2, 3, 4, 344, 2.34]"
      ]
     },
     "execution_count": 71,
     "metadata": {},
     "output_type": "execute_result"
    }
   ],
   "source": [
    "l1_num"
   ]
  },
  {
   "cell_type": "code",
   "execution_count": 72,
   "id": "0647d5b8-14cf-4f38-8659-07762ec59068",
   "metadata": {},
   "outputs": [
    {
     "data": {
      "text/plain": [
       "['sudh', 'msk', 'abc']"
      ]
     },
     "execution_count": 72,
     "metadata": {},
     "output_type": "execute_result"
    }
   ],
   "source": [
    "l2_str"
   ]
  },
  {
   "cell_type": "code",
   "execution_count": null,
   "id": "7e5ca5fc-3297-4779-852a-8a86e4ef0d91",
   "metadata": {},
   "outputs": [],
   "source": []
  }
 ],
 "metadata": {
  "kernelspec": {
   "display_name": "Python 3 (ipykernel)",
   "language": "python",
   "name": "python3"
  },
  "language_info": {
   "codemirror_mode": {
    "name": "ipython",
    "version": 3
   },
   "file_extension": ".py",
   "mimetype": "text/x-python",
   "name": "python",
   "nbconvert_exporter": "python",
   "pygments_lexer": "ipython3",
   "version": "3.10.8"
  }
 },
 "nbformat": 4,
 "nbformat_minor": 5
}
